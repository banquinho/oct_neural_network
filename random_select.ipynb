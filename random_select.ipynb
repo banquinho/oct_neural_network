{
 "cells": [
  {
   "cell_type": "code",
   "execution_count": 1,
   "metadata": {},
   "outputs": [
    {
     "name": "stdout",
     "output_type": "stream",
     "text": [
      "Device mapping:\n",
      "/job:localhost/replica:0/task:0/device:GPU:0 -> device: 0, name: GeForce RTX 2070 SUPER, pci bus id: 0000:01:00.0, compute capability: 7.5\n",
      "\n"
     ]
    }
   ],
   "source": [
    "import tensorflow as tf\n",
    "config = tf.compat.v1.ConfigProto()\n",
    "config.gpu_options.allow_growth = True\n",
    "config.log_device_placement = True\n",
    "sess = tf.compat.v1.Session(config=config)"
   ]
  },
  {
   "cell_type": "markdown",
   "metadata": {},
   "source": [
    "# First attempt at convnet"
   ]
  },
  {
   "cell_type": "markdown",
   "metadata": {},
   "source": [
    "## Pre-process images"
   ]
  },
  {
   "cell_type": "code",
   "execution_count": 2,
   "metadata": {},
   "outputs": [
    {
     "name": "stderr",
     "output_type": "stream",
     "text": [
      "Using TensorFlow backend.\n"
     ]
    }
   ],
   "source": [
    "import os, shutil\n",
    "from keras import layers\n",
    "from keras import models\n",
    "from keras import optimizers\n",
    "from tensorflow.keras.models import Sequential\n",
    "import matplotlib.pyplot as plt\n",
    "from keras.preprocessing.image import ImageDataGenerator"
   ]
  },
  {
   "cell_type": "code",
   "execution_count": 3,
   "metadata": {},
   "outputs": [],
   "source": [
    "# The path to the directory where the original\n",
    "# dataset was uncompressed\n",
    "original_normal_dir = r'.\\data\\OCT2017\\train\\NORMAL'\n",
    "original_cnv_dir = r'.\\data\\OCT2017\\train\\CNV'\n",
    "original_dme_dir = r'.\\data\\OCT2017\\train\\DME'\n",
    "original_drus_dir = r'.\\data\\OCT2017\\train\\DRUSEN'\n",
    "\n",
    "# The directory where we will\n",
    "# store our smaller dataset\n",
    "base_dir = r'.\\data\\OCT2017\\OCT2017'\n",
    "# os.mkdir(base_dir)\n",
    "\n",
    "# Directories for our training,\n",
    "# validation and test splits\n",
    "train_dir = os.path.join(base_dir, 'train')\n",
    "# os.mkdir(train_dir)\n",
    "validation_dir = os.path.join(base_dir, 'val')\n",
    "# os.mkdir(validation_dir)\n",
    "test_dir = os.path.join(base_dir, 'test')\n",
    "# os.mkdir(test_dir)\n",
    "\n",
    "# Directory with our training NORMAL pictures\n",
    "train_norm_dir = os.path.join(train_dir, 'NORMAL')\n",
    "# os.mkdir(train_norm_dir)\n",
    "\n",
    "# Directory with our training CNV pictures\n",
    "train_cnv_dir = os.path.join(train_dir, 'CNV')\n",
    "# os.mkdir(train_cnv_dir)\n",
    "\n",
    "# Directory with our training DME pictures\n",
    "train_dme_dir = os.path.join(train_dir, 'DME')\n",
    "# os.mkdir(train_dme_dir)\n",
    "\n",
    "# Directory with our training DRUSEN pictures\n",
    "train_drus_dir = os.path.join(train_dir, 'DRUSEN')\n",
    "# os.mkdir(train_drus_dir)\n",
    "\n",
    "# Directory with our validation NORMAL pictures\n",
    "validation_norm_dir = os.path.join(validation_dir, 'NORMAL')\n",
    "# os.mkdir(validation_norm_dir)\n",
    "\n",
    "# Directory with our validation CNV pictures\n",
    "validation_cnv_dir = os.path.join(validation_dir, 'CNV')\n",
    "# os.mkdir(validation_cnv_dir)\n",
    "\n",
    "# Directory with our validation DME pictures\n",
    "validation_dme_dir = os.path.join(validation_dir, 'DME')\n",
    "# os.mkdir(validation_dme_dir)\n",
    "\n",
    "# Directory with our validation DRUSEN pictures\n",
    "validation_drus_dir = os.path.join(validation_dir, 'DRUSEN')\n",
    "# os.mkdir(validation_drus_dir)\n",
    "\n",
    "# Directory with our test NORMAL pictures\n",
    "test_norm_dir = os.path.join(test_dir, 'NORMAL')\n",
    "# os.mkdir(test_norm_dir)\n",
    "\n",
    "# Directory with our test CNV pictures\n",
    "test_cnv_dir = os.path.join(test_dir, 'CNV')\n",
    "# os.mkdir(test_cnv_dir)\n",
    "\n",
    "# Directory with our test DME pictures\n",
    "test_dme_dir = os.path.join(test_dir, 'DME')\n",
    "# os.mkdir(test_dme_dir)\n",
    "\n",
    "# Directory with our test DRUSEN pictures\n",
    "test_drus_dir = os.path.join(test_dir, 'DRUSEN')\n",
    "# os.mkdir(test_drus_dir)"
   ]
  },
  {
   "cell_type": "code",
   "execution_count": 4,
   "metadata": {},
   "outputs": [],
   "source": [
    "train_datagen = ImageDataGenerator(rescale=1./255)\n",
    "test_datagen = ImageDataGenerator(rescale=1./255)"
   ]
  },
  {
   "cell_type": "markdown",
   "metadata": {},
   "source": [
    "** **\n",
    "\n",
    "## Batch = 32"
   ]
  },
  {
   "cell_type": "code",
   "execution_count": 5,
   "metadata": {},
   "outputs": [
    {
     "name": "stdout",
     "output_type": "stream",
     "text": [
      "Found 83484 images belonging to 4 classes.\n"
     ]
    }
   ],
   "source": [
    "train_gen = train_datagen.flow_from_directory(train_dir, target_size=(150, 150), batch_size=32, class_mode='categorical')"
   ]
  },
  {
   "cell_type": "code",
   "execution_count": 6,
   "metadata": {},
   "outputs": [
    {
     "name": "stdout",
     "output_type": "stream",
     "text": [
      "Found 32 images belonging to 4 classes.\n"
     ]
    }
   ],
   "source": [
    "val_gen = test_datagen.flow_from_directory(validation_dir, target_size=(150, 150), batch_size=32, class_mode='categorical')"
   ]
  },
  {
   "cell_type": "code",
   "execution_count": 7,
   "metadata": {},
   "outputs": [
    {
     "name": "stdout",
     "output_type": "stream",
     "text": [
      "data batch shape: (32, 150, 150, 3)\n",
      "labels batch shape: (32, 4)\n"
     ]
    }
   ],
   "source": [
    "for data_batch, labels_batch in train_gen:\n",
    "    print('data batch shape:', data_batch.shape)\n",
    "    print('labels batch shape:', labels_batch.shape)\n",
    "    break"
   ]
  },
  {
   "cell_type": "markdown",
   "metadata": {},
   "source": [
    "## Building the network\n",
    "\n",
    "`relu`, `sigmoid`"
   ]
  },
  {
   "cell_type": "code",
   "execution_count": 8,
   "metadata": {},
   "outputs": [],
   "source": [
    "model1 = models.Sequential()\n",
    "model1.add(layers.Conv2D(32, (3, 3), activation='relu',\n",
    "                        input_shape=(150, 150, 3)))\n",
    "model1.add(layers.MaxPooling2D((2, 2)))\n",
    "model1.add(layers.Conv2D(64, (3, 3), activation='relu'))\n",
    "model1.add(layers.MaxPooling2D((2, 2)))\n",
    "model1.add(layers.Conv2D(128, (3, 3), activation='relu'))\n",
    "model1.add(layers.MaxPooling2D((2, 2)))\n",
    "model1.add(layers.Conv2D(128, (3, 3), activation='relu'))\n",
    "model1.add(layers.MaxPooling2D((2, 2)))\n",
    "model1.add(layers.Flatten())\n",
    "model1.add(layers.Dense(512, activation='relu'))\n",
    "model1.add(layers.Dense(4, activation='sigmoid'))"
   ]
  },
  {
   "cell_type": "code",
   "execution_count": 9,
   "metadata": {},
   "outputs": [
    {
     "name": "stdout",
     "output_type": "stream",
     "text": [
      "Model: \"sequential_1\"\n",
      "_________________________________________________________________\n",
      "Layer (type)                 Output Shape              Param #   \n",
      "=================================================================\n",
      "conv2d_1 (Conv2D)            (None, 148, 148, 32)      896       \n",
      "_________________________________________________________________\n",
      "max_pooling2d_1 (MaxPooling2 (None, 74, 74, 32)        0         \n",
      "_________________________________________________________________\n",
      "conv2d_2 (Conv2D)            (None, 72, 72, 64)        18496     \n",
      "_________________________________________________________________\n",
      "max_pooling2d_2 (MaxPooling2 (None, 36, 36, 64)        0         \n",
      "_________________________________________________________________\n",
      "conv2d_3 (Conv2D)            (None, 34, 34, 128)       73856     \n",
      "_________________________________________________________________\n",
      "max_pooling2d_3 (MaxPooling2 (None, 17, 17, 128)       0         \n",
      "_________________________________________________________________\n",
      "conv2d_4 (Conv2D)            (None, 15, 15, 128)       147584    \n",
      "_________________________________________________________________\n",
      "max_pooling2d_4 (MaxPooling2 (None, 7, 7, 128)         0         \n",
      "_________________________________________________________________\n",
      "flatten_1 (Flatten)          (None, 6272)              0         \n",
      "_________________________________________________________________\n",
      "dense_1 (Dense)              (None, 512)               3211776   \n",
      "_________________________________________________________________\n",
      "dense_2 (Dense)              (None, 4)                 2052      \n",
      "=================================================================\n",
      "Total params: 3,454,660\n",
      "Trainable params: 3,454,660\n",
      "Non-trainable params: 0\n",
      "_________________________________________________________________\n"
     ]
    }
   ],
   "source": [
    "model1.summary()"
   ]
  },
  {
   "cell_type": "markdown",
   "metadata": {},
   "source": [
    "## Compilation"
   ]
  },
  {
   "cell_type": "code",
   "execution_count": 10,
   "metadata": {},
   "outputs": [],
   "source": [
    "model1.compile(loss='categorical_crossentropy', optimizer=optimizers.RMSprop(lr=1e-4), metrics=['acc'])"
   ]
  },
  {
   "cell_type": "markdown",
   "metadata": {},
   "source": [
    "## Fit the model with a batch generator"
   ]
  },
  {
   "cell_type": "code",
   "execution_count": 11,
   "metadata": {
    "scrolled": true
   },
   "outputs": [
    {
     "name": "stdout",
     "output_type": "stream",
     "text": [
      "Epoch 1/50\n",
      "128/128 [==============================] - 30s 235ms/step - loss: 1.2183 - acc: 0.4607 - val_loss: 1.4416 - val_acc: 0.4688\n",
      "Epoch 2/50\n",
      "128/128 [==============================] - 27s 213ms/step - loss: 1.1301 - acc: 0.5586 - val_loss: 1.2831 - val_acc: 0.5000\n",
      "Epoch 3/50\n",
      "128/128 [==============================] - 28s 218ms/step - loss: 1.0022 - acc: 0.6155 - val_loss: 1.1343 - val_acc: 0.5000\n",
      "Epoch 4/50\n",
      "128/128 [==============================] - 28s 215ms/step - loss: 0.8817 - acc: 0.6653 - val_loss: 0.9420 - val_acc: 0.5000\n",
      "Epoch 5/50\n",
      "128/128 [==============================] - 28s 217ms/step - loss: 0.8411 - acc: 0.6863 - val_loss: 0.9106 - val_acc: 0.5938\n",
      "Epoch 6/50\n",
      "128/128 [==============================] - 28s 215ms/step - loss: 0.7627 - acc: 0.7129 - val_loss: 1.0375 - val_acc: 0.5625\n",
      "Epoch 7/50\n",
      "128/128 [==============================] - 28s 220ms/step - loss: 0.7368 - acc: 0.7253 - val_loss: 0.8079 - val_acc: 0.5938\n",
      "Epoch 8/50\n",
      "128/128 [==============================] - 29s 223ms/step - loss: 0.6474 - acc: 0.7651 - val_loss: 1.0145 - val_acc: 0.5312\n",
      "Epoch 9/50\n",
      "128/128 [==============================] - 28s 222ms/step - loss: 0.6963 - acc: 0.7412 - val_loss: 0.7062 - val_acc: 0.6250\n",
      "Epoch 10/50\n",
      "128/128 [==============================] - 28s 218ms/step - loss: 0.6252 - acc: 0.7700 - val_loss: 0.8221 - val_acc: 0.6562\n",
      "Epoch 11/50\n",
      "128/128 [==============================] - 28s 220ms/step - loss: 0.5847 - acc: 0.7866 - val_loss: 0.7220 - val_acc: 0.6562\n",
      "Epoch 12/50\n",
      "128/128 [==============================] - 28s 219ms/step - loss: 0.5642 - acc: 0.7937 - val_loss: 0.4946 - val_acc: 0.8125\n",
      "Epoch 13/50\n",
      "128/128 [==============================] - 29s 227ms/step - loss: 0.5542 - acc: 0.7971 - val_loss: 0.4989 - val_acc: 0.8125\n",
      "Epoch 14/50\n",
      "128/128 [==============================] - 29s 229ms/step - loss: 0.5562 - acc: 0.7942 - val_loss: 0.4726 - val_acc: 0.8125\n",
      "Epoch 15/50\n",
      "128/128 [==============================] - 29s 225ms/step - loss: 0.5611 - acc: 0.7993 - val_loss: 0.5456 - val_acc: 0.7500\n",
      "Epoch 16/50\n",
      "128/128 [==============================] - 29s 225ms/step - loss: 0.5339 - acc: 0.8022 - val_loss: 0.4514 - val_acc: 0.8125\n",
      "Epoch 17/50\n",
      "128/128 [==============================] - 28s 218ms/step - loss: 0.4981 - acc: 0.8179 - val_loss: 0.5526 - val_acc: 0.8125\n",
      "Epoch 18/50\n",
      "128/128 [==============================] - 28s 218ms/step - loss: 0.5103 - acc: 0.8154 - val_loss: 0.3961 - val_acc: 0.8438\n",
      "Epoch 19/50\n",
      "128/128 [==============================] - 29s 225ms/step - loss: 0.4802 - acc: 0.8259 - val_loss: 0.6400 - val_acc: 0.7500\n",
      "Epoch 20/50\n",
      "128/128 [==============================] - 29s 228ms/step - loss: 0.4634 - acc: 0.8303 - val_loss: 0.6527 - val_acc: 0.7188\n",
      "Epoch 21/50\n",
      "128/128 [==============================] - 18s 143ms/step - loss: 0.4733 - acc: 0.8284 - val_loss: 0.5169 - val_acc: 0.7812\n",
      "Epoch 22/50\n",
      "128/128 [==============================] - 13s 104ms/step - loss: 0.4589 - acc: 0.8403 - val_loss: 0.3895 - val_acc: 0.8125\n",
      "Epoch 23/50\n",
      "128/128 [==============================] - 13s 105ms/step - loss: 0.4661 - acc: 0.8345 - val_loss: 0.4670 - val_acc: 0.8750\n",
      "Epoch 24/50\n",
      "128/128 [==============================] - 13s 103ms/step - loss: 0.4787 - acc: 0.8345 - val_loss: 0.4563 - val_acc: 0.7812\n",
      "Epoch 25/50\n",
      "128/128 [==============================] - 13s 103ms/step - loss: 0.4497 - acc: 0.8401 - val_loss: 0.3785 - val_acc: 0.8438\n",
      "Epoch 26/50\n",
      "128/128 [==============================] - 13s 104ms/step - loss: 0.4507 - acc: 0.8386 - val_loss: 0.5178 - val_acc: 0.7812\n",
      "Epoch 27/50\n",
      "128/128 [==============================] - 13s 104ms/step - loss: 0.4337 - acc: 0.8379 - val_loss: 0.5999 - val_acc: 0.7812\n",
      "Epoch 28/50\n",
      "128/128 [==============================] - 13s 103ms/step - loss: 0.4340 - acc: 0.8438 - val_loss: 0.3639 - val_acc: 0.8438\n",
      "Epoch 29/50\n",
      "128/128 [==============================] - 13s 103ms/step - loss: 0.4441 - acc: 0.8467 - val_loss: 0.4017 - val_acc: 0.7812\n",
      "Epoch 30/50\n",
      "128/128 [==============================] - 13s 102ms/step - loss: 0.4311 - acc: 0.8479 - val_loss: 0.4599 - val_acc: 0.8125\n",
      "Epoch 31/50\n",
      "128/128 [==============================] - 13s 103ms/step - loss: 0.4308 - acc: 0.8440 - val_loss: 0.4483 - val_acc: 0.8125\n",
      "Epoch 32/50\n",
      "128/128 [==============================] - 13s 104ms/step - loss: 0.4247 - acc: 0.8464 - val_loss: 0.3455 - val_acc: 0.8750\n",
      "Epoch 33/50\n",
      "128/128 [==============================] - 13s 103ms/step - loss: 0.4148 - acc: 0.8491 - val_loss: 0.4461 - val_acc: 0.7500\n",
      "Epoch 34/50\n",
      "128/128 [==============================] - 13s 103ms/step - loss: 0.4070 - acc: 0.8608 - val_loss: 0.3490 - val_acc: 0.8125\n",
      "Epoch 35/50\n",
      "128/128 [==============================] - 13s 103ms/step - loss: 0.3928 - acc: 0.8565 - val_loss: 0.5171 - val_acc: 0.8125\n",
      "Epoch 36/50\n",
      "128/128 [==============================] - 13s 103ms/step - loss: 0.3914 - acc: 0.8545 - val_loss: 0.3148 - val_acc: 0.8438\n",
      "Epoch 37/50\n",
      "128/128 [==============================] - 13s 104ms/step - loss: 0.3641 - acc: 0.8665 - val_loss: 0.4944 - val_acc: 0.8125\n",
      "Epoch 38/50\n",
      "128/128 [==============================] - 13s 104ms/step - loss: 0.3813 - acc: 0.8691 - val_loss: 0.4440 - val_acc: 0.8438\n",
      "Epoch 39/50\n",
      "128/128 [==============================] - 13s 102ms/step - loss: 0.3655 - acc: 0.8665 - val_loss: 0.2432 - val_acc: 0.9375\n",
      "Epoch 40/50\n",
      "128/128 [==============================] - 13s 103ms/step - loss: 0.3773 - acc: 0.8638 - val_loss: 0.2725 - val_acc: 0.8438\n",
      "Epoch 41/50\n",
      "128/128 [==============================] - 13s 104ms/step - loss: 0.3569 - acc: 0.8748 - val_loss: 0.2487 - val_acc: 0.8750\n",
      "Epoch 42/50\n",
      "128/128 [==============================] - 13s 102ms/step - loss: 0.3686 - acc: 0.8662 - val_loss: 0.2072 - val_acc: 0.9688\n",
      "Epoch 43/50\n",
      "128/128 [==============================] - 13s 104ms/step - loss: 0.3431 - acc: 0.8784 - val_loss: 0.3276 - val_acc: 0.8125\n",
      "Epoch 44/50\n",
      "128/128 [==============================] - 13s 101ms/step - loss: 0.3533 - acc: 0.8774 - val_loss: 0.1908 - val_acc: 0.8750\n",
      "Epoch 45/50\n",
      "128/128 [==============================] - 13s 103ms/step - loss: 0.3452 - acc: 0.8748 - val_loss: 0.2693 - val_acc: 0.8750\n",
      "Epoch 46/50\n",
      "128/128 [==============================] - 13s 103ms/step - loss: 0.3213 - acc: 0.8923 - val_loss: 0.2191 - val_acc: 0.9062\n",
      "Epoch 47/50\n",
      "128/128 [==============================] - 13s 103ms/step - loss: 0.3346 - acc: 0.8800 - val_loss: 0.2509 - val_acc: 0.9062\n",
      "Epoch 48/50\n",
      "128/128 [==============================] - 13s 104ms/step - loss: 0.3333 - acc: 0.8816 - val_loss: 0.2343 - val_acc: 0.9062\n",
      "Epoch 49/50\n",
      "128/128 [==============================] - 13s 102ms/step - loss: 0.3355 - acc: 0.8806 - val_loss: 0.1828 - val_acc: 0.9375\n",
      "Epoch 50/50\n",
      "128/128 [==============================] - 13s 103ms/step - loss: 0.3160 - acc: 0.8911 - val_loss: 0.2784 - val_acc: 0.8750\n",
      "Wall time: 16min 8s\n"
     ]
    }
   ],
   "source": [
    "%%time\n",
    "history = model1.fit_generator(train_gen, steps_per_epoch=128, epochs=50, validation_data=val_gen, validation_steps=50)"
   ]
  },
  {
   "cell_type": "code",
   "execution_count": 12,
   "metadata": {},
   "outputs": [],
   "source": [
    "model1.save('./models/random_samples/32_relu_sig.h5')"
   ]
  },
  {
   "cell_type": "code",
   "execution_count": 13,
   "metadata": {},
   "outputs": [
    {
     "name": "stdout",
     "output_type": "stream",
     "text": [
      "Found 968 images belonging to 4 classes.\n",
      "test acc: 0.8873966932296753\n"
     ]
    }
   ],
   "source": [
    "model1_test_gen=test_datagen.flow_from_directory(test_dir,\n",
    "                                                target_size=(150, 150),\n",
    "                                                batch_size=40,\n",
    "                                                class_mode='categorical'\n",
    "                                               )\n",
    "\n",
    "test_loss, test_acc = model1.evaluate_generator(model1_test_gen, steps=50)\n",
    "print('test acc:', test_acc)"
   ]
  },
  {
   "cell_type": "markdown",
   "metadata": {},
   "source": [
    "`tanh` vs `sigmoid`"
   ]
  },
  {
   "cell_type": "code",
   "execution_count": 14,
   "metadata": {},
   "outputs": [],
   "source": [
    "model2 = models.Sequential()\n",
    "model2.add(layers.Conv2D(32, (3, 3), activation='tanh',\n",
    "                        input_shape=(150, 150, 3)))\n",
    "model2.add(layers.MaxPooling2D((2, 2)))\n",
    "model2.add(layers.Conv2D(64, (3, 3), activation='tanh'))\n",
    "model2.add(layers.MaxPooling2D((2, 2)))\n",
    "model2.add(layers.Conv2D(128, (3, 3), activation='tanh'))\n",
    "model2.add(layers.MaxPooling2D((2, 2)))\n",
    "model2.add(layers.Conv2D(128, (3, 3), activation='tanh'))\n",
    "model2.add(layers.MaxPooling2D((2, 2)))\n",
    "model2.add(layers.Flatten())\n",
    "model2.add(layers.Dense(512, activation='tanh'))\n",
    "model2.add(layers.Dense(4, activation='sigmoid'))"
   ]
  },
  {
   "cell_type": "code",
   "execution_count": 15,
   "metadata": {},
   "outputs": [
    {
     "name": "stdout",
     "output_type": "stream",
     "text": [
      "Model: \"sequential_2\"\n",
      "_________________________________________________________________\n",
      "Layer (type)                 Output Shape              Param #   \n",
      "=================================================================\n",
      "conv2d_5 (Conv2D)            (None, 148, 148, 32)      896       \n",
      "_________________________________________________________________\n",
      "max_pooling2d_5 (MaxPooling2 (None, 74, 74, 32)        0         \n",
      "_________________________________________________________________\n",
      "conv2d_6 (Conv2D)            (None, 72, 72, 64)        18496     \n",
      "_________________________________________________________________\n",
      "max_pooling2d_6 (MaxPooling2 (None, 36, 36, 64)        0         \n",
      "_________________________________________________________________\n",
      "conv2d_7 (Conv2D)            (None, 34, 34, 128)       73856     \n",
      "_________________________________________________________________\n",
      "max_pooling2d_7 (MaxPooling2 (None, 17, 17, 128)       0         \n",
      "_________________________________________________________________\n",
      "conv2d_8 (Conv2D)            (None, 15, 15, 128)       147584    \n",
      "_________________________________________________________________\n",
      "max_pooling2d_8 (MaxPooling2 (None, 7, 7, 128)         0         \n",
      "_________________________________________________________________\n",
      "flatten_2 (Flatten)          (None, 6272)              0         \n",
      "_________________________________________________________________\n",
      "dense_3 (Dense)              (None, 512)               3211776   \n",
      "_________________________________________________________________\n",
      "dense_4 (Dense)              (None, 4)                 2052      \n",
      "=================================================================\n",
      "Total params: 3,454,660\n",
      "Trainable params: 3,454,660\n",
      "Non-trainable params: 0\n",
      "_________________________________________________________________\n"
     ]
    }
   ],
   "source": [
    "model2.summary()"
   ]
  },
  {
   "cell_type": "markdown",
   "metadata": {},
   "source": [
    "## Compilation"
   ]
  },
  {
   "cell_type": "code",
   "execution_count": 16,
   "metadata": {},
   "outputs": [],
   "source": [
    "model2.compile(loss='categorical_crossentropy', optimizer=optimizers.RMSprop(lr=1e-4), metrics=['acc'])"
   ]
  },
  {
   "cell_type": "markdown",
   "metadata": {},
   "source": [
    "## Fit the model with a batch generator"
   ]
  },
  {
   "cell_type": "code",
   "execution_count": 17,
   "metadata": {
    "scrolled": true
   },
   "outputs": [
    {
     "name": "stdout",
     "output_type": "stream",
     "text": [
      "Epoch 1/50\n",
      "128/128 [==============================] - 14s 110ms/step - loss: 1.1196 - acc: 0.5483 - val_loss: 1.5957 - val_acc: 0.4688\n",
      "Epoch 2/50\n",
      "128/128 [==============================] - 13s 103ms/step - loss: 0.9111 - acc: 0.6545 - val_loss: 0.9802 - val_acc: 0.5312\n",
      "Epoch 3/50\n",
      "128/128 [==============================] - 13s 103ms/step - loss: 0.8420 - acc: 0.6807 - val_loss: 0.9190 - val_acc: 0.5312\n",
      "Epoch 4/50\n",
      "128/128 [==============================] - 13s 104ms/step - loss: 0.7663 - acc: 0.7117 - val_loss: 0.8328 - val_acc: 0.6250\n",
      "Epoch 5/50\n",
      "128/128 [==============================] - 13s 103ms/step - loss: 0.7139 - acc: 0.7288 - val_loss: 0.6828 - val_acc: 0.7500\n",
      "Epoch 6/50\n",
      "128/128 [==============================] - 13s 103ms/step - loss: 0.6750 - acc: 0.7405 - val_loss: 0.7177 - val_acc: 0.7188\n",
      "Epoch 7/50\n",
      "128/128 [==============================] - 13s 103ms/step - loss: 0.6600 - acc: 0.7527 - val_loss: 0.5845 - val_acc: 0.8125\n",
      "Epoch 8/50\n",
      "128/128 [==============================] - 14s 106ms/step - loss: 0.6152 - acc: 0.7713 - val_loss: 0.8680 - val_acc: 0.6562\n",
      "Epoch 9/50\n",
      "128/128 [==============================] - 13s 104ms/step - loss: 0.6059 - acc: 0.7769 - val_loss: 0.6916 - val_acc: 0.7188\n",
      "Epoch 10/50\n",
      "128/128 [==============================] - 13s 104ms/step - loss: 0.5935 - acc: 0.7849 - val_loss: 0.7163 - val_acc: 0.6875\n",
      "Epoch 11/50\n",
      "128/128 [==============================] - 13s 104ms/step - loss: 0.5607 - acc: 0.7939 - val_loss: 0.5855 - val_acc: 0.7812\n",
      "Epoch 12/50\n",
      "128/128 [==============================] - 13s 104ms/step - loss: 0.5342 - acc: 0.8035 - val_loss: 0.5486 - val_acc: 0.8125\n",
      "Epoch 13/50\n",
      "128/128 [==============================] - 13s 103ms/step - loss: 0.5515 - acc: 0.7952 - val_loss: 0.5641 - val_acc: 0.8125\n",
      "Epoch 14/50\n",
      "128/128 [==============================] - 13s 103ms/step - loss: 0.5362 - acc: 0.8052 - val_loss: 0.4574 - val_acc: 0.8438\n",
      "Epoch 15/50\n",
      "128/128 [==============================] - 13s 104ms/step - loss: 0.5274 - acc: 0.8105 - val_loss: 0.5764 - val_acc: 0.7812\n",
      "Epoch 16/50\n",
      "128/128 [==============================] - 13s 103ms/step - loss: 0.5303 - acc: 0.8079 - val_loss: 0.4333 - val_acc: 0.8438\n",
      "Epoch 17/50\n",
      "128/128 [==============================] - 13s 104ms/step - loss: 0.5376 - acc: 0.8059 - val_loss: 0.4957 - val_acc: 0.8125\n",
      "Epoch 18/50\n",
      "128/128 [==============================] - 13s 103ms/step - loss: 0.5035 - acc: 0.8220 - val_loss: 0.4154 - val_acc: 0.8438\n",
      "Epoch 19/50\n",
      "128/128 [==============================] - 13s 103ms/step - loss: 0.4827 - acc: 0.8235 - val_loss: 0.4751 - val_acc: 0.8438\n",
      "Epoch 20/50\n",
      "128/128 [==============================] - 13s 103ms/step - loss: 0.4435 - acc: 0.8333 - val_loss: 0.4145 - val_acc: 0.8125\n",
      "Epoch 21/50\n",
      "128/128 [==============================] - 13s 103ms/step - loss: 0.4723 - acc: 0.8298 - val_loss: 0.3738 - val_acc: 0.8438\n",
      "Epoch 22/50\n",
      "128/128 [==============================] - 13s 102ms/step - loss: 0.4522 - acc: 0.8330 - val_loss: 0.4849 - val_acc: 0.7500\n",
      "Epoch 23/50\n",
      "128/128 [==============================] - 13s 102ms/step - loss: 0.4739 - acc: 0.8293 - val_loss: 0.3464 - val_acc: 0.8750\n",
      "Epoch 24/50\n",
      "128/128 [==============================] - 13s 102ms/step - loss: 0.4225 - acc: 0.8481 - val_loss: 0.3565 - val_acc: 0.8750\n",
      "Epoch 25/50\n",
      "128/128 [==============================] - 13s 102ms/step - loss: 0.4188 - acc: 0.8508 - val_loss: 0.3318 - val_acc: 0.9062\n",
      "Epoch 26/50\n",
      "128/128 [==============================] - 13s 102ms/step - loss: 0.4255 - acc: 0.8530 - val_loss: 0.3226 - val_acc: 0.9062\n",
      "Epoch 27/50\n",
      "128/128 [==============================] - 13s 103ms/step - loss: 0.4247 - acc: 0.8472 - val_loss: 0.3585 - val_acc: 0.8438\n",
      "Epoch 28/50\n",
      "128/128 [==============================] - 13s 102ms/step - loss: 0.4208 - acc: 0.8494 - val_loss: 0.4474 - val_acc: 0.8125\n",
      "Epoch 29/50\n",
      "128/128 [==============================] - 13s 101ms/step - loss: 0.4279 - acc: 0.8481 - val_loss: 0.3476 - val_acc: 0.8750\n",
      "Epoch 30/50\n",
      "128/128 [==============================] - 13s 102ms/step - loss: 0.4279 - acc: 0.8438 - val_loss: 0.4109 - val_acc: 0.8750\n",
      "Epoch 31/50\n",
      "128/128 [==============================] - 13s 102ms/step - loss: 0.4064 - acc: 0.8575 - val_loss: 0.2677 - val_acc: 0.9062\n",
      "Epoch 32/50\n",
      "128/128 [==============================] - 13s 102ms/step - loss: 0.3942 - acc: 0.8599 - val_loss: 0.2815 - val_acc: 0.8750\n",
      "Epoch 33/50\n",
      "128/128 [==============================] - 13s 101ms/step - loss: 0.3980 - acc: 0.8599 - val_loss: 0.3177 - val_acc: 0.9062\n",
      "Epoch 34/50\n",
      "128/128 [==============================] - 13s 102ms/step - loss: 0.4036 - acc: 0.8582 - val_loss: 0.3694 - val_acc: 0.8750\n",
      "Epoch 35/50\n",
      "128/128 [==============================] - 13s 102ms/step - loss: 0.3703 - acc: 0.8682 - val_loss: 0.2504 - val_acc: 0.9062\n",
      "Epoch 36/50\n",
      "128/128 [==============================] - 13s 102ms/step - loss: 0.3927 - acc: 0.8621 - val_loss: 0.2654 - val_acc: 0.9062\n",
      "Epoch 37/50\n",
      "128/128 [==============================] - 13s 102ms/step - loss: 0.3886 - acc: 0.8652 - val_loss: 0.3549 - val_acc: 0.8438\n",
      "Epoch 38/50\n",
      "128/128 [==============================] - 13s 101ms/step - loss: 0.3619 - acc: 0.8726 - val_loss: 0.2857 - val_acc: 0.9062\n",
      "Epoch 39/50\n",
      "128/128 [==============================] - 13s 101ms/step - loss: 0.3809 - acc: 0.8608 - val_loss: 0.3189 - val_acc: 0.8750\n",
      "Epoch 40/50\n",
      "128/128 [==============================] - 13s 102ms/step - loss: 0.3764 - acc: 0.8662 - val_loss: 0.1941 - val_acc: 0.9062\n",
      "Epoch 41/50\n",
      "128/128 [==============================] - 13s 103ms/step - loss: 0.3704 - acc: 0.8682 - val_loss: 0.1814 - val_acc: 0.9062\n",
      "Epoch 42/50\n",
      "128/128 [==============================] - 13s 104ms/step - loss: 0.3388 - acc: 0.8783 - val_loss: 0.2395 - val_acc: 0.9062\n",
      "Epoch 43/50\n",
      "128/128 [==============================] - 13s 104ms/step - loss: 0.3418 - acc: 0.8875 - val_loss: 0.2840 - val_acc: 0.8750\n",
      "Epoch 44/50\n",
      "128/128 [==============================] - 13s 103ms/step - loss: 0.3336 - acc: 0.8840 - val_loss: 0.2243 - val_acc: 0.9062\n",
      "Epoch 45/50\n",
      "128/128 [==============================] - 13s 103ms/step - loss: 0.3380 - acc: 0.8850 - val_loss: 0.2053 - val_acc: 0.8438\n",
      "Epoch 46/50\n",
      "128/128 [==============================] - 13s 103ms/step - loss: 0.3200 - acc: 0.8921 - val_loss: 0.1880 - val_acc: 0.9375\n",
      "Epoch 47/50\n",
      "128/128 [==============================] - 13s 103ms/step - loss: 0.3110 - acc: 0.8938 - val_loss: 0.1669 - val_acc: 0.9375\n",
      "Epoch 48/50\n",
      "128/128 [==============================] - 13s 104ms/step - loss: 0.3222 - acc: 0.8845 - val_loss: 0.1599 - val_acc: 0.9375\n",
      "Epoch 49/50\n",
      "128/128 [==============================] - 13s 102ms/step - loss: 0.3116 - acc: 0.8901 - val_loss: 0.1410 - val_acc: 0.9688\n",
      "Epoch 50/50\n",
      "128/128 [==============================] - 13s 103ms/step - loss: 0.3416 - acc: 0.8813 - val_loss: 0.1627 - val_acc: 0.9375\n",
      "Wall time: 10min 58s\n"
     ]
    }
   ],
   "source": [
    "%%time\n",
    "history2 = model2.fit_generator(train_gen, steps_per_epoch=128, epochs=50, validation_data=val_gen, validation_steps=50)"
   ]
  },
  {
   "cell_type": "code",
   "execution_count": 18,
   "metadata": {},
   "outputs": [],
   "source": [
    "model2.save('./models/random_samples/32_tanh_sig.h5')"
   ]
  },
  {
   "cell_type": "code",
   "execution_count": 19,
   "metadata": {},
   "outputs": [
    {
     "name": "stdout",
     "output_type": "stream",
     "text": [
      "Found 968 images belonging to 4 classes.\n",
      "test acc: 0.9266529083251953\n"
     ]
    }
   ],
   "source": [
    "model2_test_gen=test_datagen.flow_from_directory(test_dir,\n",
    "                                                target_size=(150, 150),\n",
    "                                                batch_size=40,\n",
    "                                                class_mode='categorical'\n",
    "                                               )\n",
    "\n",
    "test_loss, test_acc = model2.evaluate_generator(model2_test_gen, steps=50)\n",
    "print('test acc:', test_acc)"
   ]
  },
  {
   "cell_type": "markdown",
   "metadata": {},
   "source": [
    "`tanh` vs `softmax`"
   ]
  },
  {
   "cell_type": "code",
   "execution_count": 20,
   "metadata": {},
   "outputs": [],
   "source": [
    "model3 = models.Sequential()\n",
    "model3.add(layers.Conv2D(32, (3, 3), activation='tanh',\n",
    "                        input_shape=(150, 150, 3)))\n",
    "model3.add(layers.MaxPooling2D((2, 2)))\n",
    "model3.add(layers.Conv2D(64, (3, 3), activation='tanh'))\n",
    "model3.add(layers.MaxPooling2D((2, 2)))\n",
    "model3.add(layers.Conv2D(128, (3, 3), activation='tanh'))\n",
    "model3.add(layers.MaxPooling2D((2, 2)))\n",
    "model3.add(layers.Conv2D(128, (3, 3), activation='tanh'))\n",
    "model3.add(layers.MaxPooling2D((2, 2)))\n",
    "model3.add(layers.Flatten())\n",
    "model3.add(layers.Dense(512, activation='tanh'))\n",
    "model3.add(layers.Dense(4, activation='softmax'))"
   ]
  },
  {
   "cell_type": "code",
   "execution_count": 21,
   "metadata": {},
   "outputs": [
    {
     "name": "stdout",
     "output_type": "stream",
     "text": [
      "Model: \"sequential_3\"\n",
      "_________________________________________________________________\n",
      "Layer (type)                 Output Shape              Param #   \n",
      "=================================================================\n",
      "conv2d_9 (Conv2D)            (None, 148, 148, 32)      896       \n",
      "_________________________________________________________________\n",
      "max_pooling2d_9 (MaxPooling2 (None, 74, 74, 32)        0         \n",
      "_________________________________________________________________\n",
      "conv2d_10 (Conv2D)           (None, 72, 72, 64)        18496     \n",
      "_________________________________________________________________\n",
      "max_pooling2d_10 (MaxPooling (None, 36, 36, 64)        0         \n",
      "_________________________________________________________________\n",
      "conv2d_11 (Conv2D)           (None, 34, 34, 128)       73856     \n",
      "_________________________________________________________________\n",
      "max_pooling2d_11 (MaxPooling (None, 17, 17, 128)       0         \n",
      "_________________________________________________________________\n",
      "conv2d_12 (Conv2D)           (None, 15, 15, 128)       147584    \n",
      "_________________________________________________________________\n",
      "max_pooling2d_12 (MaxPooling (None, 7, 7, 128)         0         \n",
      "_________________________________________________________________\n",
      "flatten_3 (Flatten)          (None, 6272)              0         \n",
      "_________________________________________________________________\n",
      "dense_5 (Dense)              (None, 512)               3211776   \n",
      "_________________________________________________________________\n",
      "dense_6 (Dense)              (None, 4)                 2052      \n",
      "=================================================================\n",
      "Total params: 3,454,660\n",
      "Trainable params: 3,454,660\n",
      "Non-trainable params: 0\n",
      "_________________________________________________________________\n"
     ]
    }
   ],
   "source": [
    "model3.summary()"
   ]
  },
  {
   "cell_type": "markdown",
   "metadata": {},
   "source": [
    "## Compilation"
   ]
  },
  {
   "cell_type": "code",
   "execution_count": 22,
   "metadata": {},
   "outputs": [],
   "source": [
    "model3.compile(loss='categorical_crossentropy', optimizer=optimizers.RMSprop(lr=1e-4), metrics=['acc'])"
   ]
  },
  {
   "cell_type": "markdown",
   "metadata": {},
   "source": [
    "## Fit the model with a batch generator"
   ]
  },
  {
   "cell_type": "code",
   "execution_count": 23,
   "metadata": {
    "scrolled": true
   },
   "outputs": [
    {
     "name": "stdout",
     "output_type": "stream",
     "text": [
      "Epoch 1/50\n",
      "128/128 [==============================] - 14s 107ms/step - loss: 1.0997 - acc: 0.5671 - val_loss: 1.1102 - val_acc: 0.5312\n",
      "Epoch 2/50\n",
      "128/128 [==============================] - 13s 101ms/step - loss: 0.8821 - acc: 0.6704 - val_loss: 1.0887 - val_acc: 0.5000\n",
      "Epoch 3/50\n",
      "128/128 [==============================] - 13s 102ms/step - loss: 0.8057 - acc: 0.7004 - val_loss: 0.8791 - val_acc: 0.5625\n",
      "Epoch 4/50\n",
      "128/128 [==============================] - 13s 101ms/step - loss: 0.7379 - acc: 0.7280 - val_loss: 0.9255 - val_acc: 0.5938\n",
      "Epoch 5/50\n",
      "128/128 [==============================] - 13s 103ms/step - loss: 0.7048 - acc: 0.7383 - val_loss: 0.9095 - val_acc: 0.5938\n",
      "Epoch 6/50\n",
      "128/128 [==============================] - 13s 103ms/step - loss: 0.6411 - acc: 0.7517 - val_loss: 0.8608 - val_acc: 0.6875\n",
      "Epoch 7/50\n",
      "128/128 [==============================] - 13s 102ms/step - loss: 0.6122 - acc: 0.7744 - val_loss: 0.6884 - val_acc: 0.6875\n",
      "Epoch 8/50\n",
      "128/128 [==============================] - 13s 101ms/step - loss: 0.5992 - acc: 0.7688 - val_loss: 0.7380 - val_acc: 0.8125\n",
      "Epoch 9/50\n",
      "128/128 [==============================] - 13s 101ms/step - loss: 0.5642 - acc: 0.7964 - val_loss: 0.6887 - val_acc: 0.7500\n",
      "Epoch 10/50\n",
      "128/128 [==============================] - 13s 103ms/step - loss: 0.5938 - acc: 0.7867 - val_loss: 0.6878 - val_acc: 0.6875\n",
      "Epoch 11/50\n",
      "128/128 [==============================] - 13s 101ms/step - loss: 0.5181 - acc: 0.8162 - val_loss: 0.5598 - val_acc: 0.8125\n",
      "Epoch 12/50\n",
      "128/128 [==============================] - 13s 101ms/step - loss: 0.5497 - acc: 0.7988 - val_loss: 0.5172 - val_acc: 0.7812\n",
      "Epoch 13/50\n",
      "128/128 [==============================] - 14s 106ms/step - loss: 0.5152 - acc: 0.8174 - val_loss: 0.4773 - val_acc: 0.8125\n",
      "Epoch 14/50\n",
      "128/128 [==============================] - 14s 106ms/step - loss: 0.4870 - acc: 0.8262 - val_loss: 0.5297 - val_acc: 0.7500\n",
      "Epoch 15/50\n",
      "128/128 [==============================] - 26s 201ms/step - loss: 0.4937 - acc: 0.8276 - val_loss: 0.5558 - val_acc: 0.7812\n",
      "Epoch 16/50\n",
      "128/128 [==============================] - 26s 203ms/step - loss: 0.4775 - acc: 0.8254 - val_loss: 0.4263 - val_acc: 0.8750\n",
      "Epoch 17/50\n",
      "128/128 [==============================] - 26s 201ms/step - loss: 0.4870 - acc: 0.8264 - val_loss: 0.4000 - val_acc: 0.8750\n",
      "Epoch 18/50\n",
      "128/128 [==============================] - 26s 201ms/step - loss: 0.4766 - acc: 0.8301 - val_loss: 0.6164 - val_acc: 0.7188\n",
      "Epoch 19/50\n",
      "128/128 [==============================] - 26s 201ms/step - loss: 0.4866 - acc: 0.8230 - val_loss: 0.4220 - val_acc: 0.8750\n",
      "Epoch 20/50\n",
      "128/128 [==============================] - 26s 200ms/step - loss: 0.4603 - acc: 0.8381 - val_loss: 0.3174 - val_acc: 0.9062\n",
      "Epoch 21/50\n",
      "128/128 [==============================] - 23s 181ms/step - loss: 0.4497 - acc: 0.8372 - val_loss: 0.3980 - val_acc: 0.8438\n",
      "Epoch 22/50\n",
      "128/128 [==============================] - 22s 172ms/step - loss: 0.4197 - acc: 0.8506 - val_loss: 0.5355 - val_acc: 0.7812\n",
      "Epoch 23/50\n",
      "128/128 [==============================] - 22s 172ms/step - loss: 0.4228 - acc: 0.8491 - val_loss: 0.3406 - val_acc: 0.8750\n",
      "Epoch 24/50\n",
      "128/128 [==============================] - 22s 172ms/step - loss: 0.3948 - acc: 0.8594 - val_loss: 0.3870 - val_acc: 0.9062\n",
      "Epoch 25/50\n",
      "128/128 [==============================] - 22s 173ms/step - loss: 0.3983 - acc: 0.8513 - val_loss: 0.4204 - val_acc: 0.8125\n",
      "Epoch 26/50\n",
      "128/128 [==============================] - 22s 173ms/step - loss: 0.4118 - acc: 0.8538 - val_loss: 0.3394 - val_acc: 0.8750\n",
      "Epoch 27/50\n",
      "128/128 [==============================] - 22s 174ms/step - loss: 0.3911 - acc: 0.8667 - val_loss: 0.3034 - val_acc: 0.9062\n",
      "Epoch 28/50\n",
      "128/128 [==============================] - 23s 177ms/step - loss: 0.4010 - acc: 0.8574 - val_loss: 0.3532 - val_acc: 0.8750\n",
      "Epoch 29/50\n",
      "128/128 [==============================] - 23s 176ms/step - loss: 0.3968 - acc: 0.8640 - val_loss: 0.4083 - val_acc: 0.8438\n",
      "Epoch 30/50\n",
      "128/128 [==============================] - 23s 183ms/step - loss: 0.3885 - acc: 0.8674 - val_loss: 0.2705 - val_acc: 0.9375\n",
      "Epoch 31/50\n",
      "128/128 [==============================] - 23s 177ms/step - loss: 0.3966 - acc: 0.8606 - val_loss: 0.2574 - val_acc: 0.9375\n",
      "Epoch 32/50\n",
      "128/128 [==============================] - 22s 172ms/step - loss: 0.3795 - acc: 0.8679 - val_loss: 0.3376 - val_acc: 0.9375\n",
      "Epoch 33/50\n",
      "128/128 [==============================] - 22s 169ms/step - loss: 0.3571 - acc: 0.8728 - val_loss: 0.2846 - val_acc: 0.9375\n",
      "Epoch 34/50\n",
      "128/128 [==============================] - 22s 171ms/step - loss: 0.3541 - acc: 0.8772 - val_loss: 0.2334 - val_acc: 0.9375\n",
      "Epoch 35/50\n",
      "128/128 [==============================] - 22s 171ms/step - loss: 0.3903 - acc: 0.8644 - val_loss: 0.2233 - val_acc: 0.9375\n",
      "Epoch 36/50\n",
      "128/128 [==============================] - 22s 172ms/step - loss: 0.3529 - acc: 0.8743 - val_loss: 0.3805 - val_acc: 0.8438\n",
      "Epoch 37/50\n",
      "128/128 [==============================] - 22s 173ms/step - loss: 0.3586 - acc: 0.8723 - val_loss: 0.1950 - val_acc: 0.9375\n",
      "Epoch 38/50\n",
      "128/128 [==============================] - 22s 174ms/step - loss: 0.3728 - acc: 0.8687 - val_loss: 0.2654 - val_acc: 0.8750\n",
      "Epoch 39/50\n",
      "128/128 [==============================] - 22s 171ms/step - loss: 0.3566 - acc: 0.8716 - val_loss: 0.2782 - val_acc: 0.9375\n",
      "Epoch 40/50\n",
      "128/128 [==============================] - 22s 170ms/step - loss: 0.3584 - acc: 0.8687 - val_loss: 0.3226 - val_acc: 0.9062\n",
      "Epoch 41/50\n",
      "128/128 [==============================] - 20s 156ms/step - loss: 0.3244 - acc: 0.8914 - val_loss: 0.2843 - val_acc: 0.9375\n",
      "Epoch 42/50\n",
      "128/128 [==============================] - 13s 102ms/step - loss: 0.3096 - acc: 0.8984 - val_loss: 0.2039 - val_acc: 0.9375\n",
      "Epoch 43/50\n",
      "128/128 [==============================] - 13s 103ms/step - loss: 0.3245 - acc: 0.8833 - val_loss: 0.1852 - val_acc: 0.9375\n",
      "Epoch 44/50\n",
      "128/128 [==============================] - 13s 103ms/step - loss: 0.3317 - acc: 0.8877 - val_loss: 0.1953 - val_acc: 0.9375\n",
      "Epoch 45/50\n",
      "128/128 [==============================] - 13s 103ms/step - loss: 0.3245 - acc: 0.8831 - val_loss: 0.1758 - val_acc: 0.9375\n",
      "Epoch 46/50\n",
      "128/128 [==============================] - 13s 103ms/step - loss: 0.3042 - acc: 0.8997 - val_loss: 0.2099 - val_acc: 0.9375\n",
      "Epoch 47/50\n",
      "128/128 [==============================] - 13s 103ms/step - loss: 0.3116 - acc: 0.8955 - val_loss: 0.2186 - val_acc: 0.9375\n",
      "Epoch 48/50\n",
      "128/128 [==============================] - 13s 104ms/step - loss: 0.3214 - acc: 0.8918 - val_loss: 0.2611 - val_acc: 0.9062\n",
      "Epoch 49/50\n",
      "128/128 [==============================] - 13s 102ms/step - loss: 0.2844 - acc: 0.8994 - val_loss: 0.2145 - val_acc: 0.9375\n",
      "Epoch 50/50\n",
      "128/128 [==============================] - 13s 102ms/step - loss: 0.3067 - acc: 0.8892 - val_loss: 0.2189 - val_acc: 0.9375\n",
      "Wall time: 15min 22s\n"
     ]
    }
   ],
   "source": [
    "%%time\n",
    "history3 = model3.fit_generator(train_gen, steps_per_epoch=128, epochs=50, validation_data=val_gen, validation_steps=50)"
   ]
  },
  {
   "cell_type": "code",
   "execution_count": 24,
   "metadata": {},
   "outputs": [],
   "source": [
    "model3.save('./models/random_samples/32_tanh_sfm.h5')"
   ]
  },
  {
   "cell_type": "code",
   "execution_count": 25,
   "metadata": {},
   "outputs": [
    {
     "name": "stdout",
     "output_type": "stream",
     "text": [
      "Found 968 images belonging to 4 classes.\n",
      "test acc: 0.9431818127632141\n"
     ]
    }
   ],
   "source": [
    "model3_test_gen=test_datagen.flow_from_directory(test_dir,\n",
    "                                                target_size=(150, 150),\n",
    "                                                batch_size=40,\n",
    "                                                class_mode='categorical'\n",
    "                                               )\n",
    "\n",
    "test_loss, test_acc = model3.evaluate_generator(model3_test_gen, steps=50)\n",
    "print('test acc:', test_acc)"
   ]
  },
  {
   "cell_type": "markdown",
   "metadata": {},
   "source": [
    "`relu` vs `softmax`"
   ]
  },
  {
   "cell_type": "code",
   "execution_count": 26,
   "metadata": {},
   "outputs": [],
   "source": [
    "model4 = models.Sequential()\n",
    "model4.add(layers.Conv2D(32, (3, 3), activation='relu',\n",
    "                        input_shape=(150, 150, 3)))\n",
    "model4.add(layers.MaxPooling2D((2, 2)))\n",
    "model4.add(layers.Conv2D(64, (3, 3), activation='relu'))\n",
    "model4.add(layers.MaxPooling2D((2, 2)))\n",
    "model4.add(layers.Conv2D(128, (3, 3), activation='relu'))\n",
    "model4.add(layers.MaxPooling2D((2, 2)))\n",
    "model4.add(layers.Conv2D(128, (3, 3), activation='relu'))\n",
    "model4.add(layers.MaxPooling2D((2, 2)))\n",
    "model4.add(layers.Flatten())\n",
    "model4.add(layers.Dense(512, activation='relu'))\n",
    "model4.add(layers.Dense(4, activation='softmax'))"
   ]
  },
  {
   "cell_type": "code",
   "execution_count": 27,
   "metadata": {},
   "outputs": [
    {
     "name": "stdout",
     "output_type": "stream",
     "text": [
      "Model: \"sequential_4\"\n",
      "_________________________________________________________________\n",
      "Layer (type)                 Output Shape              Param #   \n",
      "=================================================================\n",
      "conv2d_13 (Conv2D)           (None, 148, 148, 32)      896       \n",
      "_________________________________________________________________\n",
      "max_pooling2d_13 (MaxPooling (None, 74, 74, 32)        0         \n",
      "_________________________________________________________________\n",
      "conv2d_14 (Conv2D)           (None, 72, 72, 64)        18496     \n",
      "_________________________________________________________________\n",
      "max_pooling2d_14 (MaxPooling (None, 36, 36, 64)        0         \n",
      "_________________________________________________________________\n",
      "conv2d_15 (Conv2D)           (None, 34, 34, 128)       73856     \n",
      "_________________________________________________________________\n",
      "max_pooling2d_15 (MaxPooling (None, 17, 17, 128)       0         \n",
      "_________________________________________________________________\n",
      "conv2d_16 (Conv2D)           (None, 15, 15, 128)       147584    \n",
      "_________________________________________________________________\n",
      "max_pooling2d_16 (MaxPooling (None, 7, 7, 128)         0         \n",
      "_________________________________________________________________\n",
      "flatten_4 (Flatten)          (None, 6272)              0         \n",
      "_________________________________________________________________\n",
      "dense_7 (Dense)              (None, 512)               3211776   \n",
      "_________________________________________________________________\n",
      "dense_8 (Dense)              (None, 4)                 2052      \n",
      "=================================================================\n",
      "Total params: 3,454,660\n",
      "Trainable params: 3,454,660\n",
      "Non-trainable params: 0\n",
      "_________________________________________________________________\n"
     ]
    }
   ],
   "source": [
    "model4.summary()"
   ]
  },
  {
   "cell_type": "markdown",
   "metadata": {},
   "source": [
    "## Compilation"
   ]
  },
  {
   "cell_type": "code",
   "execution_count": 28,
   "metadata": {},
   "outputs": [],
   "source": [
    "model4.compile(loss='categorical_crossentropy', optimizer=optimizers.RMSprop(lr=1e-4), metrics=['acc'])"
   ]
  },
  {
   "cell_type": "markdown",
   "metadata": {},
   "source": [
    "## Fit the model with a batch generator"
   ]
  },
  {
   "cell_type": "code",
   "execution_count": 29,
   "metadata": {
    "scrolled": true
   },
   "outputs": [
    {
     "name": "stdout",
     "output_type": "stream",
     "text": [
      "Epoch 1/50\n",
      "128/128 [==============================] - 14s 108ms/step - loss: 1.1737 - acc: 0.5183 - val_loss: 1.3046 - val_acc: 0.5000\n",
      "Epoch 2/50\n",
      "128/128 [==============================] - 13s 103ms/step - loss: 0.9712 - acc: 0.6377 - val_loss: 0.9939 - val_acc: 0.5312\n",
      "Epoch 3/50\n",
      "128/128 [==============================] - 13s 103ms/step - loss: 0.8749 - acc: 0.6606 - val_loss: 0.9108 - val_acc: 0.5625\n",
      "Epoch 4/50\n",
      "128/128 [==============================] - 13s 102ms/step - loss: 0.7944 - acc: 0.7056 - val_loss: 0.9061 - val_acc: 0.5938\n",
      "Epoch 5/50\n",
      "128/128 [==============================] - 13s 102ms/step - loss: 0.7175 - acc: 0.7327 - val_loss: 0.7303 - val_acc: 0.6250\n",
      "Epoch 6/50\n",
      "128/128 [==============================] - 13s 103ms/step - loss: 0.6510 - acc: 0.7534 - val_loss: 0.9405 - val_acc: 0.5938\n",
      "Epoch 7/50\n",
      "128/128 [==============================] - 13s 102ms/step - loss: 0.6408 - acc: 0.7603 - val_loss: 0.6867 - val_acc: 0.6562\n",
      "Epoch 8/50\n",
      "128/128 [==============================] - 13s 102ms/step - loss: 0.5811 - acc: 0.7900 - val_loss: 0.5836 - val_acc: 0.7188\n",
      "Epoch 9/50\n",
      "128/128 [==============================] - 13s 103ms/step - loss: 0.5855 - acc: 0.7861 - val_loss: 0.6000 - val_acc: 0.7188\n",
      "Epoch 10/50\n",
      "128/128 [==============================] - 13s 103ms/step - loss: 0.5728 - acc: 0.7869 - val_loss: 0.7557 - val_acc: 0.7500\n",
      "Epoch 11/50\n",
      "128/128 [==============================] - 13s 103ms/step - loss: 0.5331 - acc: 0.8030 - val_loss: 0.5654 - val_acc: 0.7812\n",
      "Epoch 12/50\n",
      "128/128 [==============================] - 13s 104ms/step - loss: 0.5124 - acc: 0.8130 - val_loss: 0.6478 - val_acc: 0.7188\n",
      "Epoch 13/50\n",
      "128/128 [==============================] - 13s 102ms/step - loss: 0.5196 - acc: 0.8113 - val_loss: 0.4643 - val_acc: 0.7812\n",
      "Epoch 14/50\n",
      "128/128 [==============================] - 13s 103ms/step - loss: 0.4902 - acc: 0.8257 - val_loss: 0.5687 - val_acc: 0.7500\n",
      "Epoch 15/50\n",
      "128/128 [==============================] - 13s 101ms/step - loss: 0.4865 - acc: 0.8206 - val_loss: 0.5960 - val_acc: 0.7500\n",
      "Epoch 16/50\n",
      "128/128 [==============================] - 13s 102ms/step - loss: 0.4964 - acc: 0.8176 - val_loss: 0.6731 - val_acc: 0.7500\n",
      "Epoch 17/50\n",
      "128/128 [==============================] - 13s 104ms/step - loss: 0.4837 - acc: 0.8257 - val_loss: 0.6082 - val_acc: 0.7500\n",
      "Epoch 18/50\n",
      "128/128 [==============================] - 13s 102ms/step - loss: 0.4670 - acc: 0.8342 - val_loss: 0.4525 - val_acc: 0.8125\n",
      "Epoch 19/50\n",
      "128/128 [==============================] - 13s 102ms/step - loss: 0.4517 - acc: 0.8357 - val_loss: 0.3786 - val_acc: 0.8125\n",
      "Epoch 20/50\n",
      "128/128 [==============================] - 13s 103ms/step - loss: 0.4709 - acc: 0.8311 - val_loss: 0.5617 - val_acc: 0.7812\n",
      "Epoch 21/50\n",
      "128/128 [==============================] - 13s 104ms/step - loss: 0.4314 - acc: 0.8476 - val_loss: 0.5473 - val_acc: 0.7500\n",
      "Epoch 22/50\n",
      "128/128 [==============================] - 13s 102ms/step - loss: 0.4218 - acc: 0.8442 - val_loss: 0.3616 - val_acc: 0.8125\n",
      "Epoch 23/50\n",
      "128/128 [==============================] - 13s 103ms/step - loss: 0.4293 - acc: 0.8501 - val_loss: 0.4835 - val_acc: 0.7500\n",
      "Epoch 24/50\n",
      "128/128 [==============================] - 13s 102ms/step - loss: 0.4240 - acc: 0.8450 - val_loss: 0.3098 - val_acc: 0.9062\n",
      "Epoch 25/50\n",
      "128/128 [==============================] - 13s 103ms/step - loss: 0.3978 - acc: 0.8572 - val_loss: 0.4073 - val_acc: 0.7812\n",
      "Epoch 26/50\n",
      "128/128 [==============================] - 13s 102ms/step - loss: 0.4228 - acc: 0.8496 - val_loss: 0.4789 - val_acc: 0.7812\n",
      "Epoch 27/50\n",
      "128/128 [==============================] - 13s 103ms/step - loss: 0.4083 - acc: 0.8516 - val_loss: 0.3102 - val_acc: 0.8125\n",
      "Epoch 28/50\n",
      "128/128 [==============================] - 13s 103ms/step - loss: 0.3786 - acc: 0.8591 - val_loss: 0.3099 - val_acc: 0.8438\n",
      "Epoch 29/50\n",
      "128/128 [==============================] - 13s 103ms/step - loss: 0.3956 - acc: 0.8579 - val_loss: 0.2658 - val_acc: 0.8438\n",
      "Epoch 30/50\n",
      "128/128 [==============================] - 13s 102ms/step - loss: 0.3829 - acc: 0.8655 - val_loss: 0.2706 - val_acc: 0.8438\n",
      "Epoch 31/50\n",
      "128/128 [==============================] - 13s 104ms/step - loss: 0.3587 - acc: 0.8738 - val_loss: 0.4716 - val_acc: 0.8125\n",
      "Epoch 32/50\n",
      "128/128 [==============================] - 13s 102ms/step - loss: 0.3668 - acc: 0.8701 - val_loss: 0.1652 - val_acc: 0.9688\n",
      "Epoch 33/50\n",
      "128/128 [==============================] - 13s 102ms/step - loss: 0.3510 - acc: 0.8677 - val_loss: 0.2740 - val_acc: 0.8438\n",
      "Epoch 34/50\n",
      "128/128 [==============================] - 13s 103ms/step - loss: 0.3611 - acc: 0.8713 - val_loss: 0.2636 - val_acc: 0.9062\n",
      "Epoch 35/50\n",
      "128/128 [==============================] - 13s 104ms/step - loss: 0.3328 - acc: 0.8833 - val_loss: 0.2240 - val_acc: 0.9062\n",
      "Epoch 36/50\n",
      "128/128 [==============================] - 13s 104ms/step - loss: 0.3667 - acc: 0.8716 - val_loss: 0.2849 - val_acc: 0.8438\n",
      "Epoch 37/50\n",
      "128/128 [==============================] - 13s 103ms/step - loss: 0.3358 - acc: 0.8872 - val_loss: 0.1613 - val_acc: 0.9688\n",
      "Epoch 38/50\n",
      "128/128 [==============================] - 13s 104ms/step - loss: 0.3418 - acc: 0.8760 - val_loss: 0.2960 - val_acc: 0.8438\n",
      "Epoch 39/50\n",
      "128/128 [==============================] - 13s 102ms/step - loss: 0.3272 - acc: 0.8816 - val_loss: 0.3016 - val_acc: 0.8750\n",
      "Epoch 40/50\n",
      "128/128 [==============================] - 13s 103ms/step - loss: 0.3472 - acc: 0.8787 - val_loss: 0.1881 - val_acc: 0.9375\n",
      "Epoch 41/50\n",
      "128/128 [==============================] - 13s 103ms/step - loss: 0.3282 - acc: 0.8894 - val_loss: 0.2465 - val_acc: 0.8750\n",
      "Epoch 42/50\n",
      "128/128 [==============================] - 13s 103ms/step - loss: 0.2921 - acc: 0.9004 - val_loss: 0.2557 - val_acc: 0.8438\n",
      "Epoch 43/50\n",
      "128/128 [==============================] - 13s 104ms/step - loss: 0.3094 - acc: 0.8914 - val_loss: 0.1561 - val_acc: 0.9062\n",
      "Epoch 44/50\n",
      "128/128 [==============================] - 13s 103ms/step - loss: 0.2969 - acc: 0.9001 - val_loss: 0.1929 - val_acc: 0.9375\n",
      "Epoch 45/50\n",
      "128/128 [==============================] - 13s 104ms/step - loss: 0.3061 - acc: 0.8938 - val_loss: 0.1866 - val_acc: 0.8438\n",
      "Epoch 46/50\n",
      "128/128 [==============================] - 13s 104ms/step - loss: 0.3227 - acc: 0.8831 - val_loss: 0.1366 - val_acc: 0.9688\n",
      "Epoch 47/50\n",
      "128/128 [==============================] - 13s 103ms/step - loss: 0.2920 - acc: 0.8921 - val_loss: 0.2130 - val_acc: 0.9062\n",
      "Epoch 48/50\n",
      "128/128 [==============================] - 13s 103ms/step - loss: 0.2968 - acc: 0.8972 - val_loss: 0.2560 - val_acc: 0.9062\n",
      "Epoch 49/50\n",
      "128/128 [==============================] - 13s 102ms/step - loss: 0.2889 - acc: 0.8926 - val_loss: 0.1207 - val_acc: 0.9688\n",
      "Epoch 50/50\n",
      "128/128 [==============================] - 13s 102ms/step - loss: 0.2920 - acc: 0.8940 - val_loss: 0.1334 - val_acc: 0.9688\n",
      "Wall time: 10min 58s\n"
     ]
    }
   ],
   "source": [
    "%%time\n",
    "history4 = model4.fit_generator(train_gen, steps_per_epoch=128, epochs=50, validation_data=val_gen, validation_steps=50)"
   ]
  },
  {
   "cell_type": "code",
   "execution_count": 30,
   "metadata": {},
   "outputs": [],
   "source": [
    "model4.save('./models/random_samples/32_relu_sfm.h5')"
   ]
  },
  {
   "cell_type": "code",
   "execution_count": 31,
   "metadata": {},
   "outputs": [
    {
     "name": "stdout",
     "output_type": "stream",
     "text": [
      "Found 968 images belonging to 4 classes.\n",
      "test acc: 0.9535123705863953\n"
     ]
    }
   ],
   "source": [
    "model4_test_gen=test_datagen.flow_from_directory(test_dir,\n",
    "                                                target_size=(150, 150),\n",
    "                                                batch_size=40,\n",
    "                                                class_mode='categorical'\n",
    "                                               )\n",
    "\n",
    "test_loss, test_acc = model4.evaluate_generator(model4_test_gen, steps=50)\n",
    "print('test acc:', test_acc)"
   ]
  },
  {
   "cell_type": "code",
   "execution_count": 35,
   "metadata": {},
   "outputs": [
    {
     "data": {
      "image/png": "[encoded data removed]",
      "text/plain": [
       "<Figure size 1440x720 with 1 Axes>"
      ]
     },
     "metadata": {
      "needs_background": "light"
     },
     "output_type": "display_data"
    }
   ],
   "source": [
    "%matplotlib inline\n",
    "\n",
    "plt.figure(figsize=(20,10))\n",
    "\n",
    "acc1 = history.history['acc']\n",
    "val_acc1 = history.history['val_acc']\n",
    "loss1 = history.history['loss']\n",
    "val_loss1 = history.history['val_loss']\n",
    "\n",
    "acc2 = history2.history['acc']\n",
    "val_acc2 = history2.history['val_acc']\n",
    "loss2 = history2.history['loss']\n",
    "val_loss2 = history2.history['val_loss']\n",
    "\n",
    "acc3 = history3.history['acc']\n",
    "val_acc3 = history3.history['val_acc']\n",
    "loss3 = history3.history['loss']\n",
    "val_loss3 = history3.history['val_loss']\n",
    "\n",
    "acc4 = history4.history['acc']\n",
    "val_acc4 = history4.history['val_acc']\n",
    "loss4 = history4.history['loss']\n",
    "val_loss4 = history4.history['val_loss']\n",
    "\n",
    "epochs = range(len(acc1))\n",
    "\n",
    "plt.plot(epochs, acc1, \"ro\", label=\"relu,sigmoid, Training acc\")\n",
    "plt.plot(epochs, val_acc1, \"r\", label=\"relu,sigmoid, Validation acc\")\n",
    "\n",
    "plt.plot(epochs, acc2, \"go\", label=\"tanh,sigmoid, Training acc\")\n",
    "plt.plot(epochs, val_acc2, \"g\", label=\"tanh,sigmoid, Validation acc\")\n",
    "\n",
    "plt.plot(epochs, acc3, \"mo\", label=\"tanh,softmax, Training acc\")\n",
    "plt.plot(epochs, val_acc3, \"m\", label=\"tanh,softmax, Validation acc\")\n",
    "\n",
    "plt.plot(epochs, acc4, \"bo\", label=\"relu,softmax, Training acc\")\n",
    "plt.plot(epochs, val_acc4, \"b\", label=\"relu,softmax, Validation acc\")\n",
    "\n",
    "plt.title('Random Samples Training and validation loss (Batch_size = 32)', fontsize=12)\n",
    "plt.legend(bbox_to_anchor=(1.05, 1), loc='upper left')\n",
    "\n",
    "plt.xlabel(\"Epochs\", fontsize=12)\n",
    "plt.ylabel(\"Accuracy\", fontsize=12)\n",
    "\n",
    "plt.show()"
   ]
  },
  {
   "cell_type": "code",
   "execution_count": null,
   "metadata": {},
   "outputs": [],
   "source": []
  },
  {
   "cell_type": "markdown",
   "metadata": {},
   "source": [
    "** **\n",
    "\n",
    "## Batch = 64"
   ]
  },
  {
   "cell_type": "code",
   "execution_count": 32,
   "metadata": {},
   "outputs": [
    {
     "name": "stdout",
     "output_type": "stream",
     "text": [
      "Found 83484 images belonging to 4 classes.\n"
     ]
    }
   ],
   "source": [
    "train_gen = train_datagen.flow_from_directory(train_dir, target_size=(150, 150), batch_size=64, class_mode='categorical')"
   ]
  },
  {
   "cell_type": "code",
   "execution_count": 33,
   "metadata": {},
   "outputs": [
    {
     "name": "stdout",
     "output_type": "stream",
     "text": [
      "Found 32 images belonging to 4 classes.\n"
     ]
    }
   ],
   "source": [
    "val_gen = test_datagen.flow_from_directory(validation_dir, target_size=(150, 150), batch_size=64, class_mode='categorical')"
   ]
  },
  {
   "cell_type": "code",
   "execution_count": 34,
   "metadata": {},
   "outputs": [
    {
     "name": "stdout",
     "output_type": "stream",
     "text": [
      "data batch shape: (64, 150, 150, 3)\n",
      "labels batch shape: (64, 4)\n"
     ]
    }
   ],
   "source": [
    "for data_batch, labels_batch in train_gen:\n",
    "    print('data batch shape:', data_batch.shape)\n",
    "    print('labels batch shape:', labels_batch.shape)\n",
    "    break"
   ]
  },
  {
   "cell_type": "markdown",
   "metadata": {},
   "source": [
    "## Building the network\n",
    "\n",
    "`relu`, `sigmoid`"
   ]
  },
  {
   "cell_type": "code",
   "execution_count": 35,
   "metadata": {},
   "outputs": [],
   "source": [
    "model1 = models.Sequential()\n",
    "model1.add(layers.Conv2D(32, (3, 3), activation='relu',\n",
    "                        input_shape=(150, 150, 3)))\n",
    "model1.add(layers.MaxPooling2D((2, 2)))\n",
    "model1.add(layers.Conv2D(64, (3, 3), activation='relu'))\n",
    "model1.add(layers.MaxPooling2D((2, 2)))\n",
    "model1.add(layers.Conv2D(128, (3, 3), activation='relu'))\n",
    "model1.add(layers.MaxPooling2D((2, 2)))\n",
    "model1.add(layers.Conv2D(128, (3, 3), activation='relu'))\n",
    "model1.add(layers.MaxPooling2D((2, 2)))\n",
    "model1.add(layers.Flatten())\n",
    "model1.add(layers.Dense(512, activation='relu'))\n",
    "model1.add(layers.Dense(4, activation='sigmoid'))"
   ]
  },
  {
   "cell_type": "code",
   "execution_count": 36,
   "metadata": {},
   "outputs": [
    {
     "name": "stdout",
     "output_type": "stream",
     "text": [
      "Model: \"sequential_5\"\n",
      "_________________________________________________________________\n",
      "Layer (type)                 Output Shape              Param #   \n",
      "=================================================================\n",
      "conv2d_17 (Conv2D)           (None, 148, 148, 32)      896       \n",
      "_________________________________________________________________\n",
      "max_pooling2d_17 (MaxPooling (None, 74, 74, 32)        0         \n",
      "_________________________________________________________________\n",
      "conv2d_18 (Conv2D)           (None, 72, 72, 64)        18496     \n",
      "_________________________________________________________________\n",
      "max_pooling2d_18 (MaxPooling (None, 36, 36, 64)        0         \n",
      "_________________________________________________________________\n",
      "conv2d_19 (Conv2D)           (None, 34, 34, 128)       73856     \n",
      "_________________________________________________________________\n",
      "max_pooling2d_19 (MaxPooling (None, 17, 17, 128)       0         \n",
      "_________________________________________________________________\n",
      "conv2d_20 (Conv2D)           (None, 15, 15, 128)       147584    \n",
      "_________________________________________________________________\n",
      "max_pooling2d_20 (MaxPooling (None, 7, 7, 128)         0         \n",
      "_________________________________________________________________\n",
      "flatten_5 (Flatten)          (None, 6272)              0         \n",
      "_________________________________________________________________\n",
      "dense_9 (Dense)              (None, 512)               3211776   \n",
      "_________________________________________________________________\n",
      "dense_10 (Dense)             (None, 4)                 2052      \n",
      "=================================================================\n",
      "Total params: 3,454,660\n",
      "Trainable params: 3,454,660\n",
      "Non-trainable params: 0\n",
      "_________________________________________________________________\n"
     ]
    }
   ],
   "source": [
    "model1.summary()"
   ]
  },
  {
   "cell_type": "markdown",
   "metadata": {},
   "source": [
    "## Compilation"
   ]
  },
  {
   "cell_type": "code",
   "execution_count": 37,
   "metadata": {},
   "outputs": [],
   "source": [
    "model1.compile(loss='categorical_crossentropy', optimizer=optimizers.RMSprop(lr=1e-4), metrics=['acc'])"
   ]
  },
  {
   "cell_type": "markdown",
   "metadata": {},
   "source": [
    "## Fit the model with a batch generator"
   ]
  },
  {
   "cell_type": "code",
   "execution_count": 38,
   "metadata": {
    "scrolled": true
   },
   "outputs": [
    {
     "name": "stdout",
     "output_type": "stream",
     "text": [
      "Epoch 1/50\n",
      "128/128 [==============================] - 22s 170ms/step - loss: 1.1597 - acc: 0.5282 - val_loss: 1.1580 - val_acc: 0.5000\n",
      "Epoch 2/50\n",
      "128/128 [==============================] - 20s 159ms/step - loss: 0.9821 - acc: 0.6251 - val_loss: 1.1146 - val_acc: 0.5000\n",
      "Epoch 3/50\n",
      "128/128 [==============================] - 20s 159ms/step - loss: 0.8475 - acc: 0.6829 - val_loss: 0.9339 - val_acc: 0.5312\n",
      "Epoch 4/50\n",
      "128/128 [==============================] - 20s 159ms/step - loss: 0.7713 - acc: 0.7115 - val_loss: 0.9901 - val_acc: 0.5000\n",
      "Epoch 5/50\n",
      "128/128 [==============================] - 20s 159ms/step - loss: 0.6974 - acc: 0.7384 - val_loss: 0.7370 - val_acc: 0.6250\n",
      "Epoch 6/50\n",
      "128/128 [==============================] - 20s 159ms/step - loss: 0.6473 - acc: 0.7628 - val_loss: 0.7657 - val_acc: 0.6562\n",
      "Epoch 7/50\n",
      "128/128 [==============================] - 21s 166ms/step - loss: 0.6116 - acc: 0.7740 - val_loss: 0.5654 - val_acc: 0.7812\n",
      "Epoch 8/50\n",
      "128/128 [==============================] - 22s 168ms/step - loss: 0.5916 - acc: 0.7885 - val_loss: 0.7192 - val_acc: 0.6875\n",
      "Epoch 9/50\n",
      "128/128 [==============================] - 22s 170ms/step - loss: 0.5504 - acc: 0.7952 - val_loss: 0.6136 - val_acc: 0.7812\n",
      "Epoch 10/50\n",
      "128/128 [==============================] - 20s 160ms/step - loss: 0.5245 - acc: 0.8121 - val_loss: 0.7142 - val_acc: 0.7188\n",
      "Epoch 11/50\n",
      "128/128 [==============================] - 21s 161ms/step - loss: 0.5028 - acc: 0.8164 - val_loss: 0.7070 - val_acc: 0.7500\n",
      "Epoch 12/50\n",
      "128/128 [==============================] - 21s 161ms/step - loss: 0.5241 - acc: 0.8118 - val_loss: 0.4638 - val_acc: 0.8438\n",
      "Epoch 13/50\n",
      "128/128 [==============================] - 21s 161ms/step - loss: 0.5098 - acc: 0.8190 - val_loss: 0.5001 - val_acc: 0.7812\n",
      "Epoch 14/50\n",
      "128/128 [==============================] - 21s 164ms/step - loss: 0.4805 - acc: 0.8308 - val_loss: 0.5444 - val_acc: 0.7500\n",
      "Epoch 15/50\n",
      "128/128 [==============================] - 21s 161ms/step - loss: 0.4716 - acc: 0.8282 - val_loss: 0.4429 - val_acc: 0.7812\n",
      "Epoch 16/50\n",
      "128/128 [==============================] - 21s 162ms/step - loss: 0.4650 - acc: 0.8339 - val_loss: 0.5861 - val_acc: 0.7812\n",
      "Epoch 17/50\n",
      "128/128 [==============================] - 21s 161ms/step - loss: 0.4456 - acc: 0.8390 - val_loss: 0.5075 - val_acc: 0.7812\n",
      "Epoch 18/50\n",
      "128/128 [==============================] - 21s 162ms/step - loss: 0.4292 - acc: 0.8444 - val_loss: 0.3762 - val_acc: 0.8750\n",
      "Epoch 19/50\n",
      "128/128 [==============================] - 21s 161ms/step - loss: 0.4398 - acc: 0.8458 - val_loss: 0.3746 - val_acc: 0.8125\n",
      "Epoch 20/50\n",
      "128/128 [==============================] - 21s 160ms/step - loss: 0.4421 - acc: 0.8380 - val_loss: 0.4897 - val_acc: 0.7500\n",
      "Epoch 21/50\n",
      "128/128 [==============================] - 20s 159ms/step - loss: 0.4169 - acc: 0.8462 - val_loss: 0.3873 - val_acc: 0.8438\n",
      "Epoch 22/50\n",
      "128/128 [==============================] - 21s 160ms/step - loss: 0.4145 - acc: 0.8496 - val_loss: 0.5261 - val_acc: 0.7500\n",
      "Epoch 23/50\n",
      "128/128 [==============================] - 21s 160ms/step - loss: 0.4158 - acc: 0.8513 - val_loss: 0.4491 - val_acc: 0.8125\n",
      "Epoch 24/50\n",
      "128/128 [==============================] - 20s 159ms/step - loss: 0.3994 - acc: 0.8568 - val_loss: 0.3677 - val_acc: 0.8125\n",
      "Epoch 25/50\n",
      "128/128 [==============================] - 21s 161ms/step - loss: 0.3820 - acc: 0.8656 - val_loss: 0.3893 - val_acc: 0.8125\n",
      "Epoch 26/50\n",
      "128/128 [==============================] - 20s 159ms/step - loss: 0.3928 - acc: 0.8612 - val_loss: 0.3472 - val_acc: 0.9062\n",
      "Epoch 27/50\n",
      "128/128 [==============================] - 21s 161ms/step - loss: 0.3921 - acc: 0.8585 - val_loss: 0.5555 - val_acc: 0.7500\n",
      "Epoch 28/50\n",
      "128/128 [==============================] - 20s 159ms/step - loss: 0.3898 - acc: 0.8610 - val_loss: 0.3190 - val_acc: 0.8125\n",
      "Epoch 29/50\n",
      "128/128 [==============================] - 20s 159ms/step - loss: 0.3593 - acc: 0.8704 - val_loss: 0.4183 - val_acc: 0.8125\n",
      "Epoch 30/50\n",
      "128/128 [==============================] - 20s 159ms/step - loss: 0.3673 - acc: 0.8684 - val_loss: 0.3558 - val_acc: 0.8125\n",
      "Epoch 31/50\n",
      "128/128 [==============================] - 21s 161ms/step - loss: 0.3695 - acc: 0.8702 - val_loss: 0.3976 - val_acc: 0.7500\n",
      "Epoch 32/50\n",
      "128/128 [==============================] - 20s 159ms/step - loss: 0.3423 - acc: 0.8785 - val_loss: 0.2698 - val_acc: 0.8438\n",
      "Epoch 33/50\n",
      "128/128 [==============================] - 21s 160ms/step - loss: 0.3452 - acc: 0.8789 - val_loss: 0.3271 - val_acc: 0.8125\n",
      "Epoch 34/50\n",
      "128/128 [==============================] - 20s 159ms/step - loss: 0.3409 - acc: 0.8804 - val_loss: 0.2020 - val_acc: 0.9062\n",
      "Epoch 35/50\n",
      "128/128 [==============================] - 21s 160ms/step - loss: 0.3255 - acc: 0.8856 - val_loss: 0.3306 - val_acc: 0.8438\n",
      "Epoch 36/50\n",
      "128/128 [==============================] - 21s 160ms/step - loss: 0.3251 - acc: 0.8833 - val_loss: 0.3243 - val_acc: 0.8438\n",
      "Epoch 37/50\n",
      "128/128 [==============================] - 21s 161ms/step - loss: 0.3281 - acc: 0.8840 - val_loss: 0.2892 - val_acc: 0.9062\n",
      "Epoch 38/50\n",
      "128/128 [==============================] - 21s 160ms/step - loss: 0.3199 - acc: 0.8894 - val_loss: 0.2481 - val_acc: 0.8750\n",
      "Epoch 39/50\n",
      "128/128 [==============================] - 20s 159ms/step - loss: 0.3094 - acc: 0.8899 - val_loss: 0.2140 - val_acc: 0.8438\n",
      "Epoch 40/50\n",
      "128/128 [==============================] - 20s 159ms/step - loss: 0.3118 - acc: 0.8927 - val_loss: 0.3042 - val_acc: 0.8438\n",
      "Epoch 41/50\n",
      "128/128 [==============================] - 21s 161ms/step - loss: 0.2928 - acc: 0.8961 - val_loss: 0.2061 - val_acc: 0.9062\n",
      "Epoch 42/50\n",
      "128/128 [==============================] - 20s 159ms/step - loss: 0.2915 - acc: 0.8966 - val_loss: 0.2053 - val_acc: 0.9062\n",
      "Epoch 43/50\n",
      "128/128 [==============================] - 20s 159ms/step - loss: 0.2852 - acc: 0.9001 - val_loss: 0.2629 - val_acc: 0.9062\n",
      "Epoch 44/50\n",
      "128/128 [==============================] - 21s 160ms/step - loss: 0.2882 - acc: 0.9030 - val_loss: 0.1681 - val_acc: 0.9062\n",
      "Epoch 45/50\n",
      "128/128 [==============================] - 21s 161ms/step - loss: 0.2860 - acc: 0.8967 - val_loss: 0.1780 - val_acc: 0.9062\n",
      "Epoch 46/50\n",
      "128/128 [==============================] - 20s 159ms/step - loss: 0.2739 - acc: 0.9047 - val_loss: 0.0993 - val_acc: 0.9688\n",
      "Epoch 47/50\n",
      "128/128 [==============================] - 21s 160ms/step - loss: 0.2786 - acc: 0.9055 - val_loss: 0.1238 - val_acc: 0.9688\n",
      "Epoch 48/50\n",
      "128/128 [==============================] - 20s 159ms/step - loss: 0.2684 - acc: 0.9099 - val_loss: 0.1876 - val_acc: 0.9062\n",
      "Epoch 49/50\n",
      "128/128 [==============================] - 20s 159ms/step - loss: 0.2683 - acc: 0.9059 - val_loss: 0.0923 - val_acc: 1.0000\n",
      "Epoch 50/50\n",
      "128/128 [==============================] - 20s 159ms/step - loss: 0.2574 - acc: 0.9094 - val_loss: 0.1357 - val_acc: 0.9375\n",
      "Wall time: 17min 9s\n"
     ]
    }
   ],
   "source": [
    "%%time\n",
    "history = model1.fit_generator(train_gen, steps_per_epoch=128, epochs=50, validation_data=val_gen, validation_steps=50)"
   ]
  },
  {
   "cell_type": "code",
   "execution_count": 39,
   "metadata": {},
   "outputs": [],
   "source": [
    "model1.save('./models/random_samples/64_relu_sig.h5')"
   ]
  },
  {
   "cell_type": "code",
   "execution_count": 40,
   "metadata": {},
   "outputs": [
    {
     "name": "stdout",
     "output_type": "stream",
     "text": [
      "Found 968 images belonging to 4 classes.\n",
      "test acc: 0.94111567735672\n"
     ]
    }
   ],
   "source": [
    "model1_test_gen=test_datagen.flow_from_directory(test_dir,\n",
    "                                                target_size=(150, 150),\n",
    "                                                batch_size=40,\n",
    "                                                class_mode='categorical'\n",
    "                                               )\n",
    "\n",
    "test_loss, test_acc = model1.evaluate_generator(model1_test_gen, steps=50)\n",
    "print('test acc:', test_acc)"
   ]
  },
  {
   "cell_type": "markdown",
   "metadata": {},
   "source": [
    "`tanh` vs `sigmoid`"
   ]
  },
  {
   "cell_type": "code",
   "execution_count": 41,
   "metadata": {},
   "outputs": [],
   "source": [
    "model2 = models.Sequential()\n",
    "model2.add(layers.Conv2D(32, (3, 3), activation='tanh',\n",
    "                        input_shape=(150, 150, 3)))\n",
    "model2.add(layers.MaxPooling2D((2, 2)))\n",
    "model2.add(layers.Conv2D(64, (3, 3), activation='tanh'))\n",
    "model2.add(layers.MaxPooling2D((2, 2)))\n",
    "model2.add(layers.Conv2D(128, (3, 3), activation='tanh'))\n",
    "model2.add(layers.MaxPooling2D((2, 2)))\n",
    "model2.add(layers.Conv2D(128, (3, 3), activation='tanh'))\n",
    "model2.add(layers.MaxPooling2D((2, 2)))\n",
    "model2.add(layers.Flatten())\n",
    "model2.add(layers.Dense(512, activation='tanh'))\n",
    "model2.add(layers.Dense(4, activation='sigmoid'))"
   ]
  },
  {
   "cell_type": "code",
   "execution_count": 42,
   "metadata": {},
   "outputs": [
    {
     "name": "stdout",
     "output_type": "stream",
     "text": [
      "Model: \"sequential_6\"\n",
      "_________________________________________________________________\n",
      "Layer (type)                 Output Shape              Param #   \n",
      "=================================================================\n",
      "conv2d_21 (Conv2D)           (None, 148, 148, 32)      896       \n",
      "_________________________________________________________________\n",
      "max_pooling2d_21 (MaxPooling (None, 74, 74, 32)        0         \n",
      "_________________________________________________________________\n",
      "conv2d_22 (Conv2D)           (None, 72, 72, 64)        18496     \n",
      "_________________________________________________________________\n",
      "max_pooling2d_22 (MaxPooling (None, 36, 36, 64)        0         \n",
      "_________________________________________________________________\n",
      "conv2d_23 (Conv2D)           (None, 34, 34, 128)       73856     \n",
      "_________________________________________________________________\n",
      "max_pooling2d_23 (MaxPooling (None, 17, 17, 128)       0         \n",
      "_________________________________________________________________\n",
      "conv2d_24 (Conv2D)           (None, 15, 15, 128)       147584    \n",
      "_________________________________________________________________\n",
      "max_pooling2d_24 (MaxPooling (None, 7, 7, 128)         0         \n",
      "_________________________________________________________________\n",
      "flatten_6 (Flatten)          (None, 6272)              0         \n",
      "_________________________________________________________________\n",
      "dense_11 (Dense)             (None, 512)               3211776   \n",
      "_________________________________________________________________\n",
      "dense_12 (Dense)             (None, 4)                 2052      \n",
      "=================================================================\n",
      "Total params: 3,454,660\n",
      "Trainable params: 3,454,660\n",
      "Non-trainable params: 0\n",
      "_________________________________________________________________\n"
     ]
    }
   ],
   "source": [
    "model2.summary()"
   ]
  },
  {
   "cell_type": "markdown",
   "metadata": {},
   "source": [
    "## Compilation"
   ]
  },
  {
   "cell_type": "code",
   "execution_count": 43,
   "metadata": {},
   "outputs": [],
   "source": [
    "model2.compile(loss='categorical_crossentropy', optimizer=optimizers.RMSprop(lr=1e-4), metrics=['acc'])"
   ]
  },
  {
   "cell_type": "markdown",
   "metadata": {},
   "source": [
    "## Fit the model with a batch generator"
   ]
  },
  {
   "cell_type": "code",
   "execution_count": 44,
   "metadata": {
    "scrolled": true
   },
   "outputs": [
    {
     "name": "stdout",
     "output_type": "stream",
     "text": [
      "Epoch 1/50\n",
      "128/128 [==============================] - 22s 170ms/step - loss: 1.1059 - acc: 0.5565 - val_loss: 1.0181 - val_acc: 0.5000\n",
      "Epoch 2/50\n",
      "128/128 [==============================] - 21s 160ms/step - loss: 0.8608 - acc: 0.6755 - val_loss: 1.0551 - val_acc: 0.5312\n",
      "Epoch 3/50\n",
      "128/128 [==============================] - 20s 159ms/step - loss: 0.7822 - acc: 0.7051 - val_loss: 0.9012 - val_acc: 0.5625\n",
      "Epoch 4/50\n",
      "128/128 [==============================] - 20s 159ms/step - loss: 0.7222 - acc: 0.7255 - val_loss: 0.9192 - val_acc: 0.6250\n",
      "Epoch 5/50\n",
      "128/128 [==============================] - 21s 160ms/step - loss: 0.6697 - acc: 0.7502 - val_loss: 0.6869 - val_acc: 0.7188\n",
      "Epoch 6/50\n",
      "128/128 [==============================] - 20s 159ms/step - loss: 0.6333 - acc: 0.7637 - val_loss: 0.7147 - val_acc: 0.6562\n",
      "Epoch 7/50\n",
      "128/128 [==============================] - 20s 159ms/step - loss: 0.6023 - acc: 0.7789 - val_loss: 0.6677 - val_acc: 0.7188\n",
      "Epoch 8/50\n",
      "128/128 [==============================] - 21s 161ms/step - loss: 0.5724 - acc: 0.7896 - val_loss: 0.6583 - val_acc: 0.7500\n",
      "Epoch 9/50\n",
      "128/128 [==============================] - 20s 159ms/step - loss: 0.5558 - acc: 0.7916 - val_loss: 0.4941 - val_acc: 0.7500\n",
      "Epoch 10/50\n",
      "128/128 [==============================] - 21s 161ms/step - loss: 0.5357 - acc: 0.8033 - val_loss: 0.4296 - val_acc: 0.8125\n",
      "Epoch 11/50\n",
      "128/128 [==============================] - 21s 160ms/step - loss: 0.5132 - acc: 0.8132 - val_loss: 0.5039 - val_acc: 0.7812\n",
      "Epoch 12/50\n",
      "128/128 [==============================] - 21s 160ms/step - loss: 0.4886 - acc: 0.8235 - val_loss: 0.5368 - val_acc: 0.7812\n",
      "Epoch 13/50\n",
      "128/128 [==============================] - 20s 160ms/step - loss: 0.4873 - acc: 0.8235 - val_loss: 0.5029 - val_acc: 0.7812\n",
      "Epoch 14/50\n",
      "128/128 [==============================] - 20s 159ms/step - loss: 0.4777 - acc: 0.8219 - val_loss: 0.4854 - val_acc: 0.7812\n",
      "Epoch 15/50\n",
      "128/128 [==============================] - 21s 160ms/step - loss: 0.4572 - acc: 0.8331 - val_loss: 0.3356 - val_acc: 0.8750\n",
      "Epoch 16/50\n",
      "128/128 [==============================] - 20s 159ms/step - loss: 0.4681 - acc: 0.8320 - val_loss: 0.4495 - val_acc: 0.7812\n",
      "Epoch 17/50\n",
      "128/128 [==============================] - 20s 158ms/step - loss: 0.4420 - acc: 0.8410 - val_loss: 0.3643 - val_acc: 0.8438\n",
      "Epoch 18/50\n",
      "128/128 [==============================] - 20s 159ms/step - loss: 0.4619 - acc: 0.8346 - val_loss: 0.3921 - val_acc: 0.8125\n",
      "Epoch 19/50\n",
      "128/128 [==============================] - 20s 159ms/step - loss: 0.4334 - acc: 0.8464 - val_loss: 0.3204 - val_acc: 0.8438\n",
      "Epoch 20/50\n",
      "128/128 [==============================] - 20s 159ms/step - loss: 0.4136 - acc: 0.8511 - val_loss: 0.3322 - val_acc: 0.8750\n",
      "Epoch 21/50\n",
      "128/128 [==============================] - 20s 160ms/step - loss: 0.4065 - acc: 0.8560 - val_loss: 0.3373 - val_acc: 0.8125\n",
      "Epoch 22/50\n",
      "128/128 [==============================] - 20s 159ms/step - loss: 0.3975 - acc: 0.8583 - val_loss: 0.3238 - val_acc: 0.8125\n",
      "Epoch 23/50\n",
      "128/128 [==============================] - 20s 159ms/step - loss: 0.3892 - acc: 0.8601 - val_loss: 0.1985 - val_acc: 0.9375\n",
      "Epoch 24/50\n",
      "128/128 [==============================] - 20s 159ms/step - loss: 0.3720 - acc: 0.8659 - val_loss: 0.3289 - val_acc: 0.8750\n",
      "Epoch 25/50\n",
      "128/128 [==============================] - 20s 159ms/step - loss: 0.3769 - acc: 0.8695 - val_loss: 0.2542 - val_acc: 0.8750\n",
      "Epoch 26/50\n",
      "128/128 [==============================] - 20s 159ms/step - loss: 0.3710 - acc: 0.8665 - val_loss: 0.2001 - val_acc: 0.9062\n",
      "Epoch 27/50\n",
      "128/128 [==============================] - 20s 160ms/step - loss: 0.3809 - acc: 0.8663 - val_loss: 0.2943 - val_acc: 0.8750\n",
      "Epoch 28/50\n",
      "128/128 [==============================] - 20s 159ms/step - loss: 0.3593 - acc: 0.8768 - val_loss: 0.2317 - val_acc: 0.8750\n",
      "Epoch 29/50\n",
      "128/128 [==============================] - 21s 160ms/step - loss: 0.3612 - acc: 0.8744 - val_loss: 0.2763 - val_acc: 0.8125\n",
      "Epoch 30/50\n",
      "128/128 [==============================] - 20s 159ms/step - loss: 0.3451 - acc: 0.8771 - val_loss: 0.1682 - val_acc: 0.9062\n",
      "Epoch 31/50\n",
      "128/128 [==============================] - 21s 160ms/step - loss: 0.3356 - acc: 0.8809 - val_loss: 0.1503 - val_acc: 0.9688\n",
      "Epoch 32/50\n",
      "128/128 [==============================] - 20s 159ms/step - loss: 0.3143 - acc: 0.8877 - val_loss: 0.2693 - val_acc: 0.8750\n",
      "Epoch 33/50\n",
      "128/128 [==============================] - 20s 159ms/step - loss: 0.3272 - acc: 0.8860 - val_loss: 0.2159 - val_acc: 0.8750\n",
      "Epoch 34/50\n",
      "128/128 [==============================] - 20s 159ms/step - loss: 0.3274 - acc: 0.8855 - val_loss: 0.1821 - val_acc: 0.9062\n",
      "Epoch 35/50\n",
      "128/128 [==============================] - 20s 159ms/step - loss: 0.3078 - acc: 0.8925 - val_loss: 0.2048 - val_acc: 0.8438\n",
      "Epoch 36/50\n",
      "128/128 [==============================] - 20s 159ms/step - loss: 0.3146 - acc: 0.8899 - val_loss: 0.1392 - val_acc: 0.9375\n",
      "Epoch 37/50\n",
      "128/128 [==============================] - 21s 160ms/step - loss: 0.3082 - acc: 0.8950 - val_loss: 0.1511 - val_acc: 0.9375\n",
      "Epoch 38/50\n",
      "128/128 [==============================] - 21s 160ms/step - loss: 0.3143 - acc: 0.8885 - val_loss: 0.1294 - val_acc: 0.9375\n",
      "Epoch 39/50\n",
      "128/128 [==============================] - 21s 160ms/step - loss: 0.3184 - acc: 0.8885 - val_loss: 0.1076 - val_acc: 0.9688\n",
      "Epoch 40/50\n",
      "128/128 [==============================] - 20s 159ms/step - loss: 0.3161 - acc: 0.8885 - val_loss: 0.1334 - val_acc: 0.9375\n",
      "Epoch 41/50\n",
      "128/128 [==============================] - 20s 159ms/step - loss: 0.2843 - acc: 0.9023 - val_loss: 0.1339 - val_acc: 0.9688\n",
      "Epoch 42/50\n",
      "128/128 [==============================] - 20s 159ms/step - loss: 0.2749 - acc: 0.9044 - val_loss: 0.1669 - val_acc: 0.9062\n",
      "Epoch 43/50\n",
      "128/128 [==============================] - 20s 160ms/step - loss: 0.2695 - acc: 0.9055 - val_loss: 0.1535 - val_acc: 0.9375\n",
      "Epoch 44/50\n",
      "128/128 [==============================] - 20s 159ms/step - loss: 0.2709 - acc: 0.9055 - val_loss: 0.1264 - val_acc: 0.9688\n",
      "Epoch 45/50\n",
      "128/128 [==============================] - 20s 159ms/step - loss: 0.2745 - acc: 0.9036 - val_loss: 0.1539 - val_acc: 0.9062\n",
      "Epoch 46/50\n",
      "128/128 [==============================] - 21s 160ms/step - loss: 0.2719 - acc: 0.9025 - val_loss: 0.1283 - val_acc: 0.9375\n",
      "Epoch 47/50\n",
      "128/128 [==============================] - 20s 159ms/step - loss: 0.2755 - acc: 0.9036 - val_loss: 0.1318 - val_acc: 0.9062\n",
      "Epoch 48/50\n",
      "128/128 [==============================] - 20s 159ms/step - loss: 0.2679 - acc: 0.9067 - val_loss: 0.1122 - val_acc: 0.9688\n",
      "Epoch 49/50\n",
      "128/128 [==============================] - 20s 159ms/step - loss: 0.2735 - acc: 0.9011 - val_loss: 0.1055 - val_acc: 0.9688\n",
      "Epoch 50/50\n",
      "128/128 [==============================] - 20s 159ms/step - loss: 0.2571 - acc: 0.9098 - val_loss: 0.0902 - val_acc: 1.0000\n",
      "Wall time: 17min 2s\n"
     ]
    }
   ],
   "source": [
    "%%time\n",
    "history2 = model2.fit_generator(train_gen, steps_per_epoch=128, epochs=50, validation_data=val_gen, validation_steps=50)"
   ]
  },
  {
   "cell_type": "code",
   "execution_count": 45,
   "metadata": {},
   "outputs": [],
   "source": [
    "model2.save('./models/random_samples/64_tanh_sig.h5')"
   ]
  },
  {
   "cell_type": "code",
   "execution_count": 46,
   "metadata": {},
   "outputs": [
    {
     "name": "stdout",
     "output_type": "stream",
     "text": [
      "Found 968 images belonging to 4 classes.\n",
      "test acc: 0.942148745059967\n"
     ]
    }
   ],
   "source": [
    "model2_test_gen=test_datagen.flow_from_directory(test_dir,\n",
    "                                                target_size=(150, 150),\n",
    "                                                batch_size=40,\n",
    "                                                class_mode='categorical'\n",
    "                                               )\n",
    "\n",
    "test_loss, test_acc = model2.evaluate_generator(model2_test_gen, steps=50)\n",
    "print('test acc:', test_acc)"
   ]
  },
  {
   "cell_type": "markdown",
   "metadata": {},
   "source": [
    "`tanh` vs `softmax`"
   ]
  },
  {
   "cell_type": "code",
   "execution_count": 47,
   "metadata": {},
   "outputs": [],
   "source": [
    "model3 = models.Sequential()\n",
    "model3.add(layers.Conv2D(32, (3, 3), activation='tanh',\n",
    "                        input_shape=(150, 150, 3)))\n",
    "model3.add(layers.MaxPooling2D((2, 2)))\n",
    "model3.add(layers.Conv2D(64, (3, 3), activation='tanh'))\n",
    "model3.add(layers.MaxPooling2D((2, 2)))\n",
    "model3.add(layers.Conv2D(128, (3, 3), activation='tanh'))\n",
    "model3.add(layers.MaxPooling2D((2, 2)))\n",
    "model3.add(layers.Conv2D(128, (3, 3), activation='tanh'))\n",
    "model3.add(layers.MaxPooling2D((2, 2)))\n",
    "model3.add(layers.Flatten())\n",
    "model3.add(layers.Dense(512, activation='tanh'))\n",
    "model3.add(layers.Dense(4, activation='softmax'))"
   ]
  },
  {
   "cell_type": "code",
   "execution_count": 48,
   "metadata": {},
   "outputs": [
    {
     "name": "stdout",
     "output_type": "stream",
     "text": [
      "Model: \"sequential_7\"\n",
      "_________________________________________________________________\n",
      "Layer (type)                 Output Shape              Param #   \n",
      "=================================================================\n",
      "conv2d_25 (Conv2D)           (None, 148, 148, 32)      896       \n",
      "_________________________________________________________________\n",
      "max_pooling2d_25 (MaxPooling (None, 74, 74, 32)        0         \n",
      "_________________________________________________________________\n",
      "conv2d_26 (Conv2D)           (None, 72, 72, 64)        18496     \n",
      "_________________________________________________________________\n",
      "max_pooling2d_26 (MaxPooling (None, 36, 36, 64)        0         \n",
      "_________________________________________________________________\n",
      "conv2d_27 (Conv2D)           (None, 34, 34, 128)       73856     \n",
      "_________________________________________________________________\n",
      "max_pooling2d_27 (MaxPooling (None, 17, 17, 128)       0         \n",
      "_________________________________________________________________\n",
      "conv2d_28 (Conv2D)           (None, 15, 15, 128)       147584    \n",
      "_________________________________________________________________\n",
      "max_pooling2d_28 (MaxPooling (None, 7, 7, 128)         0         \n",
      "_________________________________________________________________\n",
      "flatten_7 (Flatten)          (None, 6272)              0         \n",
      "_________________________________________________________________\n",
      "dense_13 (Dense)             (None, 512)               3211776   \n",
      "_________________________________________________________________\n",
      "dense_14 (Dense)             (None, 4)                 2052      \n",
      "=================================================================\n",
      "Total params: 3,454,660\n",
      "Trainable params: 3,454,660\n",
      "Non-trainable params: 0\n",
      "_________________________________________________________________\n"
     ]
    }
   ],
   "source": [
    "model3.summary()"
   ]
  },
  {
   "cell_type": "markdown",
   "metadata": {},
   "source": [
    "## Compilation"
   ]
  },
  {
   "cell_type": "code",
   "execution_count": 49,
   "metadata": {},
   "outputs": [],
   "source": [
    "model3.compile(loss='categorical_crossentropy', optimizer=optimizers.RMSprop(lr=1e-4), metrics=['acc'])"
   ]
  },
  {
   "cell_type": "markdown",
   "metadata": {},
   "source": [
    "## Fit the model with a batch generator"
   ]
  },
  {
   "cell_type": "code",
   "execution_count": 50,
   "metadata": {
    "scrolled": true
   },
   "outputs": [
    {
     "name": "stdout",
     "output_type": "stream",
     "text": [
      "Epoch 1/50\n",
      "128/128 [==============================] - 22s 170ms/step - loss: 1.0852 - acc: 0.5684 - val_loss: 1.3305 - val_acc: 0.5312\n",
      "Epoch 2/50\n",
      "128/128 [==============================] - 20s 159ms/step - loss: 0.8434 - acc: 0.6826 - val_loss: 0.8818 - val_acc: 0.5938\n",
      "Epoch 3/50\n",
      "128/128 [==============================] - 20s 158ms/step - loss: 0.7696 - acc: 0.7058 - val_loss: 0.8358 - val_acc: 0.5938\n",
      "Epoch 4/50\n",
      "128/128 [==============================] - 20s 159ms/step - loss: 0.6906 - acc: 0.7396 - val_loss: 0.6967 - val_acc: 0.6875\n",
      "Epoch 5/50\n",
      "128/128 [==============================] - 20s 159ms/step - loss: 0.6448 - acc: 0.7614 - val_loss: 0.8318 - val_acc: 0.5938\n",
      "Epoch 6/50\n",
      "128/128 [==============================] - 20s 158ms/step - loss: 0.6054 - acc: 0.7761 - val_loss: 0.7508 - val_acc: 0.6562\n",
      "Epoch 7/50\n",
      "128/128 [==============================] - 20s 158ms/step - loss: 0.5872 - acc: 0.7884 - val_loss: 0.6364 - val_acc: 0.6875\n",
      "Epoch 8/50\n",
      "128/128 [==============================] - 20s 158ms/step - loss: 0.5701 - acc: 0.7930 - val_loss: 0.5471 - val_acc: 0.7500\n",
      "Epoch 9/50\n",
      "128/128 [==============================] - 20s 156ms/step - loss: 0.5366 - acc: 0.8030 - val_loss: 0.5831 - val_acc: 0.7812\n",
      "Epoch 10/50\n",
      "128/128 [==============================] - 21s 160ms/step - loss: 0.5206 - acc: 0.8103 - val_loss: 0.5017 - val_acc: 0.7812\n",
      "Epoch 11/50\n",
      "128/128 [==============================] - 20s 159ms/step - loss: 0.4809 - acc: 0.8253 - val_loss: 0.6558 - val_acc: 0.7500\n",
      "Epoch 12/50\n",
      "128/128 [==============================] - 20s 159ms/step - loss: 0.4878 - acc: 0.8257 - val_loss: 0.5171 - val_acc: 0.8125\n",
      "Epoch 13/50\n",
      "128/128 [==============================] - 20s 158ms/step - loss: 0.4744 - acc: 0.8267 - val_loss: 0.4082 - val_acc: 0.8438\n",
      "Epoch 14/50\n",
      "128/128 [==============================] - 21s 160ms/step - loss: 0.4586 - acc: 0.8378 - val_loss: 0.5154 - val_acc: 0.7812\n",
      "Epoch 15/50\n",
      "128/128 [==============================] - 20s 159ms/step - loss: 0.4468 - acc: 0.8444 - val_loss: 0.4263 - val_acc: 0.7812\n",
      "Epoch 16/50\n",
      "128/128 [==============================] - 20s 158ms/step - loss: 0.4369 - acc: 0.8431 - val_loss: 0.3817 - val_acc: 0.8438\n",
      "Epoch 17/50\n",
      "128/128 [==============================] - 20s 159ms/step - loss: 0.4335 - acc: 0.8445 - val_loss: 0.4193 - val_acc: 0.7812\n",
      "Epoch 18/50\n",
      "128/128 [==============================] - 20s 158ms/step - loss: 0.4188 - acc: 0.8534 - val_loss: 0.3619 - val_acc: 0.8125\n",
      "Epoch 19/50\n",
      "128/128 [==============================] - 20s 159ms/step - loss: 0.4188 - acc: 0.8538 - val_loss: 0.3623 - val_acc: 0.8125\n",
      "Epoch 20/50\n",
      "128/128 [==============================] - 20s 158ms/step - loss: 0.4188 - acc: 0.8508 - val_loss: 0.3513 - val_acc: 0.8125\n",
      "Epoch 21/50\n",
      "128/128 [==============================] - 20s 158ms/step - loss: 0.3951 - acc: 0.8590 - val_loss: 0.3243 - val_acc: 0.8438\n",
      "Epoch 22/50\n",
      "128/128 [==============================] - 20s 158ms/step - loss: 0.3873 - acc: 0.8660 - val_loss: 0.2567 - val_acc: 0.9062\n",
      "Epoch 23/50\n",
      "128/128 [==============================] - 20s 158ms/step - loss: 0.3753 - acc: 0.8684 - val_loss: 0.3651 - val_acc: 0.8125\n",
      "Epoch 24/50\n",
      "128/128 [==============================] - 20s 159ms/step - loss: 0.3709 - acc: 0.8730 - val_loss: 0.2556 - val_acc: 0.8750\n",
      "Epoch 25/50\n",
      "128/128 [==============================] - 20s 159ms/step - loss: 0.3713 - acc: 0.8663 - val_loss: 0.1540 - val_acc: 0.9375\n",
      "Epoch 26/50\n",
      "128/128 [==============================] - 20s 158ms/step - loss: 0.3577 - acc: 0.8809 - val_loss: 0.2333 - val_acc: 0.9062\n",
      "Epoch 27/50\n",
      "128/128 [==============================] - 20s 158ms/step - loss: 0.3476 - acc: 0.8771 - val_loss: 0.2059 - val_acc: 0.9375\n",
      "Epoch 28/50\n",
      "128/128 [==============================] - 20s 159ms/step - loss: 0.3617 - acc: 0.8745 - val_loss: 0.2884 - val_acc: 0.8125\n",
      "Epoch 29/50\n",
      "128/128 [==============================] - 20s 159ms/step - loss: 0.3399 - acc: 0.8804 - val_loss: 0.1733 - val_acc: 0.9062\n",
      "Epoch 30/50\n",
      "128/128 [==============================] - 21s 160ms/step - loss: 0.3337 - acc: 0.8834 - val_loss: 0.1910 - val_acc: 0.9062\n",
      "Epoch 31/50\n",
      "128/128 [==============================] - 20s 159ms/step - loss: 0.3314 - acc: 0.8837 - val_loss: 0.2502 - val_acc: 0.8750\n",
      "Epoch 32/50\n",
      "128/128 [==============================] - 20s 159ms/step - loss: 0.3128 - acc: 0.8918 - val_loss: 0.1183 - val_acc: 0.9688\n",
      "Epoch 33/50\n",
      "128/128 [==============================] - 21s 160ms/step - loss: 0.2967 - acc: 0.8972 - val_loss: 0.1054 - val_acc: 1.0000\n",
      "Epoch 34/50\n",
      "128/128 [==============================] - 20s 159ms/step - loss: 0.3183 - acc: 0.8872 - val_loss: 0.1826 - val_acc: 0.9375\n",
      "Epoch 35/50\n",
      "128/128 [==============================] - 20s 159ms/step - loss: 0.3125 - acc: 0.8894 - val_loss: 0.1820 - val_acc: 0.9375\n",
      "Epoch 36/50\n",
      "128/128 [==============================] - 20s 157ms/step - loss: 0.2908 - acc: 0.9001 - val_loss: 0.1857 - val_acc: 0.8750\n",
      "Epoch 37/50\n",
      "128/128 [==============================] - 21s 160ms/step - loss: 0.2963 - acc: 0.8965 - val_loss: 0.1297 - val_acc: 0.9688\n",
      "Epoch 38/50\n",
      "128/128 [==============================] - 20s 158ms/step - loss: 0.3117 - acc: 0.8960 - val_loss: 0.1360 - val_acc: 0.9375\n",
      "Epoch 39/50\n",
      "128/128 [==============================] - 20s 159ms/step - loss: 0.3040 - acc: 0.8932 - val_loss: 0.2177 - val_acc: 0.8750\n",
      "Epoch 40/50\n",
      "128/128 [==============================] - 20s 159ms/step - loss: 0.2974 - acc: 0.9000 - val_loss: 0.1399 - val_acc: 0.9688\n",
      "Epoch 41/50\n",
      "128/128 [==============================] - 20s 160ms/step - loss: 0.2799 - acc: 0.9048 - val_loss: 0.1073 - val_acc: 1.0000\n",
      "Epoch 42/50\n",
      "128/128 [==============================] - 20s 159ms/step - loss: 0.2693 - acc: 0.9072 - val_loss: 0.1610 - val_acc: 0.9062\n",
      "Epoch 43/50\n",
      "128/128 [==============================] - 20s 159ms/step - loss: 0.2640 - acc: 0.9122 - val_loss: 0.1067 - val_acc: 0.9688\n",
      "Epoch 44/50\n",
      "128/128 [==============================] - 21s 160ms/step - loss: 0.2646 - acc: 0.9102 - val_loss: 0.1577 - val_acc: 0.9375\n",
      "Epoch 45/50\n",
      "128/128 [==============================] - 20s 159ms/step - loss: 0.2617 - acc: 0.9088 - val_loss: 0.1318 - val_acc: 0.9375\n",
      "Epoch 46/50\n",
      "128/128 [==============================] - 20s 159ms/step - loss: 0.2419 - acc: 0.9119 - val_loss: 0.0778 - val_acc: 1.0000\n",
      "Epoch 47/50\n",
      "128/128 [==============================] - 20s 158ms/step - loss: 0.2536 - acc: 0.9121 - val_loss: 0.1587 - val_acc: 0.9062\n",
      "Epoch 48/50\n",
      "128/128 [==============================] - 20s 160ms/step - loss: 0.2614 - acc: 0.9109 - val_loss: 0.0475 - val_acc: 1.0000\n",
      "Epoch 49/50\n",
      "128/128 [==============================] - 20s 158ms/step - loss: 0.2650 - acc: 0.9065 - val_loss: 0.0789 - val_acc: 1.0000\n",
      "Epoch 50/50\n",
      "128/128 [==============================] - 20s 159ms/step - loss: 0.2528 - acc: 0.9130 - val_loss: 0.0718 - val_acc: 1.0000\n",
      "Wall time: 16min 58s\n"
     ]
    }
   ],
   "source": [
    "%%time\n",
    "history3 = model3.fit_generator(train_gen, steps_per_epoch=128, epochs=50, validation_data=val_gen, validation_steps=50)"
   ]
  },
  {
   "cell_type": "code",
   "execution_count": 51,
   "metadata": {},
   "outputs": [],
   "source": [
    "model3.save('./models/random_samples/64_tanh_sfm.h5')"
   ]
  },
  {
   "cell_type": "code",
   "execution_count": 52,
   "metadata": {},
   "outputs": [
    {
     "name": "stdout",
     "output_type": "stream",
     "text": [
      "Found 968 images belonging to 4 classes.\n",
      "test acc: 0.9710744023323059\n"
     ]
    }
   ],
   "source": [
    "model3_test_gen=test_datagen.flow_from_directory(test_dir,\n",
    "                                                target_size=(150, 150),\n",
    "                                                batch_size=40,\n",
    "                                                class_mode='categorical'\n",
    "                                               )\n",
    "\n",
    "test_loss, test_acc = model3.evaluate_generator(model3_test_gen, steps=50)\n",
    "print('test acc:', test_acc)"
   ]
  },
  {
   "cell_type": "markdown",
   "metadata": {},
   "source": [
    "`relu` vs `softmax`"
   ]
  },
  {
   "cell_type": "code",
   "execution_count": 53,
   "metadata": {},
   "outputs": [],
   "source": [
    "model4 = models.Sequential()\n",
    "model4.add(layers.Conv2D(32, (3, 3), activation='relu',\n",
    "                        input_shape=(150, 150, 3)))\n",
    "model4.add(layers.MaxPooling2D((2, 2)))\n",
    "model4.add(layers.Conv2D(64, (3, 3), activation='relu'))\n",
    "model4.add(layers.MaxPooling2D((2, 2)))\n",
    "model4.add(layers.Conv2D(128, (3, 3), activation='relu'))\n",
    "model4.add(layers.MaxPooling2D((2, 2)))\n",
    "model4.add(layers.Conv2D(128, (3, 3), activation='relu'))\n",
    "model4.add(layers.MaxPooling2D((2, 2)))\n",
    "model4.add(layers.Flatten())\n",
    "model4.add(layers.Dense(512, activation='relu'))\n",
    "model4.add(layers.Dense(4, activation='softmax'))"
   ]
  },
  {
   "cell_type": "code",
   "execution_count": 54,
   "metadata": {},
   "outputs": [
    {
     "name": "stdout",
     "output_type": "stream",
     "text": [
      "Model: \"sequential_8\"\n",
      "_________________________________________________________________\n",
      "Layer (type)                 Output Shape              Param #   \n",
      "=================================================================\n",
      "conv2d_29 (Conv2D)           (None, 148, 148, 32)      896       \n",
      "_________________________________________________________________\n",
      "max_pooling2d_29 (MaxPooling (None, 74, 74, 32)        0         \n",
      "_________________________________________________________________\n",
      "conv2d_30 (Conv2D)           (None, 72, 72, 64)        18496     \n",
      "_________________________________________________________________\n",
      "max_pooling2d_30 (MaxPooling (None, 36, 36, 64)        0         \n",
      "_________________________________________________________________\n",
      "conv2d_31 (Conv2D)           (None, 34, 34, 128)       73856     \n",
      "_________________________________________________________________\n",
      "max_pooling2d_31 (MaxPooling (None, 17, 17, 128)       0         \n",
      "_________________________________________________________________\n",
      "conv2d_32 (Conv2D)           (None, 15, 15, 128)       147584    \n",
      "_________________________________________________________________\n",
      "max_pooling2d_32 (MaxPooling (None, 7, 7, 128)         0         \n",
      "_________________________________________________________________\n",
      "flatten_8 (Flatten)          (None, 6272)              0         \n",
      "_________________________________________________________________\n",
      "dense_15 (Dense)             (None, 512)               3211776   \n",
      "_________________________________________________________________\n",
      "dense_16 (Dense)             (None, 4)                 2052      \n",
      "=================================================================\n",
      "Total params: 3,454,660\n",
      "Trainable params: 3,454,660\n",
      "Non-trainable params: 0\n",
      "_________________________________________________________________\n"
     ]
    }
   ],
   "source": [
    "model4.summary()"
   ]
  },
  {
   "cell_type": "markdown",
   "metadata": {},
   "source": [
    "## Compilation"
   ]
  },
  {
   "cell_type": "code",
   "execution_count": 55,
   "metadata": {},
   "outputs": [],
   "source": [
    "model4.compile(loss='categorical_crossentropy', optimizer=optimizers.RMSprop(lr=1e-4), metrics=['acc'])"
   ]
  },
  {
   "cell_type": "markdown",
   "metadata": {},
   "source": [
    "## Fit the model with a batch generator"
   ]
  },
  {
   "cell_type": "code",
   "execution_count": 56,
   "metadata": {
    "scrolled": true
   },
   "outputs": [
    {
     "name": "stdout",
     "output_type": "stream",
     "text": [
      "Epoch 1/50\n",
      "128/128 [==============================] - 22s 169ms/step - loss: 1.1428 - acc: 0.5359 - val_loss: 1.3899 - val_acc: 0.4062\n",
      "Epoch 2/50\n",
      "128/128 [==============================] - 21s 160ms/step - loss: 0.9331 - acc: 0.6472 - val_loss: 1.0297 - val_acc: 0.5312\n",
      "Epoch 3/50\n",
      "128/128 [==============================] - 20s 158ms/step - loss: 0.8315 - acc: 0.6852 - val_loss: 0.8647 - val_acc: 0.5625\n",
      "Epoch 4/50\n",
      "128/128 [==============================] - 21s 161ms/step - loss: 0.7363 - acc: 0.7208 - val_loss: 0.6800 - val_acc: 0.6250\n",
      "Epoch 5/50\n",
      "128/128 [==============================] - 20s 160ms/step - loss: 0.6374 - acc: 0.7665 - val_loss: 0.6480 - val_acc: 0.6875\n",
      "Epoch 6/50\n",
      "128/128 [==============================] - 20s 160ms/step - loss: 0.6222 - acc: 0.7716 - val_loss: 0.6386 - val_acc: 0.7188\n",
      "Epoch 7/50\n",
      "128/128 [==============================] - 20s 160ms/step - loss: 0.5817 - acc: 0.7876 - val_loss: 0.5922 - val_acc: 0.7500\n",
      "Epoch 8/50\n",
      "128/128 [==============================] - 20s 159ms/step - loss: 0.5651 - acc: 0.7939 - val_loss: 0.5498 - val_acc: 0.8125\n",
      "Epoch 9/50\n",
      "128/128 [==============================] - 21s 160ms/step - loss: 0.5441 - acc: 0.8013 - val_loss: 0.5203 - val_acc: 0.8125\n",
      "Epoch 10/50\n",
      "128/128 [==============================] - 20s 160ms/step - loss: 0.5122 - acc: 0.8109 - val_loss: 0.5838 - val_acc: 0.8125\n",
      "Epoch 11/50\n",
      "128/128 [==============================] - 20s 160ms/step - loss: 0.4941 - acc: 0.8188 - val_loss: 0.4865 - val_acc: 0.8125\n",
      "Epoch 12/50\n",
      "128/128 [==============================] - 20s 159ms/step - loss: 0.4685 - acc: 0.8315 - val_loss: 0.3710 - val_acc: 0.8750\n",
      "Epoch 13/50\n",
      "128/128 [==============================] - 20s 159ms/step - loss: 0.4645 - acc: 0.8326 - val_loss: 0.4851 - val_acc: 0.8438\n",
      "Epoch 14/50\n",
      "128/128 [==============================] - 20s 158ms/step - loss: 0.4728 - acc: 0.8278 - val_loss: 0.4422 - val_acc: 0.7812\n",
      "Epoch 15/50\n",
      "128/128 [==============================] - 21s 162ms/step - loss: 0.4559 - acc: 0.8383 - val_loss: 0.4492 - val_acc: 0.8125\n",
      "Epoch 16/50\n",
      "128/128 [==============================] - 21s 161ms/step - loss: 0.4534 - acc: 0.8373 - val_loss: 0.3245 - val_acc: 0.8750\n",
      "Epoch 17/50\n",
      "128/128 [==============================] - 20s 160ms/step - loss: 0.4246 - acc: 0.8514 - val_loss: 0.4517 - val_acc: 0.8125\n",
      "Epoch 18/50\n",
      "128/128 [==============================] - 21s 160ms/step - loss: 0.4287 - acc: 0.8431 - val_loss: 0.4537 - val_acc: 0.7812\n",
      "Epoch 19/50\n",
      "128/128 [==============================] - 20s 160ms/step - loss: 0.4156 - acc: 0.8505 - val_loss: 0.5903 - val_acc: 0.7812\n",
      "Epoch 20/50\n",
      "128/128 [==============================] - 20s 158ms/step - loss: 0.4348 - acc: 0.8451 - val_loss: 0.3999 - val_acc: 0.8125\n",
      "Epoch 21/50\n",
      "128/128 [==============================] - 21s 160ms/step - loss: 0.3970 - acc: 0.8560 - val_loss: 0.4253 - val_acc: 0.8125\n",
      "Epoch 22/50\n",
      "128/128 [==============================] - 21s 161ms/step - loss: 0.3879 - acc: 0.8621 - val_loss: 0.3953 - val_acc: 0.8438\n",
      "Epoch 23/50\n",
      "128/128 [==============================] - 20s 159ms/step - loss: 0.3748 - acc: 0.8665 - val_loss: 0.3096 - val_acc: 0.8438\n",
      "Epoch 24/50\n",
      "128/128 [==============================] - 20s 159ms/step - loss: 0.3774 - acc: 0.8663 - val_loss: 0.3305 - val_acc: 0.8438\n",
      "Epoch 25/50\n",
      "128/128 [==============================] - 20s 159ms/step - loss: 0.3621 - acc: 0.8715 - val_loss: 0.3281 - val_acc: 0.8438\n",
      "Epoch 26/50\n",
      "128/128 [==============================] - 21s 160ms/step - loss: 0.3627 - acc: 0.8671 - val_loss: 0.5022 - val_acc: 0.7812\n",
      "Epoch 27/50\n",
      "128/128 [==============================] - 21s 160ms/step - loss: 0.3696 - acc: 0.8718 - val_loss: 0.3397 - val_acc: 0.8438\n",
      "Epoch 28/50\n",
      "128/128 [==============================] - 21s 161ms/step - loss: 0.3517 - acc: 0.8701 - val_loss: 0.2656 - val_acc: 0.8438\n",
      "Epoch 29/50\n",
      "128/128 [==============================] - 20s 159ms/step - loss: 0.3458 - acc: 0.8756 - val_loss: 0.2365 - val_acc: 0.8750\n",
      "Epoch 30/50\n",
      "128/128 [==============================] - 20s 160ms/step - loss: 0.3642 - acc: 0.8694 - val_loss: 0.2011 - val_acc: 0.9062\n",
      "Epoch 31/50\n",
      "128/128 [==============================] - 20s 159ms/step - loss: 0.3396 - acc: 0.8794 - val_loss: 0.2775 - val_acc: 0.8125\n",
      "Epoch 32/50\n",
      "128/128 [==============================] - 20s 159ms/step - loss: 0.3238 - acc: 0.8830 - val_loss: 0.2237 - val_acc: 0.9062\n",
      "Epoch 33/50\n",
      "128/128 [==============================] - 21s 160ms/step - loss: 0.3082 - acc: 0.8883 - val_loss: 0.4158 - val_acc: 0.8438\n",
      "Epoch 34/50\n",
      "128/128 [==============================] - 21s 160ms/step - loss: 0.3190 - acc: 0.8888 - val_loss: 0.2297 - val_acc: 0.9062\n",
      "Epoch 35/50\n",
      "128/128 [==============================] - 21s 161ms/step - loss: 0.3031 - acc: 0.8947 - val_loss: 0.2956 - val_acc: 0.8750\n",
      "Epoch 36/50\n",
      "128/128 [==============================] - 20s 159ms/step - loss: 0.3026 - acc: 0.8938 - val_loss: 0.2212 - val_acc: 0.9062\n",
      "Epoch 37/50\n",
      "128/128 [==============================] - 21s 160ms/step - loss: 0.3057 - acc: 0.8953 - val_loss: 0.3120 - val_acc: 0.9062\n",
      "Epoch 38/50\n",
      "128/128 [==============================] - 20s 159ms/step - loss: 0.2857 - acc: 0.8967 - val_loss: 0.2662 - val_acc: 0.8438\n",
      "Epoch 39/50\n",
      "128/128 [==============================] - 20s 159ms/step - loss: 0.3001 - acc: 0.8970 - val_loss: 0.2131 - val_acc: 0.9062\n",
      "Epoch 40/50\n",
      "128/128 [==============================] - 21s 160ms/step - loss: 0.2988 - acc: 0.8956 - val_loss: 0.1451 - val_acc: 0.9375\n",
      "Epoch 41/50\n",
      "128/128 [==============================] - 20s 160ms/step - loss: 0.2731 - acc: 0.9025 - val_loss: 0.2073 - val_acc: 0.8750\n",
      "Epoch 42/50\n",
      "128/128 [==============================] - 20s 159ms/step - loss: 0.2725 - acc: 0.9089 - val_loss: 0.2213 - val_acc: 0.8750\n",
      "Epoch 43/50\n",
      "128/128 [==============================] - 21s 162ms/step - loss: 0.2677 - acc: 0.9066 - val_loss: 0.1356 - val_acc: 0.9062\n",
      "Epoch 44/50\n",
      "128/128 [==============================] - 20s 159ms/step - loss: 0.2713 - acc: 0.9053 - val_loss: 0.1339 - val_acc: 0.9375\n",
      "Epoch 45/50\n",
      "128/128 [==============================] - 20s 160ms/step - loss: 0.2647 - acc: 0.9059 - val_loss: 0.1355 - val_acc: 0.9688\n",
      "Epoch 46/50\n",
      "128/128 [==============================] - 21s 161ms/step - loss: 0.2587 - acc: 0.9062 - val_loss: 0.1349 - val_acc: 0.9688\n",
      "Epoch 47/50\n",
      "128/128 [==============================] - 20s 160ms/step - loss: 0.2615 - acc: 0.9080 - val_loss: 0.0940 - val_acc: 1.0000\n",
      "Epoch 48/50\n",
      "128/128 [==============================] - 21s 162ms/step - loss: 0.2628 - acc: 0.9092 - val_loss: 0.1772 - val_acc: 0.9062\n",
      "Epoch 49/50\n",
      "128/128 [==============================] - 20s 159ms/step - loss: 0.2499 - acc: 0.9126 - val_loss: 0.0956 - val_acc: 0.9688\n",
      "Epoch 50/50\n",
      "128/128 [==============================] - 20s 160ms/step - loss: 0.2444 - acc: 0.9135 - val_loss: 0.1397 - val_acc: 0.9375\n",
      "Wall time: 17min 4s\n"
     ]
    }
   ],
   "source": [
    "%%time\n",
    "history4 = model4.fit_generator(train_gen, steps_per_epoch=128, epochs=50, validation_data=val_gen, validation_steps=50)"
   ]
  },
  {
   "cell_type": "code",
   "execution_count": 57,
   "metadata": {},
   "outputs": [],
   "source": [
    "model4.save('./models/random_samples/64_relu_sfm.h5')"
   ]
  },
  {
   "cell_type": "code",
   "execution_count": 58,
   "metadata": {},
   "outputs": [
    {
     "name": "stdout",
     "output_type": "stream",
     "text": [
      "Found 968 images belonging to 4 classes.\n",
      "test acc: 0.9493801593780518\n"
     ]
    }
   ],
   "source": [
    "model4_test_gen=test_datagen.flow_from_directory(test_dir,\n",
    "                                                target_size=(150, 150),\n",
    "                                                batch_size=40,\n",
    "                                                class_mode='categorical'\n",
    "                                               )\n",
    "\n",
    "test_loss, test_acc = model4.evaluate_generator(model4_test_gen, steps=50)\n",
    "print('test acc:', test_acc)"
   ]
  },
  {
   "cell_type": "code",
   "execution_count": 59,
   "metadata": {},
   "outputs": [
    {
     "data": {
      "image/png": "[encoded data removed]",
      "text/plain": [
       "<Figure size 1440x720 with 1 Axes>"
      ]
     },
     "metadata": {
      "needs_background": "light"
     },
     "output_type": "display_data"
    }
   ],
   "source": [
    "%matplotlib inline\n",
    "\n",
    "plt.figure(figsize=(20,10))\n",
    "\n",
    "acc1 = history.history['acc']\n",
    "val_acc1 = history.history['val_acc']\n",
    "loss1 = history.history['loss']\n",
    "val_loss1 = history.history['val_loss']\n",
    "\n",
    "acc2 = history2.history['acc']\n",
    "val_acc2 = history2.history['val_acc']\n",
    "loss2 = history2.history['loss']\n",
    "val_loss2 = history2.history['val_loss']\n",
    "\n",
    "acc3 = history3.history['acc']\n",
    "val_acc3 = history3.history['val_acc']\n",
    "loss3 = history3.history['loss']\n",
    "val_loss3 = history3.history['val_loss']\n",
    "\n",
    "acc4 = history4.history['acc']\n",
    "val_acc4 = history4.history['val_acc']\n",
    "loss4 = history4.history['loss']\n",
    "val_loss4 = history4.history['val_loss']\n",
    "\n",
    "epochs = range(len(acc1))\n",
    "\n",
    "plt.plot(epochs, acc1, \"ro\", label=\"relu,sigmoid, Training acc\")\n",
    "plt.plot(epochs, val_acc1, \"r\", label=\"relu,sigmoid, Validation acc\")\n",
    "\n",
    "plt.plot(epochs, acc2, \"go\", label=\"tanh,sigmoid, Training acc\")\n",
    "plt.plot(epochs, val_acc2, \"g\", label=\"tanh,sigmoid, Validation acc\")\n",
    "\n",
    "plt.plot(epochs, acc3, \"mo\", label=\"tanh,softmax, Training acc\")\n",
    "plt.plot(epochs, val_acc3, \"m\", label=\"tanh,softmax, Validation acc\")\n",
    "\n",
    "plt.plot(epochs, acc4, \"bo\", label=\"relu,softmax, Training acc\")\n",
    "plt.plot(epochs, val_acc4, \"b\", label=\"relu,softmax, Validation acc\")\n",
    "\n",
    "plt.title('Random Samples Training and validation loss (Batch_size = 64)', fontsize=12)\n",
    "plt.legend(bbox_to_anchor=(1.05, 1), loc='upper left')\n",
    "\n",
    "plt.xlabel(\"Epochs\", fontsize=12)\n",
    "plt.ylabel(\"Accuracy\", fontsize=12)\n",
    "\n",
    "plt.show()"
   ]
  },
  {
   "cell_type": "code",
   "execution_count": null,
   "metadata": {},
   "outputs": [],
   "source": []
  },
  {
   "cell_type": "code",
   "execution_count": null,
   "metadata": {},
   "outputs": [],
   "source": []
  },
  {
   "cell_type": "markdown",
   "metadata": {},
   "source": [
    "** **\n",
    "\n",
    "## Batch = 128"
   ]
  },
  {
   "cell_type": "code",
   "execution_count": 60,
   "metadata": {},
   "outputs": [
    {
     "name": "stdout",
     "output_type": "stream",
     "text": [
      "Found 83484 images belonging to 4 classes.\n"
     ]
    }
   ],
   "source": [
    "train_gen = train_datagen.flow_from_directory(train_dir, target_size=(150, 150), batch_size=128, class_mode='categorical')"
   ]
  },
  {
   "cell_type": "code",
   "execution_count": 61,
   "metadata": {},
   "outputs": [
    {
     "name": "stdout",
     "output_type": "stream",
     "text": [
      "Found 32 images belonging to 4 classes.\n"
     ]
    }
   ],
   "source": [
    "val_gen = test_datagen.flow_from_directory(validation_dir, target_size=(150, 150), batch_size=128, class_mode='categorical')"
   ]
  },
  {
   "cell_type": "code",
   "execution_count": 62,
   "metadata": {},
   "outputs": [
    {
     "name": "stdout",
     "output_type": "stream",
     "text": [
      "data batch shape: (128, 150, 150, 3)\n",
      "labels batch shape: (128, 4)\n"
     ]
    }
   ],
   "source": [
    "for data_batch, labels_batch in train_gen:\n",
    "    print('data batch shape:', data_batch.shape)\n",
    "    print('labels batch shape:', labels_batch.shape)\n",
    "    break"
   ]
  },
  {
   "cell_type": "markdown",
   "metadata": {},
   "source": [
    "## Building the network\n",
    "\n",
    "`relu`, `sigmoid`"
   ]
  },
  {
   "cell_type": "code",
   "execution_count": 63,
   "metadata": {},
   "outputs": [],
   "source": [
    "model1 = models.Sequential()\n",
    "model1.add(layers.Conv2D(32, (3, 3), activation='relu',\n",
    "                        input_shape=(150, 150, 3)))\n",
    "model1.add(layers.MaxPooling2D((2, 2)))\n",
    "model1.add(layers.Conv2D(64, (3, 3), activation='relu'))\n",
    "model1.add(layers.MaxPooling2D((2, 2)))\n",
    "model1.add(layers.Conv2D(128, (3, 3), activation='relu'))\n",
    "model1.add(layers.MaxPooling2D((2, 2)))\n",
    "model1.add(layers.Conv2D(128, (3, 3), activation='relu'))\n",
    "model1.add(layers.MaxPooling2D((2, 2)))\n",
    "model1.add(layers.Flatten())\n",
    "model1.add(layers.Dense(512, activation='relu'))\n",
    "model1.add(layers.Dense(4, activation='sigmoid'))"
   ]
  },
  {
   "cell_type": "code",
   "execution_count": 64,
   "metadata": {},
   "outputs": [
    {
     "name": "stdout",
     "output_type": "stream",
     "text": [
      "Model: \"sequential_9\"\n",
      "_________________________________________________________________\n",
      "Layer (type)                 Output Shape              Param #   \n",
      "=================================================================\n",
      "conv2d_33 (Conv2D)           (None, 148, 148, 32)      896       \n",
      "_________________________________________________________________\n",
      "max_pooling2d_33 (MaxPooling (None, 74, 74, 32)        0         \n",
      "_________________________________________________________________\n",
      "conv2d_34 (Conv2D)           (None, 72, 72, 64)        18496     \n",
      "_________________________________________________________________\n",
      "max_pooling2d_34 (MaxPooling (None, 36, 36, 64)        0         \n",
      "_________________________________________________________________\n",
      "conv2d_35 (Conv2D)           (None, 34, 34, 128)       73856     \n",
      "_________________________________________________________________\n",
      "max_pooling2d_35 (MaxPooling (None, 17, 17, 128)       0         \n",
      "_________________________________________________________________\n",
      "conv2d_36 (Conv2D)           (None, 15, 15, 128)       147584    \n",
      "_________________________________________________________________\n",
      "max_pooling2d_36 (MaxPooling (None, 7, 7, 128)         0         \n",
      "_________________________________________________________________\n",
      "flatten_9 (Flatten)          (None, 6272)              0         \n",
      "_________________________________________________________________\n",
      "dense_17 (Dense)             (None, 512)               3211776   \n",
      "_________________________________________________________________\n",
      "dense_18 (Dense)             (None, 4)                 2052      \n",
      "=================================================================\n",
      "Total params: 3,454,660\n",
      "Trainable params: 3,454,660\n",
      "Non-trainable params: 0\n",
      "_________________________________________________________________\n"
     ]
    }
   ],
   "source": [
    "model1.summary()"
   ]
  },
  {
   "cell_type": "markdown",
   "metadata": {},
   "source": [
    "## Compilation"
   ]
  },
  {
   "cell_type": "code",
   "execution_count": 65,
   "metadata": {},
   "outputs": [],
   "source": [
    "model1.compile(loss='categorical_crossentropy', optimizer=optimizers.RMSprop(lr=1e-4), metrics=['acc'])"
   ]
  },
  {
   "cell_type": "markdown",
   "metadata": {},
   "source": [
    "## Fit the model with a batch generator"
   ]
  },
  {
   "cell_type": "code",
   "execution_count": 66,
   "metadata": {
    "scrolled": true
   },
   "outputs": [
    {
     "name": "stdout",
     "output_type": "stream",
     "text": [
      "Epoch 1/50\n",
      "128/128 [==============================] - 37s 293ms/step - loss: 1.1104 - acc: 0.5564 - val_loss: 1.1580 - val_acc: 0.5000\n",
      "Epoch 2/50\n",
      "128/128 [==============================] - 35s 274ms/step - loss: 0.9040 - acc: 0.6599 - val_loss: 0.8392 - val_acc: 0.5625\n",
      "Epoch 3/50\n",
      "128/128 [==============================] - 35s 273ms/step - loss: 0.7768 - acc: 0.7076 - val_loss: 0.7710 - val_acc: 0.5938\n",
      "Epoch 4/50\n",
      "128/128 [==============================] - 35s 271ms/step - loss: 0.6940 - acc: 0.7432 - val_loss: 0.5986 - val_acc: 0.7500\n",
      "Epoch 5/50\n",
      "128/128 [==============================] - 35s 271ms/step - loss: 0.6251 - acc: 0.7680 - val_loss: 0.7339 - val_acc: 0.6562\n",
      "Epoch 6/50\n",
      "128/128 [==============================] - 36s 278ms/step - loss: 0.5854 - acc: 0.7882 - val_loss: 0.5600 - val_acc: 0.7500\n",
      "Epoch 7/50\n",
      "128/128 [==============================] - 35s 273ms/step - loss: 0.5360 - acc: 0.8048 - val_loss: 0.8757 - val_acc: 0.6562\n",
      "Epoch 8/50\n",
      "128/128 [==============================] - 35s 277ms/step - loss: 0.5211 - acc: 0.8111 - val_loss: 0.5280 - val_acc: 0.7812\n",
      "Epoch 9/50\n",
      "128/128 [==============================] - 35s 276ms/step - loss: 0.4974 - acc: 0.8163 - val_loss: 0.4824 - val_acc: 0.7812\n",
      "Epoch 10/50\n",
      "128/128 [==============================] - 35s 274ms/step - loss: 0.4863 - acc: 0.8263 - val_loss: 0.4890 - val_acc: 0.8125\n",
      "Epoch 11/50\n",
      "128/128 [==============================] - 35s 277ms/step - loss: 0.4616 - acc: 0.8337 - val_loss: 0.3884 - val_acc: 0.8438\n",
      "Epoch 12/50\n",
      "128/128 [==============================] - 35s 273ms/step - loss: 0.4508 - acc: 0.8392 - val_loss: 0.5145 - val_acc: 0.7812\n",
      "Epoch 13/50\n",
      "128/128 [==============================] - 35s 275ms/step - loss: 0.4418 - acc: 0.8409 - val_loss: 0.3841 - val_acc: 0.8750\n",
      "Epoch 14/50\n",
      "128/128 [==============================] - 35s 277ms/step - loss: 0.4311 - acc: 0.8445 - val_loss: 0.3730 - val_acc: 0.8750\n",
      "Epoch 15/50\n",
      "128/128 [==============================] - 35s 274ms/step - loss: 0.4285 - acc: 0.8485 - val_loss: 0.4030 - val_acc: 0.8125\n",
      "Epoch 16/50\n",
      "128/128 [==============================] - 35s 273ms/step - loss: 0.4014 - acc: 0.8548 - val_loss: 0.4017 - val_acc: 0.8125\n",
      "Epoch 17/50\n",
      "128/128 [==============================] - 35s 274ms/step - loss: 0.3945 - acc: 0.8589 - val_loss: 0.4506 - val_acc: 0.8125\n",
      "Epoch 18/50\n",
      "128/128 [==============================] - 35s 274ms/step - loss: 0.3924 - acc: 0.8613 - val_loss: 0.3841 - val_acc: 0.8438\n",
      "Epoch 19/50\n",
      "128/128 [==============================] - 35s 274ms/step - loss: 0.3806 - acc: 0.8659 - val_loss: 0.3270 - val_acc: 0.8125\n",
      "Epoch 20/50\n",
      "128/128 [==============================] - 35s 274ms/step - loss: 0.3732 - acc: 0.8669 - val_loss: 0.3589 - val_acc: 0.8125\n",
      "Epoch 21/50\n",
      "128/128 [==============================] - 35s 275ms/step - loss: 0.3588 - acc: 0.8702 - val_loss: 0.2420 - val_acc: 0.8750\n",
      "Epoch 22/50\n",
      "128/128 [==============================] - 35s 273ms/step - loss: 0.3408 - acc: 0.8782 - val_loss: 0.3287 - val_acc: 0.8125\n",
      "Epoch 23/50\n",
      "128/128 [==============================] - 35s 274ms/step - loss: 0.3397 - acc: 0.8794 - val_loss: 0.3820 - val_acc: 0.8125\n",
      "Epoch 24/50\n",
      "128/128 [==============================] - 35s 273ms/step - loss: 0.3367 - acc: 0.8796 - val_loss: 0.1864 - val_acc: 0.9375\n",
      "Epoch 25/50\n",
      "128/128 [==============================] - 35s 274ms/step - loss: 0.3284 - acc: 0.8849 - val_loss: 0.2574 - val_acc: 0.8750\n",
      "Epoch 26/50\n",
      "128/128 [==============================] - 35s 273ms/step - loss: 0.3109 - acc: 0.8907 - val_loss: 0.3171 - val_acc: 0.8125\n",
      "Epoch 27/50\n",
      "128/128 [==============================] - 35s 271ms/step - loss: 0.3020 - acc: 0.8976 - val_loss: 0.3229 - val_acc: 0.8750\n",
      "Epoch 28/50\n",
      "128/128 [==============================] - 35s 275ms/step - loss: 0.2969 - acc: 0.8940 - val_loss: 0.3366 - val_acc: 0.8438\n",
      "Epoch 29/50\n",
      "128/128 [==============================] - 35s 273ms/step - loss: 0.2939 - acc: 0.8981 - val_loss: 0.2293 - val_acc: 0.8750\n",
      "Epoch 30/50\n",
      "128/128 [==============================] - 35s 274ms/step - loss: 0.2879 - acc: 0.8984 - val_loss: 0.1793 - val_acc: 0.9688\n",
      "Epoch 31/50\n",
      "128/128 [==============================] - 35s 275ms/step - loss: 0.2829 - acc: 0.9025 - val_loss: 0.1190 - val_acc: 0.9375\n",
      "Epoch 32/50\n",
      "128/128 [==============================] - 35s 274ms/step - loss: 0.2595 - acc: 0.9095 - val_loss: 0.1495 - val_acc: 0.9688\n",
      "Epoch 33/50\n",
      "128/128 [==============================] - 35s 272ms/step - loss: 0.2717 - acc: 0.9066 - val_loss: 0.1225 - val_acc: 0.9375\n",
      "Epoch 34/50\n",
      "128/128 [==============================] - 35s 273ms/step - loss: 0.2574 - acc: 0.9118 - val_loss: 0.1957 - val_acc: 0.9062\n",
      "Epoch 35/50\n",
      "128/128 [==============================] - 35s 272ms/step - loss: 0.2569 - acc: 0.9124 - val_loss: 0.1305 - val_acc: 0.9375\n",
      "Epoch 36/50\n",
      "128/128 [==============================] - 35s 273ms/step - loss: 0.2412 - acc: 0.9163 - val_loss: 0.2565 - val_acc: 0.9062\n",
      "Epoch 37/50\n",
      "128/128 [==============================] - 35s 274ms/step - loss: 0.2438 - acc: 0.9153 - val_loss: 0.0880 - val_acc: 0.9375\n",
      "Epoch 38/50\n",
      "128/128 [==============================] - 35s 272ms/step - loss: 0.2373 - acc: 0.9193 - val_loss: 0.1194 - val_acc: 0.9688\n",
      "Epoch 39/50\n",
      "128/128 [==============================] - 35s 274ms/step - loss: 0.2253 - acc: 0.9221 - val_loss: 0.1036 - val_acc: 1.0000\n",
      "Epoch 40/50\n",
      "128/128 [==============================] - 35s 271ms/step - loss: 0.2215 - acc: 0.9236 - val_loss: 0.1514 - val_acc: 0.9375\n",
      "Epoch 41/50\n",
      "128/128 [==============================] - 35s 275ms/step - loss: 0.2342 - acc: 0.9209 - val_loss: 0.1204 - val_acc: 0.9375\n",
      "Epoch 42/50\n",
      "128/128 [==============================] - 35s 274ms/step - loss: 0.2132 - acc: 0.9270 - val_loss: 0.0542 - val_acc: 1.0000\n",
      "Epoch 43/50\n",
      "128/128 [==============================] - 35s 273ms/step - loss: 0.2185 - acc: 0.9255 - val_loss: 0.0751 - val_acc: 0.9688\n",
      "Epoch 44/50\n",
      "128/128 [==============================] - 35s 272ms/step - loss: 0.2062 - acc: 0.9299 - val_loss: 0.0650 - val_acc: 1.0000\n",
      "Epoch 45/50\n",
      "128/128 [==============================] - 35s 272ms/step - loss: 0.2037 - acc: 0.9300 - val_loss: 0.0497 - val_acc: 1.0000\n",
      "Epoch 46/50\n",
      "128/128 [==============================] - 35s 275ms/step - loss: 0.1986 - acc: 0.9312 - val_loss: 0.1089 - val_acc: 0.9688\n",
      "Epoch 47/50\n",
      "128/128 [==============================] - 35s 275ms/step - loss: 0.1866 - acc: 0.9355 - val_loss: 0.0942 - val_acc: 0.9688\n",
      "Epoch 48/50\n",
      "128/128 [==============================] - 35s 271ms/step - loss: 0.1926 - acc: 0.9336 - val_loss: 0.0436 - val_acc: 1.0000\n",
      "Epoch 49/50\n",
      "128/128 [==============================] - 35s 274ms/step - loss: 0.1906 - acc: 0.9339 - val_loss: 0.0341 - val_acc: 1.0000\n",
      "Epoch 50/50\n",
      "128/128 [==============================] - 35s 275ms/step - loss: 0.1858 - acc: 0.9373 - val_loss: 0.0839 - val_acc: 0.9375\n",
      "Wall time: 29min 14s\n"
     ]
    }
   ],
   "source": [
    "%%time\n",
    "history = model1.fit_generator(train_gen, steps_per_epoch=128, epochs=50, validation_data=val_gen, validation_steps=50)"
   ]
  },
  {
   "cell_type": "code",
   "execution_count": 67,
   "metadata": {},
   "outputs": [],
   "source": [
    "model1.save('./models/random_samples/128_relu_sig.h5')"
   ]
  },
  {
   "cell_type": "code",
   "execution_count": 68,
   "metadata": {},
   "outputs": [
    {
     "name": "stdout",
     "output_type": "stream",
     "text": [
      "Found 968 images belonging to 4 classes.\n",
      "test acc: 0.9772727489471436\n"
     ]
    }
   ],
   "source": [
    "model1_test_gen=test_datagen.flow_from_directory(test_dir,\n",
    "                                                target_size=(150, 150),\n",
    "                                                batch_size=40,\n",
    "                                                class_mode='categorical'\n",
    "                                               )\n",
    "\n",
    "test_loss, test_acc = model1.evaluate_generator(model1_test_gen, steps=50)\n",
    "print('test acc:', test_acc)"
   ]
  },
  {
   "cell_type": "markdown",
   "metadata": {},
   "source": [
    "`tanh` vs `sigmoid`"
   ]
  },
  {
   "cell_type": "code",
   "execution_count": 69,
   "metadata": {},
   "outputs": [],
   "source": [
    "model2 = models.Sequential()\n",
    "model2.add(layers.Conv2D(32, (3, 3), activation='tanh',\n",
    "                        input_shape=(150, 150, 3)))\n",
    "model2.add(layers.MaxPooling2D((2, 2)))\n",
    "model2.add(layers.Conv2D(64, (3, 3), activation='tanh'))\n",
    "model2.add(layers.MaxPooling2D((2, 2)))\n",
    "model2.add(layers.Conv2D(128, (3, 3), activation='tanh'))\n",
    "model2.add(layers.MaxPooling2D((2, 2)))\n",
    "model2.add(layers.Conv2D(128, (3, 3), activation='tanh'))\n",
    "model2.add(layers.MaxPooling2D((2, 2)))\n",
    "model2.add(layers.Flatten())\n",
    "model2.add(layers.Dense(512, activation='tanh'))\n",
    "model2.add(layers.Dense(4, activation='sigmoid'))"
   ]
  },
  {
   "cell_type": "code",
   "execution_count": 70,
   "metadata": {},
   "outputs": [
    {
     "name": "stdout",
     "output_type": "stream",
     "text": [
      "Model: \"sequential_10\"\n",
      "_________________________________________________________________\n",
      "Layer (type)                 Output Shape              Param #   \n",
      "=================================================================\n",
      "conv2d_37 (Conv2D)           (None, 148, 148, 32)      896       \n",
      "_________________________________________________________________\n",
      "max_pooling2d_37 (MaxPooling (None, 74, 74, 32)        0         \n",
      "_________________________________________________________________\n",
      "conv2d_38 (Conv2D)           (None, 72, 72, 64)        18496     \n",
      "_________________________________________________________________\n",
      "max_pooling2d_38 (MaxPooling (None, 36, 36, 64)        0         \n",
      "_________________________________________________________________\n",
      "conv2d_39 (Conv2D)           (None, 34, 34, 128)       73856     \n",
      "_________________________________________________________________\n",
      "max_pooling2d_39 (MaxPooling (None, 17, 17, 128)       0         \n",
      "_________________________________________________________________\n",
      "conv2d_40 (Conv2D)           (None, 15, 15, 128)       147584    \n",
      "_________________________________________________________________\n",
      "max_pooling2d_40 (MaxPooling (None, 7, 7, 128)         0         \n",
      "_________________________________________________________________\n",
      "flatten_10 (Flatten)         (None, 6272)              0         \n",
      "_________________________________________________________________\n",
      "dense_19 (Dense)             (None, 512)               3211776   \n",
      "_________________________________________________________________\n",
      "dense_20 (Dense)             (None, 4)                 2052      \n",
      "=================================================================\n",
      "Total params: 3,454,660\n",
      "Trainable params: 3,454,660\n",
      "Non-trainable params: 0\n",
      "_________________________________________________________________\n"
     ]
    }
   ],
   "source": [
    "model2.summary()"
   ]
  },
  {
   "cell_type": "markdown",
   "metadata": {},
   "source": [
    "## Compilation"
   ]
  },
  {
   "cell_type": "code",
   "execution_count": 71,
   "metadata": {},
   "outputs": [],
   "source": [
    "model2.compile(loss='categorical_crossentropy', optimizer=optimizers.RMSprop(lr=1e-4), metrics=['acc'])"
   ]
  },
  {
   "cell_type": "markdown",
   "metadata": {},
   "source": [
    "## Fit the model with a batch generator"
   ]
  },
  {
   "cell_type": "code",
   "execution_count": 72,
   "metadata": {
    "scrolled": true
   },
   "outputs": [
    {
     "name": "stdout",
     "output_type": "stream",
     "text": [
      "Epoch 1/50\n",
      "128/128 [==============================] - 38s 294ms/step - loss: 1.0765 - acc: 0.5668 - val_loss: 1.0412 - val_acc: 0.5000\n",
      "Epoch 2/50\n",
      "128/128 [==============================] - 35s 270ms/step - loss: 0.8357 - acc: 0.6837 - val_loss: 0.7370 - val_acc: 0.6250\n",
      "Epoch 3/50\n",
      "128/128 [==============================] - 35s 272ms/step - loss: 0.7267 - acc: 0.7267 - val_loss: 0.8719 - val_acc: 0.5625\n",
      "Epoch 4/50\n",
      "128/128 [==============================] - 35s 271ms/step - loss: 0.6744 - acc: 0.7463 - val_loss: 0.5837 - val_acc: 0.7188\n",
      "Epoch 5/50\n",
      "128/128 [==============================] - 35s 272ms/step - loss: 0.6216 - acc: 0.7725 - val_loss: 0.6174 - val_acc: 0.7500\n",
      "Epoch 6/50\n",
      "128/128 [==============================] - 35s 274ms/step - loss: 0.5796 - acc: 0.7860 - val_loss: 0.6161 - val_acc: 0.6875\n",
      "Epoch 7/50\n",
      "128/128 [==============================] - 35s 271ms/step - loss: 0.5512 - acc: 0.7946 - val_loss: 0.5107 - val_acc: 0.8125\n",
      "Epoch 8/50\n",
      "128/128 [==============================] - 35s 270ms/step - loss: 0.5262 - acc: 0.8085 - val_loss: 0.5567 - val_acc: 0.7812\n",
      "Epoch 9/50\n",
      "128/128 [==============================] - 35s 274ms/step - loss: 0.5126 - acc: 0.8128 - val_loss: 0.5888 - val_acc: 0.7812\n",
      "Epoch 10/50\n",
      "128/128 [==============================] - 35s 273ms/step - loss: 0.4963 - acc: 0.8190 - val_loss: 0.3398 - val_acc: 0.8750\n",
      "Epoch 11/50\n",
      "128/128 [==============================] - 35s 270ms/step - loss: 0.4638 - acc: 0.8363 - val_loss: 0.5019 - val_acc: 0.7500\n",
      "Epoch 12/50\n",
      "128/128 [==============================] - 35s 272ms/step - loss: 0.4628 - acc: 0.8335 - val_loss: 0.4432 - val_acc: 0.8125\n",
      "Epoch 13/50\n",
      "128/128 [==============================] - 35s 272ms/step - loss: 0.4470 - acc: 0.8394 - val_loss: 0.3606 - val_acc: 0.8438\n",
      "Epoch 14/50\n",
      "128/128 [==============================] - 35s 271ms/step - loss: 0.4333 - acc: 0.8455 - val_loss: 0.4108 - val_acc: 0.8438\n",
      "Epoch 15/50\n",
      "128/128 [==============================] - 35s 273ms/step - loss: 0.4202 - acc: 0.8520 - val_loss: 0.3713 - val_acc: 0.8125\n",
      "Epoch 16/50\n",
      "128/128 [==============================] - 35s 274ms/step - loss: 0.4012 - acc: 0.8578 - val_loss: 0.2588 - val_acc: 0.9062\n",
      "Epoch 17/50\n",
      "128/128 [==============================] - 35s 271ms/step - loss: 0.3846 - acc: 0.8651 - val_loss: 0.3200 - val_acc: 0.8750\n",
      "Epoch 18/50\n",
      "128/128 [==============================] - 35s 272ms/step - loss: 0.3903 - acc: 0.8620 - val_loss: 0.2721 - val_acc: 0.9062\n",
      "Epoch 19/50\n",
      "128/128 [==============================] - 35s 272ms/step - loss: 0.3793 - acc: 0.8663 - val_loss: 0.3201 - val_acc: 0.8750\n",
      "Epoch 20/50\n",
      "128/128 [==============================] - 35s 271ms/step - loss: 0.3881 - acc: 0.8624 - val_loss: 0.3069 - val_acc: 0.9062\n",
      "Epoch 21/50\n",
      "128/128 [==============================] - 35s 272ms/step - loss: 0.3568 - acc: 0.8760 - val_loss: 0.1749 - val_acc: 0.9375\n",
      "Epoch 22/50\n",
      "128/128 [==============================] - 35s 270ms/step - loss: 0.3496 - acc: 0.8769 - val_loss: 0.1910 - val_acc: 0.9688\n",
      "Epoch 23/50\n",
      "128/128 [==============================] - 35s 272ms/step - loss: 0.3448 - acc: 0.8799 - val_loss: 0.1796 - val_acc: 0.9375\n",
      "Epoch 24/50\n",
      "128/128 [==============================] - 35s 270ms/step - loss: 0.3261 - acc: 0.8846 - val_loss: 0.2812 - val_acc: 0.8750\n",
      "Epoch 25/50\n",
      "128/128 [==============================] - 34s 269ms/step - loss: 0.3316 - acc: 0.8849 - val_loss: 0.1721 - val_acc: 0.9375\n",
      "Epoch 26/50\n",
      "128/128 [==============================] - 35s 274ms/step - loss: 0.3291 - acc: 0.8832 - val_loss: 0.1535 - val_acc: 0.9375\n",
      "Epoch 27/50\n",
      "128/128 [==============================] - 35s 272ms/step - loss: 0.3220 - acc: 0.8893 - val_loss: 0.2117 - val_acc: 0.9375\n",
      "Epoch 28/50\n",
      "128/128 [==============================] - 35s 273ms/step - loss: 0.3054 - acc: 0.8916 - val_loss: 0.1563 - val_acc: 0.9375\n",
      "Epoch 29/50\n",
      "128/128 [==============================] - 35s 271ms/step - loss: 0.2990 - acc: 0.8959 - val_loss: 0.2419 - val_acc: 0.9062\n",
      "Epoch 30/50\n",
      "128/128 [==============================] - 35s 273ms/step - loss: 0.2851 - acc: 0.9020 - val_loss: 0.1674 - val_acc: 0.9375\n",
      "Epoch 31/50\n",
      "128/128 [==============================] - 35s 273ms/step - loss: 0.2865 - acc: 0.8996 - val_loss: 0.2856 - val_acc: 0.8750\n",
      "Epoch 32/50\n",
      "128/128 [==============================] - 35s 271ms/step - loss: 0.2778 - acc: 0.9053 - val_loss: 0.1876 - val_acc: 0.9375\n",
      "Epoch 33/50\n",
      "128/128 [==============================] - 35s 271ms/step - loss: 0.2722 - acc: 0.9041 - val_loss: 0.0846 - val_acc: 0.9688\n",
      "Epoch 34/50\n",
      "128/128 [==============================] - 35s 270ms/step - loss: 0.2745 - acc: 0.9053 - val_loss: 0.1634 - val_acc: 0.9688\n",
      "Epoch 35/50\n",
      "128/128 [==============================] - 35s 271ms/step - loss: 0.2717 - acc: 0.9070 - val_loss: 0.1469 - val_acc: 0.9688\n",
      "Epoch 36/50\n",
      "128/128 [==============================] - 34s 268ms/step - loss: 0.2625 - acc: 0.9114 - val_loss: 0.0694 - val_acc: 0.9688\n",
      "Epoch 37/50\n",
      "128/128 [==============================] - 35s 273ms/step - loss: 0.2450 - acc: 0.9158 - val_loss: 0.0817 - val_acc: 0.9688\n",
      "Epoch 38/50\n",
      "128/128 [==============================] - 35s 272ms/step - loss: 0.2503 - acc: 0.9125 - val_loss: 0.1099 - val_acc: 0.9375\n",
      "Epoch 39/50\n",
      "128/128 [==============================] - 35s 274ms/step - loss: 0.2499 - acc: 0.9159 - val_loss: 0.0937 - val_acc: 1.0000\n",
      "Epoch 40/50\n",
      "128/128 [==============================] - 36s 278ms/step - loss: 0.2393 - acc: 0.9183 - val_loss: 0.0922 - val_acc: 0.9688\n",
      "Epoch 41/50\n",
      "128/128 [==============================] - 35s 275ms/step - loss: 0.2406 - acc: 0.9161 - val_loss: 0.0668 - val_acc: 0.9688\n",
      "Epoch 42/50\n",
      "128/128 [==============================] - 35s 272ms/step - loss: 0.2180 - acc: 0.9232 - val_loss: 0.0348 - val_acc: 1.0000\n",
      "Epoch 43/50\n",
      "128/128 [==============================] - 35s 272ms/step - loss: 0.2241 - acc: 0.9238 - val_loss: 0.2094 - val_acc: 0.9062\n",
      "Epoch 44/50\n",
      "128/128 [==============================] - 35s 272ms/step - loss: 0.2199 - acc: 0.9245 - val_loss: 0.0354 - val_acc: 1.0000\n",
      "Epoch 45/50\n",
      "128/128 [==============================] - 34s 269ms/step - loss: 0.2310 - acc: 0.9210 - val_loss: 0.0644 - val_acc: 0.9688\n",
      "Epoch 46/50\n",
      "128/128 [==============================] - 35s 274ms/step - loss: 0.2211 - acc: 0.9258 - val_loss: 0.0382 - val_acc: 1.0000\n",
      "Epoch 47/50\n",
      "128/128 [==============================] - 35s 275ms/step - loss: 0.2041 - acc: 0.9276 - val_loss: 0.0535 - val_acc: 1.0000\n",
      "Epoch 48/50\n",
      "128/128 [==============================] - 35s 275ms/step - loss: 0.2005 - acc: 0.9312 - val_loss: 0.0475 - val_acc: 1.0000\n",
      "Epoch 49/50\n",
      "128/128 [==============================] - 35s 274ms/step - loss: 0.1986 - acc: 0.9326 - val_loss: 0.0553 - val_acc: 1.0000\n",
      "Epoch 50/50\n",
      "128/128 [==============================] - 35s 274ms/step - loss: 0.2016 - acc: 0.9313 - val_loss: 0.0844 - val_acc: 1.0000\n",
      "Wall time: 29min 4s\n"
     ]
    }
   ],
   "source": [
    "%%time\n",
    "history2 = model2.fit_generator(train_gen, steps_per_epoch=128, epochs=50, validation_data=val_gen, validation_steps=50)"
   ]
  },
  {
   "cell_type": "code",
   "execution_count": 73,
   "metadata": {},
   "outputs": [],
   "source": [
    "model2.save('./models/random_samples/128_tanh_sig.h5')"
   ]
  },
  {
   "cell_type": "code",
   "execution_count": 74,
   "metadata": {},
   "outputs": [
    {
     "name": "stdout",
     "output_type": "stream",
     "text": [
      "Found 968 images belonging to 4 classes.\n",
      "test acc: 0.96074378490448\n"
     ]
    }
   ],
   "source": [
    "model2_test_gen=test_datagen.flow_from_directory(test_dir,\n",
    "                                                target_size=(150, 150),\n",
    "                                                batch_size=40,\n",
    "                                                class_mode='categorical'\n",
    "                                               )\n",
    "\n",
    "test_loss, test_acc = model2.evaluate_generator(model2_test_gen, steps=50)\n",
    "print('test acc:', test_acc)"
   ]
  },
  {
   "cell_type": "markdown",
   "metadata": {},
   "source": [
    "`tanh` vs `softmax`"
   ]
  },
  {
   "cell_type": "code",
   "execution_count": 75,
   "metadata": {},
   "outputs": [],
   "source": [
    "model3 = models.Sequential()\n",
    "model3.add(layers.Conv2D(32, (3, 3), activation='tanh',\n",
    "                        input_shape=(150, 150, 3)))\n",
    "model3.add(layers.MaxPooling2D((2, 2)))\n",
    "model3.add(layers.Conv2D(64, (3, 3), activation='tanh'))\n",
    "model3.add(layers.MaxPooling2D((2, 2)))\n",
    "model3.add(layers.Conv2D(128, (3, 3), activation='tanh'))\n",
    "model3.add(layers.MaxPooling2D((2, 2)))\n",
    "model3.add(layers.Conv2D(128, (3, 3), activation='tanh'))\n",
    "model3.add(layers.MaxPooling2D((2, 2)))\n",
    "model3.add(layers.Flatten())\n",
    "model3.add(layers.Dense(512, activation='tanh'))\n",
    "model3.add(layers.Dense(4, activation='softmax'))"
   ]
  },
  {
   "cell_type": "code",
   "execution_count": 76,
   "metadata": {},
   "outputs": [
    {
     "name": "stdout",
     "output_type": "stream",
     "text": [
      "Model: \"sequential_11\"\n",
      "_________________________________________________________________\n",
      "Layer (type)                 Output Shape              Param #   \n",
      "=================================================================\n",
      "conv2d_41 (Conv2D)           (None, 148, 148, 32)      896       \n",
      "_________________________________________________________________\n",
      "max_pooling2d_41 (MaxPooling (None, 74, 74, 32)        0         \n",
      "_________________________________________________________________\n",
      "conv2d_42 (Conv2D)           (None, 72, 72, 64)        18496     \n",
      "_________________________________________________________________\n",
      "max_pooling2d_42 (MaxPooling (None, 36, 36, 64)        0         \n",
      "_________________________________________________________________\n",
      "conv2d_43 (Conv2D)           (None, 34, 34, 128)       73856     \n",
      "_________________________________________________________________\n",
      "max_pooling2d_43 (MaxPooling (None, 17, 17, 128)       0         \n",
      "_________________________________________________________________\n",
      "conv2d_44 (Conv2D)           (None, 15, 15, 128)       147584    \n",
      "_________________________________________________________________\n",
      "max_pooling2d_44 (MaxPooling (None, 7, 7, 128)         0         \n",
      "_________________________________________________________________\n",
      "flatten_11 (Flatten)         (None, 6272)              0         \n",
      "_________________________________________________________________\n",
      "dense_21 (Dense)             (None, 512)               3211776   \n",
      "_________________________________________________________________\n",
      "dense_22 (Dense)             (None, 4)                 2052      \n",
      "=================================================================\n",
      "Total params: 3,454,660\n",
      "Trainable params: 3,454,660\n",
      "Non-trainable params: 0\n",
      "_________________________________________________________________\n"
     ]
    }
   ],
   "source": [
    "model3.summary()"
   ]
  },
  {
   "cell_type": "markdown",
   "metadata": {},
   "source": [
    "## Compilation"
   ]
  },
  {
   "cell_type": "code",
   "execution_count": 77,
   "metadata": {},
   "outputs": [],
   "source": [
    "model3.compile(loss='categorical_crossentropy', optimizer=optimizers.RMSprop(lr=1e-4), metrics=['acc'])"
   ]
  },
  {
   "cell_type": "markdown",
   "metadata": {},
   "source": [
    "## Fit the model with a batch generator"
   ]
  },
  {
   "cell_type": "code",
   "execution_count": 78,
   "metadata": {
    "scrolled": true
   },
   "outputs": [
    {
     "name": "stdout",
     "output_type": "stream",
     "text": [
      "Epoch 1/50\n",
      "128/128 [==============================] - 37s 290ms/step - loss: 1.0484 - acc: 0.5889 - val_loss: 0.9693 - val_acc: 0.5312\n",
      "Epoch 2/50\n",
      "128/128 [==============================] - 35s 270ms/step - loss: 0.7911 - acc: 0.6998 - val_loss: 0.9327 - val_acc: 0.5625\n",
      "Epoch 3/50\n",
      "128/128 [==============================] - 34s 269ms/step - loss: 0.6865 - acc: 0.7408 - val_loss: 0.7524 - val_acc: 0.6562\n",
      "Epoch 4/50\n",
      "128/128 [==============================] - 35s 271ms/step - loss: 0.6303 - acc: 0.7681 - val_loss: 0.6587 - val_acc: 0.7188\n",
      "Epoch 5/50\n",
      "128/128 [==============================] - 34s 267ms/step - loss: 0.5954 - acc: 0.7818 - val_loss: 0.7065 - val_acc: 0.7188\n",
      "Epoch 6/50\n",
      "128/128 [==============================] - 35s 270ms/step - loss: 0.5459 - acc: 0.8035 - val_loss: 0.5864 - val_acc: 0.8125\n",
      "Epoch 7/50\n",
      "128/128 [==============================] - 35s 270ms/step - loss: 0.5262 - acc: 0.8111 - val_loss: 0.5375 - val_acc: 0.8438\n",
      "Epoch 8/50\n",
      "128/128 [==============================] - 35s 270ms/step - loss: 0.5007 - acc: 0.8190 - val_loss: 0.5421 - val_acc: 0.8125\n",
      "Epoch 9/50\n",
      "128/128 [==============================] - 35s 272ms/step - loss: 0.4845 - acc: 0.8248 - val_loss: 0.4380 - val_acc: 0.8750\n",
      "Epoch 10/50\n",
      "128/128 [==============================] - 35s 270ms/step - loss: 0.4672 - acc: 0.8311 - val_loss: 0.4527 - val_acc: 0.8125\n",
      "Epoch 11/50\n",
      "128/128 [==============================] - 35s 273ms/step - loss: 0.4466 - acc: 0.8390 - val_loss: 0.5569 - val_acc: 0.7812\n",
      "Epoch 12/50\n",
      "128/128 [==============================] - 34s 267ms/step - loss: 0.4203 - acc: 0.8483 - val_loss: 0.3755 - val_acc: 0.9062\n",
      "Epoch 13/50\n",
      "128/128 [==============================] - 35s 271ms/step - loss: 0.4258 - acc: 0.8453 - val_loss: 0.3327 - val_acc: 0.8750\n",
      "Epoch 14/50\n",
      "128/128 [==============================] - 35s 272ms/step - loss: 0.4179 - acc: 0.8536 - val_loss: 0.3547 - val_acc: 0.8750\n",
      "Epoch 15/50\n",
      "128/128 [==============================] - 34s 269ms/step - loss: 0.4028 - acc: 0.8604 - val_loss: 0.4663 - val_acc: 0.8125\n",
      "Epoch 16/50\n",
      "128/128 [==============================] - 35s 270ms/step - loss: 0.3873 - acc: 0.8630 - val_loss: 0.4550 - val_acc: 0.7812\n",
      "Epoch 17/50\n",
      "128/128 [==============================] - 35s 270ms/step - loss: 0.3643 - acc: 0.8741 - val_loss: 0.3569 - val_acc: 0.8438\n",
      "Epoch 18/50\n",
      "128/128 [==============================] - 35s 271ms/step - loss: 0.3815 - acc: 0.8681 - val_loss: 0.3070 - val_acc: 0.9062\n",
      "Epoch 19/50\n",
      "128/128 [==============================] - 35s 270ms/step - loss: 0.3561 - acc: 0.8777 - val_loss: 0.3538 - val_acc: 0.8750\n",
      "Epoch 20/50\n",
      "128/128 [==============================] - 35s 270ms/step - loss: 0.3544 - acc: 0.8768 - val_loss: 0.4197 - val_acc: 0.8438\n",
      "Epoch 21/50\n",
      "128/128 [==============================] - 35s 272ms/step - loss: 0.3392 - acc: 0.8826 - val_loss: 0.4349 - val_acc: 0.8438\n",
      "Epoch 22/50\n",
      "128/128 [==============================] - 35s 270ms/step - loss: 0.3195 - acc: 0.8900 - val_loss: 0.3265 - val_acc: 0.8438\n",
      "Epoch 23/50\n",
      "128/128 [==============================] - 35s 270ms/step - loss: 0.3279 - acc: 0.8865 - val_loss: 0.2987 - val_acc: 0.9062\n",
      "Epoch 24/50\n",
      "128/128 [==============================] - 34s 269ms/step - loss: 0.3211 - acc: 0.8877 - val_loss: 0.2844 - val_acc: 0.9375\n",
      "Epoch 25/50\n",
      "128/128 [==============================] - 35s 271ms/step - loss: 0.3141 - acc: 0.8908 - val_loss: 0.2668 - val_acc: 0.9062\n",
      "Epoch 26/50\n",
      "128/128 [==============================] - 34s 268ms/step - loss: 0.2956 - acc: 0.8969 - val_loss: 0.3093 - val_acc: 0.9062\n",
      "Epoch 27/50\n",
      "128/128 [==============================] - 34s 269ms/step - loss: 0.2911 - acc: 0.9019 - val_loss: 0.2719 - val_acc: 0.8750\n",
      "Epoch 28/50\n",
      "128/128 [==============================] - 35s 271ms/step - loss: 0.2757 - acc: 0.9060 - val_loss: 0.1983 - val_acc: 0.9375\n",
      "Epoch 29/50\n",
      "128/128 [==============================] - 34s 267ms/step - loss: 0.2921 - acc: 0.8982 - val_loss: 0.1552 - val_acc: 0.9375\n",
      "Epoch 30/50\n",
      "128/128 [==============================] - 34s 269ms/step - loss: 0.2809 - acc: 0.9037 - val_loss: 0.2557 - val_acc: 0.8750\n",
      "Epoch 31/50\n",
      "128/128 [==============================] - 35s 270ms/step - loss: 0.2652 - acc: 0.9104 - val_loss: 0.2077 - val_acc: 0.9375\n",
      "Epoch 32/50\n",
      "128/128 [==============================] - 35s 270ms/step - loss: 0.2558 - acc: 0.9070 - val_loss: 0.2869 - val_acc: 0.9062\n",
      "Epoch 33/50\n",
      "128/128 [==============================] - 35s 277ms/step - loss: 0.2538 - acc: 0.9143 - val_loss: 0.1634 - val_acc: 0.9375\n",
      "Epoch 34/50\n",
      "128/128 [==============================] - 37s 289ms/step - loss: 0.2635 - acc: 0.9099 - val_loss: 0.3152 - val_acc: 0.8438\n",
      "Epoch 35/50\n",
      "128/128 [==============================] - 36s 282ms/step - loss: 0.2507 - acc: 0.9108 - val_loss: 0.2522 - val_acc: 0.9062\n",
      "Epoch 36/50\n",
      "128/128 [==============================] - 35s 272ms/step - loss: 0.2450 - acc: 0.9164 - val_loss: 0.1888 - val_acc: 0.9375\n",
      "Epoch 37/50\n",
      "128/128 [==============================] - 35s 270ms/step - loss: 0.2226 - acc: 0.9246 - val_loss: 0.1930 - val_acc: 0.9062\n",
      "Epoch 38/50\n",
      "128/128 [==============================] - 35s 270ms/step - loss: 0.2341 - acc: 0.9191 - val_loss: 0.1713 - val_acc: 0.9062\n",
      "Epoch 39/50\n",
      "128/128 [==============================] - 35s 275ms/step - loss: 0.2300 - acc: 0.9213 - val_loss: 0.2482 - val_acc: 0.8438\n",
      "Epoch 40/50\n",
      "128/128 [==============================] - 35s 274ms/step - loss: 0.2256 - acc: 0.9235 - val_loss: 0.1547 - val_acc: 0.9375\n",
      "Epoch 41/50\n",
      "128/128 [==============================] - 35s 270ms/step - loss: 0.2185 - acc: 0.9245 - val_loss: 0.1703 - val_acc: 0.9375\n",
      "Epoch 42/50\n",
      "128/128 [==============================] - 35s 270ms/step - loss: 0.2012 - acc: 0.9308 - val_loss: 0.2302 - val_acc: 0.8750\n",
      "Epoch 43/50\n",
      "128/128 [==============================] - 35s 270ms/step - loss: 0.2055 - acc: 0.9297 - val_loss: 0.1089 - val_acc: 0.9688\n",
      "Epoch 44/50\n",
      "128/128 [==============================] - 35s 271ms/step - loss: 0.2039 - acc: 0.9292 - val_loss: 0.1448 - val_acc: 0.9375\n",
      "Epoch 45/50\n",
      "128/128 [==============================] - 35s 276ms/step - loss: 0.1969 - acc: 0.9352 - val_loss: 0.0712 - val_acc: 0.9688\n",
      "Epoch 46/50\n",
      "128/128 [==============================] - 35s 274ms/step - loss: 0.2058 - acc: 0.9267 - val_loss: 0.1377 - val_acc: 0.9688\n",
      "Epoch 47/50\n",
      "128/128 [==============================] - 36s 278ms/step - loss: 0.1786 - acc: 0.9391 - val_loss: 0.0871 - val_acc: 0.9688\n",
      "Epoch 48/50\n",
      "128/128 [==============================] - 35s 274ms/step - loss: 0.1854 - acc: 0.9361 - val_loss: 0.1064 - val_acc: 0.9062\n",
      "Epoch 49/50\n",
      "128/128 [==============================] - 35s 275ms/step - loss: 0.1815 - acc: 0.9379 - val_loss: 0.0570 - val_acc: 1.0000\n",
      "Epoch 50/50\n",
      "128/128 [==============================] - 35s 274ms/step - loss: 0.1814 - acc: 0.9374 - val_loss: 0.1529 - val_acc: 0.9375\n",
      "Wall time: 29min 1s\n"
     ]
    }
   ],
   "source": [
    "%%time\n",
    "history3 = model3.fit_generator(train_gen, steps_per_epoch=128, epochs=50, validation_data=val_gen, validation_steps=50)"
   ]
  },
  {
   "cell_type": "code",
   "execution_count": 79,
   "metadata": {},
   "outputs": [],
   "source": [
    "model3.save('./models/random_samples/128_tanh_sfm.h5')"
   ]
  },
  {
   "cell_type": "code",
   "execution_count": 80,
   "metadata": {},
   "outputs": [
    {
     "name": "stdout",
     "output_type": "stream",
     "text": [
      "Found 968 images belonging to 4 classes.\n",
      "test acc: 0.9431818127632141\n"
     ]
    }
   ],
   "source": [
    "model3_test_gen=test_datagen.flow_from_directory(test_dir,\n",
    "                                                target_size=(150, 150),\n",
    "                                                batch_size=40,\n",
    "                                                class_mode='categorical'\n",
    "                                               )\n",
    "\n",
    "test_loss, test_acc = model3.evaluate_generator(model3_test_gen, steps=50)\n",
    "print('test acc:', test_acc)"
   ]
  },
  {
   "cell_type": "markdown",
   "metadata": {},
   "source": [
    "`relu` vs `softmax`"
   ]
  },
  {
   "cell_type": "code",
   "execution_count": 81,
   "metadata": {},
   "outputs": [],
   "source": [
    "model4 = models.Sequential()\n",
    "model4.add(layers.Conv2D(32, (3, 3), activation='relu',\n",
    "                        input_shape=(150, 150, 3)))\n",
    "model4.add(layers.MaxPooling2D((2, 2)))\n",
    "model4.add(layers.Conv2D(64, (3, 3), activation='relu'))\n",
    "model4.add(layers.MaxPooling2D((2, 2)))\n",
    "model4.add(layers.Conv2D(128, (3, 3), activation='relu'))\n",
    "model4.add(layers.MaxPooling2D((2, 2)))\n",
    "model4.add(layers.Conv2D(128, (3, 3), activation='relu'))\n",
    "model4.add(layers.MaxPooling2D((2, 2)))\n",
    "model4.add(layers.Flatten())\n",
    "model4.add(layers.Dense(512, activation='relu'))\n",
    "model4.add(layers.Dense(4, activation='softmax'))"
   ]
  },
  {
   "cell_type": "code",
   "execution_count": 82,
   "metadata": {},
   "outputs": [
    {
     "name": "stdout",
     "output_type": "stream",
     "text": [
      "Model: \"sequential_12\"\n",
      "_________________________________________________________________\n",
      "Layer (type)                 Output Shape              Param #   \n",
      "=================================================================\n",
      "conv2d_45 (Conv2D)           (None, 148, 148, 32)      896       \n",
      "_________________________________________________________________\n",
      "max_pooling2d_45 (MaxPooling (None, 74, 74, 32)        0         \n",
      "_________________________________________________________________\n",
      "conv2d_46 (Conv2D)           (None, 72, 72, 64)        18496     \n",
      "_________________________________________________________________\n",
      "max_pooling2d_46 (MaxPooling (None, 36, 36, 64)        0         \n",
      "_________________________________________________________________\n",
      "conv2d_47 (Conv2D)           (None, 34, 34, 128)       73856     \n",
      "_________________________________________________________________\n",
      "max_pooling2d_47 (MaxPooling (None, 17, 17, 128)       0         \n",
      "_________________________________________________________________\n",
      "conv2d_48 (Conv2D)           (None, 15, 15, 128)       147584    \n",
      "_________________________________________________________________\n",
      "max_pooling2d_48 (MaxPooling (None, 7, 7, 128)         0         \n",
      "_________________________________________________________________\n",
      "flatten_12 (Flatten)         (None, 6272)              0         \n",
      "_________________________________________________________________\n",
      "dense_23 (Dense)             (None, 512)               3211776   \n",
      "_________________________________________________________________\n",
      "dense_24 (Dense)             (None, 4)                 2052      \n",
      "=================================================================\n",
      "Total params: 3,454,660\n",
      "Trainable params: 3,454,660\n",
      "Non-trainable params: 0\n",
      "_________________________________________________________________\n"
     ]
    }
   ],
   "source": [
    "model4.summary()"
   ]
  },
  {
   "cell_type": "markdown",
   "metadata": {},
   "source": [
    "## Compilation"
   ]
  },
  {
   "cell_type": "code",
   "execution_count": 83,
   "metadata": {},
   "outputs": [],
   "source": [
    "model4.compile(loss='categorical_crossentropy', optimizer=optimizers.RMSprop(lr=1e-4), metrics=['acc'])"
   ]
  },
  {
   "cell_type": "markdown",
   "metadata": {},
   "source": [
    "## Fit the model with a batch generator"
   ]
  },
  {
   "cell_type": "code",
   "execution_count": 84,
   "metadata": {
    "scrolled": true
   },
   "outputs": [
    {
     "name": "stdout",
     "output_type": "stream",
     "text": [
      "Epoch 1/50\n",
      "128/128 [==============================] - 38s 294ms/step - loss: 1.1036 - acc: 0.5672 - val_loss: 1.1349 - val_acc: 0.5000\n",
      "Epoch 2/50\n",
      "128/128 [==============================] - 35s 277ms/step - loss: 0.8979 - acc: 0.6580 - val_loss: 0.9163 - val_acc: 0.5625\n",
      "Epoch 3/50\n",
      "128/128 [==============================] - 38s 298ms/step - loss: 0.7777 - acc: 0.7047 - val_loss: 0.7781 - val_acc: 0.5938\n",
      "Epoch 4/50\n",
      "128/128 [==============================] - 35s 277ms/step - loss: 0.6875 - acc: 0.7396 - val_loss: 0.6780 - val_acc: 0.6250\n",
      "Epoch 5/50\n",
      "128/128 [==============================] - 35s 275ms/step - loss: 0.6394 - acc: 0.7632 - val_loss: 0.6152 - val_acc: 0.7812\n",
      "Epoch 6/50\n",
      "128/128 [==============================] - 35s 276ms/step - loss: 0.5817 - acc: 0.7873 - val_loss: 0.5732 - val_acc: 0.7500\n",
      "Epoch 7/50\n",
      "128/128 [==============================] - 35s 275ms/step - loss: 0.5572 - acc: 0.7999 - val_loss: 0.5483 - val_acc: 0.7812\n",
      "Epoch 8/50\n",
      "128/128 [==============================] - 35s 273ms/step - loss: 0.5273 - acc: 0.8080 - val_loss: 0.5056 - val_acc: 0.7500\n",
      "Epoch 9/50\n",
      "128/128 [==============================] - 35s 272ms/step - loss: 0.5035 - acc: 0.8201 - val_loss: 0.5609 - val_acc: 0.7500\n",
      "Epoch 10/50\n",
      "128/128 [==============================] - 35s 270ms/step - loss: 0.4883 - acc: 0.8198 - val_loss: 0.5711 - val_acc: 0.7500\n",
      "Epoch 11/50\n",
      "128/128 [==============================] - 35s 271ms/step - loss: 0.4609 - acc: 0.8337 - val_loss: 0.4549 - val_acc: 0.8125\n",
      "Epoch 12/50\n",
      "128/128 [==============================] - 36s 278ms/step - loss: 0.4682 - acc: 0.8299 - val_loss: 0.4289 - val_acc: 0.7812\n",
      "Epoch 13/50\n",
      "128/128 [==============================] - 35s 277ms/step - loss: 0.4463 - acc: 0.8367 - val_loss: 0.4462 - val_acc: 0.8125\n",
      "Epoch 14/50\n",
      "128/128 [==============================] - 35s 272ms/step - loss: 0.4342 - acc: 0.8420 - val_loss: 0.5795 - val_acc: 0.7812\n",
      "Epoch 15/50\n",
      "128/128 [==============================] - 35s 273ms/step - loss: 0.4296 - acc: 0.8439 - val_loss: 0.4609 - val_acc: 0.8125\n",
      "Epoch 16/50\n",
      "128/128 [==============================] - 35s 272ms/step - loss: 0.4169 - acc: 0.8536 - val_loss: 0.3062 - val_acc: 0.8750\n",
      "Epoch 17/50\n",
      "128/128 [==============================] - 35s 274ms/step - loss: 0.4029 - acc: 0.8566 - val_loss: 0.4368 - val_acc: 0.8125\n",
      "Epoch 18/50\n",
      "128/128 [==============================] - 35s 274ms/step - loss: 0.3994 - acc: 0.8569 - val_loss: 0.4995 - val_acc: 0.8125\n",
      "Epoch 19/50\n",
      "128/128 [==============================] - 35s 272ms/step - loss: 0.3854 - acc: 0.8622 - val_loss: 0.3901 - val_acc: 0.8750\n",
      "Epoch 20/50\n",
      "128/128 [==============================] - 35s 272ms/step - loss: 0.3875 - acc: 0.8627 - val_loss: 0.4653 - val_acc: 0.7500\n",
      "Epoch 21/50\n",
      "128/128 [==============================] - 35s 274ms/step - loss: 0.3732 - acc: 0.8650 - val_loss: 0.2367 - val_acc: 0.9062\n",
      "Epoch 22/50\n",
      "128/128 [==============================] - 35s 276ms/step - loss: 0.3516 - acc: 0.8725 - val_loss: 0.4405 - val_acc: 0.8438\n",
      "Epoch 23/50\n",
      "128/128 [==============================] - 35s 273ms/step - loss: 0.3679 - acc: 0.8694 - val_loss: 0.3276 - val_acc: 0.8438\n",
      "Epoch 24/50\n",
      "128/128 [==============================] - 36s 280ms/step - loss: 0.3389 - acc: 0.8801 - val_loss: 0.2825 - val_acc: 0.8438\n",
      "Epoch 25/50\n",
      "128/128 [==============================] - 35s 275ms/step - loss: 0.3450 - acc: 0.8785 - val_loss: 0.2853 - val_acc: 0.8438\n",
      "Epoch 26/50\n",
      "128/128 [==============================] - 35s 275ms/step - loss: 0.3286 - acc: 0.8825 - val_loss: 0.2559 - val_acc: 0.9062\n",
      "Epoch 27/50\n",
      "128/128 [==============================] - 35s 273ms/step - loss: 0.3213 - acc: 0.8871 - val_loss: 0.2483 - val_acc: 0.8438\n",
      "Epoch 28/50\n",
      "128/128 [==============================] - 35s 273ms/step - loss: 0.3227 - acc: 0.8855 - val_loss: 0.2705 - val_acc: 0.9062\n",
      "Epoch 29/50\n",
      "128/128 [==============================] - 35s 276ms/step - loss: 0.3038 - acc: 0.8914 - val_loss: 0.1724 - val_acc: 0.9375\n",
      "Epoch 30/50\n",
      "128/128 [==============================] - 35s 273ms/step - loss: 0.3098 - acc: 0.8888 - val_loss: 0.1844 - val_acc: 0.9062\n",
      "Epoch 31/50\n",
      "128/128 [==============================] - 35s 276ms/step - loss: 0.2973 - acc: 0.8951 - val_loss: 0.2003 - val_acc: 0.9062\n",
      "Epoch 32/50\n",
      "128/128 [==============================] - 35s 271ms/step - loss: 0.2896 - acc: 0.8977 - val_loss: 0.3168 - val_acc: 0.8125\n",
      "Epoch 33/50\n",
      "128/128 [==============================] - 35s 274ms/step - loss: 0.2798 - acc: 0.9031 - val_loss: 0.1530 - val_acc: 0.9375\n",
      "Epoch 34/50\n",
      "128/128 [==============================] - 35s 274ms/step - loss: 0.2770 - acc: 0.9041 - val_loss: 0.2380 - val_acc: 0.8750\n",
      "Epoch 35/50\n",
      "128/128 [==============================] - 35s 272ms/step - loss: 0.2796 - acc: 0.9032 - val_loss: 0.1098 - val_acc: 0.9375\n",
      "Epoch 36/50\n",
      "128/128 [==============================] - 35s 270ms/step - loss: 0.2643 - acc: 0.9072 - val_loss: 0.1054 - val_acc: 0.9688\n",
      "Epoch 37/50\n",
      "128/128 [==============================] - 35s 270ms/step - loss: 0.2584 - acc: 0.9098 - val_loss: 0.0944 - val_acc: 0.9688\n",
      "Epoch 38/50\n",
      "128/128 [==============================] - 35s 270ms/step - loss: 0.2498 - acc: 0.9124 - val_loss: 0.1621 - val_acc: 0.9375\n",
      "Epoch 39/50\n",
      "128/128 [==============================] - 35s 270ms/step - loss: 0.2362 - acc: 0.9164 - val_loss: 0.0886 - val_acc: 0.9688\n",
      "Epoch 40/50\n",
      "128/128 [==============================] - 35s 272ms/step - loss: 0.2531 - acc: 0.9136 - val_loss: 0.0816 - val_acc: 0.9688\n",
      "Epoch 41/50\n",
      "128/128 [==============================] - 35s 272ms/step - loss: 0.2447 - acc: 0.9156 - val_loss: 0.1700 - val_acc: 0.9375\n",
      "Epoch 42/50\n",
      "128/128 [==============================] - 35s 272ms/step - loss: 0.2276 - acc: 0.9201 - val_loss: 0.0658 - val_acc: 1.0000\n",
      "Epoch 43/50\n",
      "128/128 [==============================] - 35s 273ms/step - loss: 0.2259 - acc: 0.9214 - val_loss: 0.1028 - val_acc: 0.9688\n",
      "Epoch 44/50\n",
      "128/128 [==============================] - 35s 271ms/step - loss: 0.2217 - acc: 0.9252 - val_loss: 0.0931 - val_acc: 0.9375\n",
      "Epoch 45/50\n",
      "128/128 [==============================] - 34s 269ms/step - loss: 0.2276 - acc: 0.9222 - val_loss: 0.0952 - val_acc: 0.9375\n",
      "Epoch 46/50\n",
      "128/128 [==============================] - 35s 273ms/step - loss: 0.2245 - acc: 0.9234 - val_loss: 0.0996 - val_acc: 0.9375\n",
      "Epoch 47/50\n",
      "128/128 [==============================] - 34s 267ms/step - loss: 0.2053 - acc: 0.9304 - val_loss: 0.0648 - val_acc: 0.9688\n",
      "Epoch 48/50\n",
      "128/128 [==============================] - 35s 271ms/step - loss: 0.2083 - acc: 0.9256 - val_loss: 0.0868 - val_acc: 0.9688\n",
      "Epoch 49/50\n",
      "128/128 [==============================] - 35s 271ms/step - loss: 0.2043 - acc: 0.9294 - val_loss: 0.0733 - val_acc: 0.9688\n",
      "Epoch 50/50\n",
      "128/128 [==============================] - 35s 273ms/step - loss: 0.2061 - acc: 0.9308 - val_loss: 0.1318 - val_acc: 0.9375\n",
      "Wall time: 29min 13s\n"
     ]
    }
   ],
   "source": [
    "%%time\n",
    "history4 = model4.fit_generator(train_gen, steps_per_epoch=128, epochs=50, validation_data=val_gen, validation_steps=50)"
   ]
  },
  {
   "cell_type": "code",
   "execution_count": 85,
   "metadata": {},
   "outputs": [],
   "source": [
    "model4.save('./models/random_samples/128_relu_sfm.h5')"
   ]
  },
  {
   "cell_type": "code",
   "execution_count": 86,
   "metadata": {},
   "outputs": [
    {
     "name": "stdout",
     "output_type": "stream",
     "text": [
      "Found 968 images belonging to 4 classes.\n",
      "test acc: 0.9669421315193176\n"
     ]
    }
   ],
   "source": [
    "model4_test_gen=test_datagen.flow_from_directory(test_dir,\n",
    "                                                target_size=(150, 150),\n",
    "                                                batch_size=40,\n",
    "                                                class_mode='categorical'\n",
    "                                               )\n",
    "\n",
    "test_loss, test_acc = model4.evaluate_generator(model4_test_gen, steps=50)\n",
    "print('test acc:', test_acc)"
   ]
  },
  {
   "cell_type": "code",
   "execution_count": 87,
   "metadata": {},
   "outputs": [
    {
     "data": {
      "image/png": "[encoded data removed]",
      "text/plain": [
       "<Figure size 1440x720 with 1 Axes>"
      ]
     },
     "metadata": {
      "needs_background": "light"
     },
     "output_type": "display_data"
    }
   ],
   "source": [
    "%matplotlib inline\n",
    "\n",
    "plt.figure(figsize=(20,10))\n",
    "\n",
    "acc1 = history.history['acc']\n",
    "val_acc1 = history.history['val_acc']\n",
    "loss1 = history.history['loss']\n",
    "val_loss1 = history.history['val_loss']\n",
    "\n",
    "acc2 = history2.history['acc']\n",
    "val_acc2 = history2.history['val_acc']\n",
    "loss2 = history2.history['loss']\n",
    "val_loss2 = history2.history['val_loss']\n",
    "\n",
    "acc3 = history3.history['acc']\n",
    "val_acc3 = history3.history['val_acc']\n",
    "loss3 = history3.history['loss']\n",
    "val_loss3 = history3.history['val_loss']\n",
    "\n",
    "acc4 = history4.history['acc']\n",
    "val_acc4 = history4.history['val_acc']\n",
    "loss4 = history4.history['loss']\n",
    "val_loss4 = history4.history['val_loss']\n",
    "\n",
    "epochs = range(len(acc1))\n",
    "\n",
    "plt.plot(epochs, acc1, \"ro\", label=\"relu,sigmoid, Training acc\")\n",
    "plt.plot(epochs, val_acc1, \"r\", label=\"relu,sigmoid, Validation acc\")\n",
    "\n",
    "plt.plot(epochs, acc2, \"go\", label=\"tanh,sigmoid, Training acc\")\n",
    "plt.plot(epochs, val_acc2, \"g\", label=\"tanh,sigmoid, Validation acc\")\n",
    "\n",
    "plt.plot(epochs, acc3, \"mo\", label=\"tanh,softmax, Training acc\")\n",
    "plt.plot(epochs, val_acc3, \"m\", label=\"tanh,softmax, Validation acc\")\n",
    "\n",
    "plt.plot(epochs, acc4, \"bo\", label=\"relu,softmax, Training acc\")\n",
    "plt.plot(epochs, val_acc4, \"b\", label=\"relu,softmax, Validation acc\")\n",
    "\n",
    "plt.title('Random Samples Training and validation loss (Batch_size = 32)', fontsize=12)\n",
    "plt.legend(bbox_to_anchor=(1.05, 1), loc='upper left')\n",
    "\n",
    "plt.xlabel(\"Epochs\", fontsize=12)\n",
    "plt.ylabel(\"Accuracy\", fontsize=12)\n",
    "\n",
    "plt.show()"
   ]
  },
  {
   "cell_type": "code",
   "execution_count": null,
   "metadata": {},
   "outputs": [],
   "source": []
  }
 ],
 "metadata": {
  "kernelspec": {
   "display_name": "Python 3",
   "language": "python",
   "name": "python3"
  },
  "language_info": {
   "codemirror_mode": {
    "name": "ipython",
    "version": 3
   },
   "file_extension": ".py",
   "mimetype": "text/x-python",
   "name": "python",
   "nbconvert_exporter": "python",
   "pygments_lexer": "ipython3",
   "version": "3.7.6"
  }
 },
 "nbformat": 4,
 "nbformat_minor": 4
}
