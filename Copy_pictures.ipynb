{
 "cells": [
  {
   "cell_type": "code",
   "execution_count": 1,
   "metadata": {},
   "outputs": [],
   "source": [
    "import os, shutil"
   ]
  },
  {
   "cell_type": "code",
   "execution_count": 41,
   "metadata": {},
   "outputs": [],
   "source": [
    "# The path to the directory where the original\n",
    "# dataset was uncompressed\n",
    "original_normal_dir = './train/NORMAL'\n",
    "original_cnv_dir = './train/CNV'\n",
    "original_dme_dir = './train/DME'\n",
    "original_drus_dir = './train/DRUSEN'\n",
    "\n",
    "# The directory where we will\n",
    "# store our smaller dataset\n",
    "base_dir = './train/eyes_small'\n",
    "os.mkdir(base_dir)\n",
    "\n",
    "# Directories for our training,\n",
    "# validation and test splits\n",
    "train_dir = os.path.join(base_dir, 'train')\n",
    "os.mkdir(train_dir)\n",
    "validation_dir = os.path.join(base_dir, 'validation')\n",
    "os.mkdir(validation_dir)\n",
    "test_dir = os.path.join(base_dir, 'test')\n",
    "os.mkdir(test_dir)\n",
    "\n",
    "# Directory with our training NORMAL pictures\n",
    "train_norm_dir = os.path.join(train_dir, 'NORMAL')\n",
    "os.mkdir(train_norm_dir)\n",
    "\n",
    "# Directory with our training CNV pictures\n",
    "train_cnv_dir = os.path.join(train_dir, 'CNV')\n",
    "os.mkdir(train_cnv_dir)\n",
    "\n",
    "# Directory with our training DME pictures\n",
    "train_dme_dir = os.path.join(train_dir, 'DME')\n",
    "os.mkdir(train_dme_dir)\n",
    "\n",
    "# Directory with our training DRUSEN pictures\n",
    "train_drus_dir = os.path.join(train_dir, 'DRUSEN')\n",
    "os.mkdir(train_drus_dir)\n",
    "\n",
    "# Directory with our validation NORMAL pictures\n",
    "validation_norm_dir = os.path.join(validation_dir, 'NORMAL')\n",
    "os.mkdir(validation_norm_dir)\n",
    "\n",
    "# Directory with our validation CNV pictures\n",
    "validation_cnv_dir = os.path.join(validation_dir, 'CNV')\n",
    "os.mkdir(validation_cnv_dir)\n",
    "\n",
    "# Directory with our validation DME pictures\n",
    "validation_dme_dir = os.path.join(validation_dir, 'DME')\n",
    "os.mkdir(validation_dme_dir)\n",
    "\n",
    "# Directory with our validation DRUSEN pictures\n",
    "validation_drus_dir = os.path.join(validation_dir, 'DRUSEN')\n",
    "os.mkdir(validation_drus_dir)\n",
    "\n",
    "# Directory with our test NORMAL pictures\n",
    "test_norm_dir = os.path.join(test_dir, 'NORMAL')\n",
    "os.mkdir(test_norm_dir)\n",
    "\n",
    "# Directory with our test CNV pictures\n",
    "test_cnv_dir = os.path.join(test_dir, 'CNV')\n",
    "os.mkdir(test_cnv_dir)\n",
    "\n",
    "# Directory with our test DME pictures\n",
    "test_dme_dir = os.path.join(test_dir, 'DME')\n",
    "os.mkdir(test_dme_dir)\n",
    "\n",
    "# Directory with our test DRUSEN pictures\n",
    "test_drus_dir = os.path.join(test_dir, 'DRUSEN')\n",
    "os.mkdir(test_drus_dir)"
   ]
  },
  {
   "cell_type": "code",
   "execution_count": 42,
   "metadata": {},
   "outputs": [],
   "source": [
    "# Pull 8500 NORMAL eye images for training, validation, and testing\n",
    "\n",
    "for i, pic in enumerate(os.listdir(original_normal_dir)):\n",
    "    \n",
    "    # First 7500 NORMAL eye images for training\n",
    "    if i in range(7500):\n",
    "        src = os.path.join(original_normal_dir, pic)\n",
    "        dst = os.path.join(train_norm_dir, pic)\n",
    "        shutil.copyfile(src, dst)\n",
    "        \n",
    "    # Next 500 NORMAL eye images for validation    \n",
    "    elif i in range(7500, 8000):\n",
    "        src = os.path.join(original_normal_dir, pic)\n",
    "        dst = os.path.join(validation_norm_dir, pic)\n",
    "        shutil.copyfile(src, dst)\n",
    "        \n",
    "    # Next 500 NORMAL eye images for testing    \n",
    "    elif i in range(8000, 8500):\n",
    "        src = os.path.join(original_normal_dir, pic)\n",
    "        dst = os.path.join(test_norm_dir, pic)\n",
    "        shutil.copyfile(src, dst)\n",
    "    else:\n",
    "        break"
   ]
  },
  {
   "cell_type": "code",
   "execution_count": 43,
   "metadata": {},
   "outputs": [],
   "source": [
    "# Pull 8500 CNV eye images for training, validation, and testing\n",
    "for i, pic in enumerate(os.listdir(original_cnv_dir)):\n",
    "    \n",
    "    # First 7500 CNV eye images for training\n",
    "    if i in range(7500):\n",
    "        src = os.path.join(original_cnv_dir, pic)\n",
    "        dst = os.path.join(train_cnv_dir, pic)\n",
    "        shutil.copyfile(src, dst)\n",
    "        \n",
    "    # Next 500 CNV eye images for validation    \n",
    "    elif i in range(7500, 8000):\n",
    "        src = os.path.join(original_cnv_dir, pic)\n",
    "        dst = os.path.join(validation_cnv_dir, pic)\n",
    "        shutil.copyfile(src, dst)\n",
    "        \n",
    "    # Next 500 CNV eye images for testing    \n",
    "    elif i in range(8000, 8500):\n",
    "        src = os.path.join(original_cnv_dir, pic)\n",
    "        dst = os.path.join(test_cnv_dir, pic)\n",
    "        shutil.copyfile(src, dst)\n",
    "    else:\n",
    "        break"
   ]
  },
  {
   "cell_type": "code",
   "execution_count": 44,
   "metadata": {},
   "outputs": [],
   "source": [
    "# Pull 8500 DME eye images for training, validation, and testing\n",
    "\n",
    "for i, pic in enumerate(os.listdir(original_dme_dir)):\n",
    "    \n",
    "    # First 7500 DME eye images for training\n",
    "    if i in range(7500):\n",
    "        src = os.path.join(original_dme_dir, pic)\n",
    "        dst = os.path.join(train_dme_dir, pic)\n",
    "        shutil.copyfile(src, dst)\n",
    "        \n",
    "    # Next 500 DME eye images for validation    \n",
    "    elif i in range(7500, 8000):\n",
    "        src = os.path.join(original_dme_dir, pic)\n",
    "        dst = os.path.join(validation_dme_dir, pic)\n",
    "        shutil.copyfile(src, dst)\n",
    "        \n",
    "    # Next 500 DME eye images for testing    \n",
    "    elif i in range(8000, 8500):\n",
    "        src = os.path.join(original_dme_dir, pic)\n",
    "        dst = os.path.join(test_dme_dir, pic)\n",
    "        shutil.copyfile(src, dst)\n",
    "    else:\n",
    "        break"
   ]
  },
  {
   "cell_type": "code",
   "execution_count": 45,
   "metadata": {},
   "outputs": [],
   "source": [
    "# Pull 8500 DRUSEN eye images for training, validation, and testing\n",
    "\n",
    "for i, pic in enumerate(os.listdir(original_drus_dir)):\n",
    "    \n",
    "    # First 7500 DRUSEN eye images for training\n",
    "    if i in range(7500):\n",
    "        src = os.path.join(original_drus_dir, pic)\n",
    "        dst = os.path.join(train_drus_dir, pic)\n",
    "        shutil.copyfile(src, dst)\n",
    "        \n",
    "    # Next 500 DRUSEN eye images for validation    \n",
    "    elif i in range(7500, 8000):\n",
    "        src = os.path.join(original_drus_dir, pic)\n",
    "        dst = os.path.join(validation_drus_dir, pic)\n",
    "        shutil.copyfile(src, dst)\n",
    "        \n",
    "    # Next 500 DRUSEN eye images for testing    \n",
    "    elif i in range(8000, 8500):\n",
    "        src = os.path.join(original_drus_dir, pic)\n",
    "        dst = os.path.join(test_drus_dir, pic)\n",
    "        shutil.copyfile(src, dst)\n",
    "    else:\n",
    "        break"
   ]
  },
  {
   "cell_type": "code",
   "execution_count": 46,
   "metadata": {},
   "outputs": [
    {
     "name": "stdout",
     "output_type": "stream",
     "text": [
      "total training NORMAL images: 7500\n"
     ]
    }
   ],
   "source": [
    "print('total training NORMAL images:', len(os.listdir(train_norm_dir)))"
   ]
  },
  {
   "cell_type": "code",
   "execution_count": 47,
   "metadata": {},
   "outputs": [
    {
     "name": "stdout",
     "output_type": "stream",
     "text": [
      "total training CNV images: 7500\n"
     ]
    }
   ],
   "source": [
    "print('total training CNV images:', len(os.listdir(train_cnv_dir)))"
   ]
  },
  {
   "cell_type": "code",
   "execution_count": 48,
   "metadata": {},
   "outputs": [
    {
     "name": "stdout",
     "output_type": "stream",
     "text": [
      "total training DME images: 7500\n"
     ]
    }
   ],
   "source": [
    "print('total training DME images:', len(os.listdir(train_dme_dir)))"
   ]
  },
  {
   "cell_type": "code",
   "execution_count": 49,
   "metadata": {},
   "outputs": [
    {
     "name": "stdout",
     "output_type": "stream",
     "text": [
      "total training DRUSEN images: 7500\n"
     ]
    }
   ],
   "source": [
    "print('total training DRUSEN images:', len(os.listdir(train_drus_dir)))"
   ]
  },
  {
   "cell_type": "code",
   "execution_count": 50,
   "metadata": {},
   "outputs": [
    {
     "name": "stdout",
     "output_type": "stream",
     "text": [
      "total validation NORMAL images: 500\n"
     ]
    }
   ],
   "source": [
    "print('total validation NORMAL images:', len(os.listdir(validation_norm_dir)))"
   ]
  },
  {
   "cell_type": "code",
   "execution_count": 51,
   "metadata": {},
   "outputs": [
    {
     "name": "stdout",
     "output_type": "stream",
     "text": [
      "total validation CNV images: 500\n"
     ]
    }
   ],
   "source": [
    "print('total validation CNV images:', len(os.listdir(validation_cnv_dir)))"
   ]
  },
  {
   "cell_type": "code",
   "execution_count": 52,
   "metadata": {},
   "outputs": [
    {
     "name": "stdout",
     "output_type": "stream",
     "text": [
      "total validation DME images: 500\n"
     ]
    }
   ],
   "source": [
    "print('total validation DME images:', len(os.listdir(validation_dme_dir)))"
   ]
  },
  {
   "cell_type": "code",
   "execution_count": 53,
   "metadata": {},
   "outputs": [
    {
     "name": "stdout",
     "output_type": "stream",
     "text": [
      "total validation DRUSEN images: 500\n"
     ]
    }
   ],
   "source": [
    "print('total validation DRUSEN images:', len(os.listdir(validation_drus_dir)))"
   ]
  },
  {
   "cell_type": "code",
   "execution_count": 54,
   "metadata": {},
   "outputs": [
    {
     "name": "stdout",
     "output_type": "stream",
     "text": [
      "total test NORMAL images: 500\n"
     ]
    }
   ],
   "source": [
    "print('total test NORMAL images:', len(os.listdir(test_norm_dir)))"
   ]
  },
  {
   "cell_type": "code",
   "execution_count": 55,
   "metadata": {},
   "outputs": [
    {
     "name": "stdout",
     "output_type": "stream",
     "text": [
      "total test CNV images: 500\n"
     ]
    }
   ],
   "source": [
    "print('total test CNV images:', len(os.listdir(test_cnv_dir)))"
   ]
  },
  {
   "cell_type": "code",
   "execution_count": 56,
   "metadata": {},
   "outputs": [
    {
     "name": "stdout",
     "output_type": "stream",
     "text": [
      "total test DME images: 500\n"
     ]
    }
   ],
   "source": [
    "print('total test DME images:', len(os.listdir(test_dme_dir)))"
   ]
  },
  {
   "cell_type": "code",
   "execution_count": 57,
   "metadata": {},
   "outputs": [
    {
     "name": "stdout",
     "output_type": "stream",
     "text": [
      "total test DRUSEN images: 500\n"
     ]
    }
   ],
   "source": [
    "print('total test DRUSEN images:', len(os.listdir(test_drus_dir)))"
   ]
  }
 ],
 "metadata": {
  "kernelspec": {
   "display_name": "Python 3",
   "language": "python",
   "name": "python3"
  },
  "language_info": {
   "codemirror_mode": {
    "name": "ipython",
    "version": 3
   },
   "file_extension": ".py",
   "mimetype": "text/x-python",
   "name": "python",
   "nbconvert_exporter": "python",
   "pygments_lexer": "ipython3",
   "version": "3.7.3"
  }
 },
 "nbformat": 4,
 "nbformat_minor": 4
}
