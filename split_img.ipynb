{
 "cells": [
  {
   "cell_type": "code",
   "execution_count": 1,
   "metadata": {},
   "outputs": [
    {
     "data": {
      "text/plain": [
       "'E:\\\\Projects\\\\Drexel\\\\DSCI 631 Applied ML\\\\Group Project'"
      ]
     },
     "execution_count": 1,
     "metadata": {},
     "output_type": "execute_result"
    }
   ],
   "source": [
    "pwd"
   ]
  },
  {
   "cell_type": "code",
   "execution_count": 1,
   "metadata": {},
   "outputs": [],
   "source": [
    "import os, shutil, glob"
   ]
  },
  {
   "cell_type": "code",
   "execution_count": 2,
   "metadata": {},
   "outputs": [],
   "source": [
    "## import all csv to one df\n",
    "\n",
    "path_norm = r'.\\data\\OCT2017\\train\\NORMAL'\n",
    "all_files_norm = glob.glob(path_norm + \"/*.jpeg\")\n",
    "\n",
    "path_dru = r'.\\data\\OCT2017\\train\\DRUSEN'\n",
    "all_files_dru = glob.glob(path_dru + \"/*.jpeg\")\n",
    "\n",
    "path_dme = r'.\\data\\OCT2017\\train\\DME'\n",
    "all_files_dme = glob.glob(path_dme + \"/*.jpeg\")\n",
    "\n",
    "path_CNV = r'.\\data\\OCT2017\\train\\CNV'\n",
    "all_files_CNV = glob.glob(path_CNV + \"/*.jpeg\")"
   ]
  },
  {
   "cell_type": "code",
   "execution_count": 3,
   "metadata": {},
   "outputs": [
    {
     "data": {
      "text/plain": [
       "(26315, 8616, 11348, 37205)"
      ]
     },
     "execution_count": 3,
     "metadata": {},
     "output_type": "execute_result"
    }
   ],
   "source": [
    "len(all_files_norm),len(all_files_dru),len(all_files_dme),len(all_files_CNV)"
   ]
  },
  {
   "cell_type": "code",
   "execution_count": 4,
   "metadata": {},
   "outputs": [],
   "source": [
    "# The path to the directory where the original\n",
    "# dataset was uncompressed\n",
    "original_normal_dir = r'.\\data\\OCT2017\\train\\NORMAL'\n",
    "original_cnv_dir = r'.\\data\\OCT2017\\train\\CNV'\n",
    "original_dme_dir = r'.\\data\\OCT2017\\train\\DME'\n",
    "original_drus_dir = r'.\\data\\OCT2017\\train\\DRUSEN'"
   ]
  },
  {
   "cell_type": "markdown",
   "metadata": {},
   "source": [
    "### Create directories for training, validation and testing"
   ]
  },
  {
   "cell_type": "code",
   "execution_count": 7,
   "metadata": {},
   "outputs": [],
   "source": [
    "# The directory where we will\n",
    "# store our splitted dataset\n",
    "base_dir = r'.\\data\\OCT2017\\stratified_data'\n",
    "# os.mkdir(base_dir)"
   ]
  },
  {
   "cell_type": "code",
   "execution_count": 8,
   "metadata": {},
   "outputs": [],
   "source": [
    "# Directories for our training,\n",
    "# validation and test splits\n",
    "train_dir = os.path.join(base_dir, 'train')\n",
    "# os.mkdir(train_dir)\n",
    "validation_dir = os.path.join(base_dir, 'validation')\n",
    "# os.mkdir(validation_dir)\n",
    "test_dir = os.path.join(base_dir, 'test')\n",
    "# os.mkdir(test_dir)\n",
    "\n",
    "# Directory with our training NORMAL pictures\n",
    "train_norm_dir = os.path.join(train_dir, 'NORMAL')\n",
    "# os.mkdir(train_norm_dir)\n",
    "\n",
    "# Directory with our training CNV pictures\n",
    "train_cnv_dir = os.path.join(train_dir, 'CNV')\n",
    "# os.mkdir(train_cnv_dir)\n",
    "\n",
    "# Directory with our training DME pictures\n",
    "train_dme_dir = os.path.join(train_dir, 'DME')\n",
    "# os.mkdir(train_dme_dir)\n",
    "\n",
    "# Directory with our training DRUSEN pictures\n",
    "train_drus_dir = os.path.join(train_dir, 'DRUSEN')\n",
    "# os.mkdir(train_drus_dir)\n",
    "\n",
    "# Directory with our validation NORMAL pictures\n",
    "validation_norm_dir = os.path.join(validation_dir, 'NORMAL')\n",
    "# os.mkdir(validation_norm_dir)\n",
    "\n",
    "# Directory with our validation CNV pictures\n",
    "validation_cnv_dir = os.path.join(validation_dir, 'CNV')\n",
    "# os.mkdir(validation_cnv_dir)\n",
    "\n",
    "# Directory with our validation DME pictures\n",
    "validation_dme_dir = os.path.join(validation_dir, 'DME')\n",
    "# os.mkdir(validation_dme_dir)\n",
    "\n",
    "# Directory with our validation DRUSEN pictures\n",
    "validation_drus_dir = os.path.join(validation_dir, 'DRUSEN')\n",
    "# os.mkdir(validation_drus_dir)\n",
    "\n",
    "# Directory with our test NORMAL pictures\n",
    "test_norm_dir = os.path.join(test_dir, 'NORMAL')\n",
    "# os.mkdir(test_norm_dir)\n",
    "\n",
    "# Directory with our test CNV pictures\n",
    "test_cnv_dir = os.path.join(test_dir, 'CNV')\n",
    "# os.mkdir(test_cnv_dir)\n",
    "\n",
    "# Directory with our test DME pictures\n",
    "test_dme_dir = os.path.join(test_dir, 'DME')\n",
    "# os.mkdir(test_dme_dir)\n",
    "\n",
    "# Directory with our test DRUSEN pictures\n",
    "test_drus_dir = os.path.join(test_dir, 'DRUSEN')\n",
    "# os.mkdir(test_drus_dir)"
   ]
  },
  {
   "cell_type": "markdown",
   "metadata": {},
   "source": [
    "### Splitting data"
   ]
  },
  {
   "cell_type": "code",
   "execution_count": 9,
   "metadata": {},
   "outputs": [],
   "source": [
    "from sklearn.model_selection import train_test_split"
   ]
  },
  {
   "cell_type": "code",
   "execution_count": 10,
   "metadata": {},
   "outputs": [],
   "source": [
    "## get file list\n",
    "norm_list = os.listdir(original_normal_dir)\n",
    "cnv_list = os.listdir(original_cnv_dir)\n",
    "dme_list = os.listdir(original_dme_dir)\n",
    "drus_list = os.listdir(original_drus_dir)"
   ]
  },
  {
   "cell_type": "code",
   "execution_count": 11,
   "metadata": {
    "scrolled": true
   },
   "outputs": [],
   "source": [
    "\"\"\"\n",
    "Split training and testing data\n",
    "No mod when len(training) is divided by 128\n",
    "\"\"\"\n",
    "## NORMAL\n",
    "train_norm, test_norm = train_test_split(norm_list, test_size=5451, random_state = 42)\n",
    "\n",
    "## DRU\n",
    "train_drus, test_drus = train_test_split(drus_list, test_size=1832, random_state = 42)\n",
    "\n",
    "## DME\n",
    "train_dme, test_dme = train_test_split(dme_list, test_size=2388, random_state = 42)\n",
    "\n",
    "## CNV\n",
    "train_cnv, test_cnv = train_test_split(cnv_list, test_size=7637, random_state = 42)"
   ]
  },
  {
   "cell_type": "code",
   "execution_count": 14,
   "metadata": {},
   "outputs": [],
   "source": [
    "\"\"\"\n",
    "Split validation from training data\n",
    "Copy img files to folders\n",
    "\"\"\"\n",
    "def train_val_split(batch_size, batch_num, dataset, original_dir, validation_dir, train_dir):\n",
    "    ## get training\n",
    "    for pic in dataset[:batch_size*batch_num]:\n",
    "        src = os.path.join(original_dir, pic)\n",
    "        dst = os.path.join(train_dir, pic)\n",
    "        shutil.copyfile(src, dst)\n",
    "    \n",
    "    print(\"Finished Copying Training Set\")\n",
    "    \n",
    "    ## get validation\n",
    "    for pic in dataset[batch_size*batch_num:]:\n",
    "        src = os.path.join(original_dir, pic)\n",
    "        dst = os.path.join(validation_dir, pic)\n",
    "        shutil.copyfile(src, dst)\n",
    "    print(\"Finished Copying Validation Set\")    \n",
    "    \n",
    "def copy_test_img(dataset, original_dir, test_dir):\n",
    "    for pic in dataset:\n",
    "        src = os.path.join(original_dir, pic)\n",
    "        dst = os.path.join(test_dir, pic)\n",
    "        shutil.copyfile(src, dst)\n",
    "    print(\"Finished Copying Testing Set\")"
   ]
  },
  {
   "cell_type": "code",
   "execution_count": 15,
   "metadata": {},
   "outputs": [
    {
     "data": {
      "text/plain": [
       "'NORMAL-557437-28.jpeg'"
      ]
     },
     "execution_count": 15,
     "metadata": {},
     "output_type": "execute_result"
    }
   ],
   "source": [
    "train_norm[153*128+1]"
   ]
  },
  {
   "cell_type": "code",
   "execution_count": 16,
   "metadata": {},
   "outputs": [
    {
     "name": "stdout",
     "output_type": "stream",
     "text": [
      "Finished Copying Training Set\n",
      "Finished Copying Validation Set\n",
      "Finished Copying Testing Set\n",
      "Wall time: 1min 16s\n"
     ]
    }
   ],
   "source": [
    "%%time\n",
    "## NORMAL\n",
    "train_val_split(batch_size=128, \n",
    "                batch_num=153, \n",
    "                dataset=train_norm,\n",
    "                original_dir=original_normal_dir,\n",
    "                validation_dir=validation_norm_dir,\n",
    "                train_dir=train_norm_dir\n",
    "               )\n",
    "\n",
    "copy_test_img(test_norm, \n",
    "              original_dir=original_normal_dir,\n",
    "              test_dir=test_norm_dir\n",
    "             )"
   ]
  },
  {
   "cell_type": "code",
   "execution_count": 17,
   "metadata": {},
   "outputs": [
    {
     "name": "stdout",
     "output_type": "stream",
     "text": [
      "Finished Copying Training Set\n",
      "Finished Copying Validation Set\n",
      "Finished Copying Testing Set\n",
      "Wall time: 3min 6s\n"
     ]
    }
   ],
   "source": [
    "%%time\n",
    "## CNV\n",
    "train_val_split(batch_size=128, \n",
    "                batch_num=217, \n",
    "                dataset=train_cnv,\n",
    "                original_dir=original_cnv_dir,\n",
    "                validation_dir=validation_cnv_dir,\n",
    "                train_dir=train_cnv_dir\n",
    "               )\n",
    "\n",
    "copy_test_img(test_cnv, \n",
    "              original_dir=original_cnv_dir,\n",
    "              test_dir=test_cnv_dir\n",
    "             )"
   ]
  },
  {
   "cell_type": "code",
   "execution_count": 18,
   "metadata": {},
   "outputs": [
    {
     "name": "stdout",
     "output_type": "stream",
     "text": [
      "Finished Copying Training Set\n",
      "Finished Copying Validation Set\n",
      "Finished Copying Testing Set\n",
      "Wall time: 58.2 s\n"
     ]
    }
   ],
   "source": [
    "%%time\n",
    "## DME\n",
    "train_val_split(batch_size=128, \n",
    "                batch_num=66, \n",
    "                dataset=train_dme,\n",
    "                original_dir=original_dme_dir,\n",
    "                validation_dir=validation_dme_dir,\n",
    "                train_dir=train_dme_dir\n",
    "               )\n",
    "\n",
    "copy_test_img(test_dme, \n",
    "              original_dir=original_dme_dir,\n",
    "              test_dir=test_dme_dir\n",
    "             )"
   ]
  },
  {
   "cell_type": "code",
   "execution_count": 19,
   "metadata": {},
   "outputs": [
    {
     "name": "stdout",
     "output_type": "stream",
     "text": [
      "Finished Copying Training Set\n",
      "Finished Copying Validation Set\n",
      "Finished Copying Testing Set\n",
      "Wall time: 41.2 s\n"
     ]
    }
   ],
   "source": [
    "%%time\n",
    "## DRU\n",
    "train_val_split(batch_size=128, \n",
    "                batch_num=50, \n",
    "                dataset=train_drus,\n",
    "                original_dir=original_drus_dir,\n",
    "                validation_dir=validation_drus_dir,\n",
    "                train_dir=train_drus_dir\n",
    "               )\n",
    "\n",
    "copy_test_img(test_drus, \n",
    "              original_dir=original_drus_dir,\n",
    "              test_dir=test_drus_dir\n",
    "             )"
   ]
  },
  {
   "cell_type": "code",
   "execution_count": null,
   "metadata": {},
   "outputs": [],
   "source": []
  }
 ],
 "metadata": {
  "kernelspec": {
   "display_name": "Python 3",
   "language": "python",
   "name": "python3"
  },
  "language_info": {
   "codemirror_mode": {
    "name": "ipython",
    "version": 3
   },
   "file_extension": ".py",
   "mimetype": "text/x-python",
   "name": "python",
   "nbconvert_exporter": "python",
   "pygments_lexer": "ipython3",
   "version": "3.7.6"
  }
 },
 "nbformat": 4,
 "nbformat_minor": 4
}
